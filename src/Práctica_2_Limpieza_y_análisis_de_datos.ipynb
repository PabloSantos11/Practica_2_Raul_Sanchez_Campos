{
  "nbformat": 4,
  "nbformat_minor": 0,
  "metadata": {
    "colab": {
      "name": "Práctica 2: Limpieza y análisis de datos.ipynb",
      "provenance": [],
      "collapsed_sections": [
        "h8WHGLqmBSuI",
        "tNpr0RcRCanH"
      ]
    },
    "kernelspec": {
      "name": "python3",
      "display_name": "Python 3"
    },
    "language_info": {
      "name": "python"
    }
  },
  "cells": [
    {
      "cell_type": "markdown",
      "metadata": {
        "id": "tjDRAL7i3VWr"
      },
      "source": [
        "# Práctica 2: Limpieza y análisis de datos"
      ]
    },
    {
      "cell_type": "markdown",
      "metadata": {
        "id": "aHXD0HaK3k0b"
      },
      "source": [
        "## 1. Descripción del dataset. ¿Por qué es importante y qué pregunta/problema pretende responder?"
      ]
    },
    {
      "cell_type": "markdown",
      "metadata": {
        "id": "q5mQMKx_5KQy"
      },
      "source": [
        "<p align=\"justify\">\n",
        "Este set de datos contiene diferentes precios de venta con respecto al tipo de casas en EE. UU, Hay 80 variables que dan la propiedad de la casa y la variable predicha está en el último precio de venta de esta\n",
        "</p>"
      ]
    },
    {
      "cell_type": "markdown",
      "metadata": {
        "id": "Jq22gHR5JhOw"
      },
      "source": [
        "<p align=\"justify\">\n",
        "La variable 'SalePrice' es la variable a predecir dentro de este conjunto de datos. Mas adelante se realizar una predicción al valor de esta variable después del debido análisis exploratorio, por lo cual es la que se va a estudiar con mayor detenimiento \n",
        "</p>"
      ]
    },
    {
      "cell_type": "markdown",
      "metadata": {
        "id": "F59Skbls9731"
      },
      "source": [
        "https://www.kaggle.com/gpandi007/usa-housing-dataset"
      ]
    },
    {
      "cell_type": "markdown",
      "metadata": {
        "id": "Ij_QXuYN6mQj"
      },
      "source": [
        "# 2. Integración y selección de los datos de interés a analizar\n",
        "\n",
        "\n",
        "\n"
      ]
    },
    {
      "cell_type": "markdown",
      "metadata": {
        "id": "tJQkZ9mX65oE"
      },
      "source": [
        "- SalesPrice: el precio de venta de la propiedad en dólares. Esta es la variable objetivo que está tratando de predecir.\n",
        "- MSSubClass: la clase de construcción\n",
        "- MSZoning: la clasificación general de zonificación\n",
        "- LotFrontage: pies lineales de calle conectados a la propiedad\n",
        "- LotArea: Tamaño del lote en pies cuadrados\n",
        "- Calle: Tipo de acceso por carretera\n",
        "- Callejón: Tipo de acceso al callejón\n",
        "- LotShape: forma general de la propiedad\n",
        "- LandContour: Planitud de la propiedad\n",
        "- Utilidades: tipo de utilidades disponibles\n",
        "- LotConfig: configuración del lote\n",
        "- LandSlope: Pendiente de la propiedad\n",
        "- Vecindario: ubicaciones físicas dentro de los límites de la ciudad de Ames\n",
        "- Condition1: Proximidad a la carretera principal o al ferrocarril\n",
        "- Condición 2: Proximidad a la carretera principal o al ferrocarril (si hay un segundo)\n",
        "- BldgType: Tipo de vivienda\n",
        "- HouseStyle: estilo de vivienda\n",
        "- OverallQual: Material general y calidad de acabado.\n",
        "- OverallCond: Calificación de estado general\n",
        "- Año de construcción: fecha de construcción original\n",
        "- YearRemodAdd: fecha de remodelación\n",
        "- RoofStyle: Tipo de techo\n",
        "- RoofMatl: material del techo\n",
        "- Exterior1st: Revestimiento exterior de la casa\n",
        "- Exterior2nd: Revestimiento exterior de la casa (si hay más de un material)\n",
        "- MasVnrType: tipo de chapa de mampostería\n",
        "- MasVnrArea: Área de revestimiento de mampostería en pies cuadrados\n",
        "- ExterQual: Calidad del material exterior\n",
        "- ExterCond: Estado actual del material en el exterior\n",
        "- Fundación: Tipo de fundación\n",
        "- BsmtQual: Altura del sótano\n",
        "- BsmtCond: Estado general del sótano\n",
        "- BsmtExposure: Paredes de sótano a nivel de jardín o de salida\n",
        "- BsmtFinType1: Calidad del área terminada del sótano\n",
        "- BsmtFinSF1: pies cuadrados terminados tipo 1\n",
        "- BsmtFinType2: Calidad de la segunda área terminada (si está presente)\n",
        "- BsmtFinSF2: pies cuadrados con acabado tipo 2\n",
        "- BsmtUnfSF: pies cuadrados sin terminar de área del sótano\n",
        "- TotalBsmtSF: Total de pies cuadrados de área del sótano\n",
        "- Calefacción: Tipo de calefacción\n",
        "- Calefacción QC: calidad y estado de la calefacción\n",
        "- CentralAir: aire acondicionado central\n",
        "- Eléctrico: sistema eléctrico\n",
        "- 1stFlrSF: pies cuadrados del primer piso\n",
        "- 2ndFlrSF: pies cuadrados del segundo piso\n",
        "- LowQualFinSF: pies cuadrados con acabado de baja calidad (todos los pisos)\n",
        "- GrLivArea: pies cuadrados de área habitable sobre el nivel (suelo)\n",
        "- BsmtFullBath: Baños completos en el sótano\n",
        "- BsmtHalfBath: Medios baños del sótano\n",
        "- FullBath: baños completos sobre rasante\n",
        "- HalfBath: Medios baños sobre el nivel del suelo\n",
        "- Dormitorio: número de dormitorios sobre el nivel del sótano\n",
        "- Cocina: Número de cocinas\n",
        "- KitchenQual: calidad de la cocina\n",
        "- TotRmsAbvGrd: Total de habitaciones sobre rasante (no incluye baños)\n",
        "- Funcional: clasificación de funcionalidad del hogar\n",
        "- Chimeneas: Número de chimeneas\n",
        "- FireplaceQu: Calidad de chimenea\n",
        "- GarageType: Ubicación del garaje\n",
        "- GarageYrBlt: año en que se construyó el garaje\n",
        "- GarageFinish: Acabado interior del garaje\n",
        "- GarageCars: Tamaño del garaje en capacidad de automóvil\n",
        "- GarageArea: Tamaño del garaje en pies cuadrados\n",
        "- GarageQual: Calidad de garaje\n",
        "- GarageCond: Estado del garaje\n",
        "- PavedDrive: entrada pavimentada\n",
        "- WoodDeckSF: Área de la plataforma de madera en pies cuadrados\n",
        "- OpenPorchSF: Área de porche abierto en pies cuadrados\n",
        "- Porche cerrado: área de porche cerrado en pies cuadrados\n",
        "- 3SsnPorch: área de porche de tres estaciones en pies cuadrados\n",
        "- ScreenPorch: Área del porche de la pantalla en pies cuadrados\n",
        "- PoolArea: Área de la piscina en pies cuadrados\n",
        "- PoolQC: Calidad de la piscina\n",
        "- Valla: calidad de la valla\n",
        "- MiscFeature: característica miscelánea no cubierta en otras categorías\n",
        "- MiscVal: $ Valor de la función miscelánea\n",
        "- MoSold: Mes vendido\n",
        "- YrSold: año vendido\n",
        "- SaleType: Tipo de venta\n",
        "- SaleCondition: Condición de venta"
      ]
    },
    {
      "cell_type": "markdown",
      "metadata": {
        "id": "ozg6SEod-ord"
      },
      "source": [
        "# 3. Limpieza de los datos."
      ]
    },
    {
      "cell_type": "markdown",
      "metadata": {
        "id": "WaLSctI0-q29"
      },
      "source": [
        "### 3.1. ¿Los datos contienen ceros o elementos vacíos? ¿Cómo gestionarías cada uno de estos casos?"
      ]
    },
    {
      "cell_type": "code",
      "metadata": {
        "id": "N5m6ud363nVc"
      },
      "source": [
        "import pandas as pd\n",
        "import numpy as np\n",
        "import matplotlib.pyplot as plt\n",
        "from matplotlib import style\n",
        "import seaborn as sns\n",
        "from scipy import stats\n",
        "import warnings\n",
        "warnings.filterwarnings(\"ignore\")"
      ],
      "execution_count": null,
      "outputs": []
    },
    {
      "cell_type": "code",
      "metadata": {
        "id": "m-cBimlu9Z0U"
      },
      "source": [
        "df_train = pd.read_csv(\"housing_train.csv\")"
      ],
      "execution_count": null,
      "outputs": []
    },
    {
      "cell_type": "code",
      "metadata": {
        "colab": {
          "base_uri": "https://localhost:8080/",
          "height": 253
        },
        "id": "Sdcv9Z9s_Axh",
        "outputId": "0469bea0-8a0a-4ddd-fe6c-6e7c0ef72395"
      },
      "source": [
        "df_train.head()"
      ],
      "execution_count": null,
      "outputs": [
        {
          "output_type": "execute_result",
          "data": {
            "text/html": [
              "<div>\n",
              "<style scoped>\n",
              "    .dataframe tbody tr th:only-of-type {\n",
              "        vertical-align: middle;\n",
              "    }\n",
              "\n",
              "    .dataframe tbody tr th {\n",
              "        vertical-align: top;\n",
              "    }\n",
              "\n",
              "    .dataframe thead th {\n",
              "        text-align: right;\n",
              "    }\n",
              "</style>\n",
              "<table border=\"1\" class=\"dataframe\">\n",
              "  <thead>\n",
              "    <tr style=\"text-align: right;\">\n",
              "      <th></th>\n",
              "      <th>Id</th>\n",
              "      <th>MSSubClass</th>\n",
              "      <th>MSZoning</th>\n",
              "      <th>LotFrontage</th>\n",
              "      <th>LotArea</th>\n",
              "      <th>Street</th>\n",
              "      <th>Alley</th>\n",
              "      <th>LotShape</th>\n",
              "      <th>LandContour</th>\n",
              "      <th>Utilities</th>\n",
              "      <th>LotConfig</th>\n",
              "      <th>LandSlope</th>\n",
              "      <th>Neighborhood</th>\n",
              "      <th>Condition1</th>\n",
              "      <th>Condition2</th>\n",
              "      <th>BldgType</th>\n",
              "      <th>HouseStyle</th>\n",
              "      <th>OverallQual</th>\n",
              "      <th>OverallCond</th>\n",
              "      <th>YearBuilt</th>\n",
              "      <th>YearRemodAdd</th>\n",
              "      <th>RoofStyle</th>\n",
              "      <th>RoofMatl</th>\n",
              "      <th>Exterior1st</th>\n",
              "      <th>Exterior2nd</th>\n",
              "      <th>MasVnrType</th>\n",
              "      <th>MasVnrArea</th>\n",
              "      <th>ExterQual</th>\n",
              "      <th>ExterCond</th>\n",
              "      <th>Foundation</th>\n",
              "      <th>BsmtQual</th>\n",
              "      <th>BsmtCond</th>\n",
              "      <th>BsmtExposure</th>\n",
              "      <th>BsmtFinType1</th>\n",
              "      <th>BsmtFinSF1</th>\n",
              "      <th>BsmtFinType2</th>\n",
              "      <th>BsmtFinSF2</th>\n",
              "      <th>BsmtUnfSF</th>\n",
              "      <th>TotalBsmtSF</th>\n",
              "      <th>Heating</th>\n",
              "      <th>...</th>\n",
              "      <th>CentralAir</th>\n",
              "      <th>Electrical</th>\n",
              "      <th>1stFlrSF</th>\n",
              "      <th>2ndFlrSF</th>\n",
              "      <th>LowQualFinSF</th>\n",
              "      <th>GrLivArea</th>\n",
              "      <th>BsmtFullBath</th>\n",
              "      <th>BsmtHalfBath</th>\n",
              "      <th>FullBath</th>\n",
              "      <th>HalfBath</th>\n",
              "      <th>BedroomAbvGr</th>\n",
              "      <th>KitchenAbvGr</th>\n",
              "      <th>KitchenQual</th>\n",
              "      <th>TotRmsAbvGrd</th>\n",
              "      <th>Functional</th>\n",
              "      <th>Fireplaces</th>\n",
              "      <th>FireplaceQu</th>\n",
              "      <th>GarageType</th>\n",
              "      <th>GarageYrBlt</th>\n",
              "      <th>GarageFinish</th>\n",
              "      <th>GarageCars</th>\n",
              "      <th>GarageArea</th>\n",
              "      <th>GarageQual</th>\n",
              "      <th>GarageCond</th>\n",
              "      <th>PavedDrive</th>\n",
              "      <th>WoodDeckSF</th>\n",
              "      <th>OpenPorchSF</th>\n",
              "      <th>EnclosedPorch</th>\n",
              "      <th>3SsnPorch</th>\n",
              "      <th>ScreenPorch</th>\n",
              "      <th>PoolArea</th>\n",
              "      <th>PoolQC</th>\n",
              "      <th>Fence</th>\n",
              "      <th>MiscFeature</th>\n",
              "      <th>MiscVal</th>\n",
              "      <th>MoSold</th>\n",
              "      <th>YrSold</th>\n",
              "      <th>SaleType</th>\n",
              "      <th>SaleCondition</th>\n",
              "      <th>SalePrice</th>\n",
              "    </tr>\n",
              "  </thead>\n",
              "  <tbody>\n",
              "    <tr>\n",
              "      <th>0</th>\n",
              "      <td>1</td>\n",
              "      <td>60</td>\n",
              "      <td>RL</td>\n",
              "      <td>65.0</td>\n",
              "      <td>8450</td>\n",
              "      <td>Pave</td>\n",
              "      <td>NaN</td>\n",
              "      <td>Reg</td>\n",
              "      <td>Lvl</td>\n",
              "      <td>AllPub</td>\n",
              "      <td>Inside</td>\n",
              "      <td>Gtl</td>\n",
              "      <td>CollgCr</td>\n",
              "      <td>Norm</td>\n",
              "      <td>Norm</td>\n",
              "      <td>1Fam</td>\n",
              "      <td>2Story</td>\n",
              "      <td>7</td>\n",
              "      <td>5</td>\n",
              "      <td>2003</td>\n",
              "      <td>2003</td>\n",
              "      <td>Gable</td>\n",
              "      <td>CompShg</td>\n",
              "      <td>VinylSd</td>\n",
              "      <td>VinylSd</td>\n",
              "      <td>BrkFace</td>\n",
              "      <td>196.0</td>\n",
              "      <td>Gd</td>\n",
              "      <td>TA</td>\n",
              "      <td>PConc</td>\n",
              "      <td>Gd</td>\n",
              "      <td>TA</td>\n",
              "      <td>No</td>\n",
              "      <td>GLQ</td>\n",
              "      <td>706</td>\n",
              "      <td>Unf</td>\n",
              "      <td>0</td>\n",
              "      <td>150</td>\n",
              "      <td>856</td>\n",
              "      <td>GasA</td>\n",
              "      <td>...</td>\n",
              "      <td>Y</td>\n",
              "      <td>SBrkr</td>\n",
              "      <td>856</td>\n",
              "      <td>854</td>\n",
              "      <td>0</td>\n",
              "      <td>1710</td>\n",
              "      <td>1</td>\n",
              "      <td>0</td>\n",
              "      <td>2</td>\n",
              "      <td>1</td>\n",
              "      <td>3</td>\n",
              "      <td>1</td>\n",
              "      <td>Gd</td>\n",
              "      <td>8</td>\n",
              "      <td>Typ</td>\n",
              "      <td>0</td>\n",
              "      <td>NaN</td>\n",
              "      <td>Attchd</td>\n",
              "      <td>2003.0</td>\n",
              "      <td>RFn</td>\n",
              "      <td>2</td>\n",
              "      <td>548</td>\n",
              "      <td>TA</td>\n",
              "      <td>TA</td>\n",
              "      <td>Y</td>\n",
              "      <td>0</td>\n",
              "      <td>61</td>\n",
              "      <td>0</td>\n",
              "      <td>0</td>\n",
              "      <td>0</td>\n",
              "      <td>0</td>\n",
              "      <td>NaN</td>\n",
              "      <td>NaN</td>\n",
              "      <td>NaN</td>\n",
              "      <td>0</td>\n",
              "      <td>2</td>\n",
              "      <td>2008</td>\n",
              "      <td>WD</td>\n",
              "      <td>Normal</td>\n",
              "      <td>208500</td>\n",
              "    </tr>\n",
              "    <tr>\n",
              "      <th>1</th>\n",
              "      <td>2</td>\n",
              "      <td>20</td>\n",
              "      <td>RL</td>\n",
              "      <td>80.0</td>\n",
              "      <td>9600</td>\n",
              "      <td>Pave</td>\n",
              "      <td>NaN</td>\n",
              "      <td>Reg</td>\n",
              "      <td>Lvl</td>\n",
              "      <td>AllPub</td>\n",
              "      <td>FR2</td>\n",
              "      <td>Gtl</td>\n",
              "      <td>Veenker</td>\n",
              "      <td>Feedr</td>\n",
              "      <td>Norm</td>\n",
              "      <td>1Fam</td>\n",
              "      <td>1Story</td>\n",
              "      <td>6</td>\n",
              "      <td>8</td>\n",
              "      <td>1976</td>\n",
              "      <td>1976</td>\n",
              "      <td>Gable</td>\n",
              "      <td>CompShg</td>\n",
              "      <td>MetalSd</td>\n",
              "      <td>MetalSd</td>\n",
              "      <td>None</td>\n",
              "      <td>0.0</td>\n",
              "      <td>TA</td>\n",
              "      <td>TA</td>\n",
              "      <td>CBlock</td>\n",
              "      <td>Gd</td>\n",
              "      <td>TA</td>\n",
              "      <td>Gd</td>\n",
              "      <td>ALQ</td>\n",
              "      <td>978</td>\n",
              "      <td>Unf</td>\n",
              "      <td>0</td>\n",
              "      <td>284</td>\n",
              "      <td>1262</td>\n",
              "      <td>GasA</td>\n",
              "      <td>...</td>\n",
              "      <td>Y</td>\n",
              "      <td>SBrkr</td>\n",
              "      <td>1262</td>\n",
              "      <td>0</td>\n",
              "      <td>0</td>\n",
              "      <td>1262</td>\n",
              "      <td>0</td>\n",
              "      <td>1</td>\n",
              "      <td>2</td>\n",
              "      <td>0</td>\n",
              "      <td>3</td>\n",
              "      <td>1</td>\n",
              "      <td>TA</td>\n",
              "      <td>6</td>\n",
              "      <td>Typ</td>\n",
              "      <td>1</td>\n",
              "      <td>TA</td>\n",
              "      <td>Attchd</td>\n",
              "      <td>1976.0</td>\n",
              "      <td>RFn</td>\n",
              "      <td>2</td>\n",
              "      <td>460</td>\n",
              "      <td>TA</td>\n",
              "      <td>TA</td>\n",
              "      <td>Y</td>\n",
              "      <td>298</td>\n",
              "      <td>0</td>\n",
              "      <td>0</td>\n",
              "      <td>0</td>\n",
              "      <td>0</td>\n",
              "      <td>0</td>\n",
              "      <td>NaN</td>\n",
              "      <td>NaN</td>\n",
              "      <td>NaN</td>\n",
              "      <td>0</td>\n",
              "      <td>5</td>\n",
              "      <td>2007</td>\n",
              "      <td>WD</td>\n",
              "      <td>Normal</td>\n",
              "      <td>181500</td>\n",
              "    </tr>\n",
              "    <tr>\n",
              "      <th>2</th>\n",
              "      <td>3</td>\n",
              "      <td>60</td>\n",
              "      <td>RL</td>\n",
              "      <td>68.0</td>\n",
              "      <td>11250</td>\n",
              "      <td>Pave</td>\n",
              "      <td>NaN</td>\n",
              "      <td>IR1</td>\n",
              "      <td>Lvl</td>\n",
              "      <td>AllPub</td>\n",
              "      <td>Inside</td>\n",
              "      <td>Gtl</td>\n",
              "      <td>CollgCr</td>\n",
              "      <td>Norm</td>\n",
              "      <td>Norm</td>\n",
              "      <td>1Fam</td>\n",
              "      <td>2Story</td>\n",
              "      <td>7</td>\n",
              "      <td>5</td>\n",
              "      <td>2001</td>\n",
              "      <td>2002</td>\n",
              "      <td>Gable</td>\n",
              "      <td>CompShg</td>\n",
              "      <td>VinylSd</td>\n",
              "      <td>VinylSd</td>\n",
              "      <td>BrkFace</td>\n",
              "      <td>162.0</td>\n",
              "      <td>Gd</td>\n",
              "      <td>TA</td>\n",
              "      <td>PConc</td>\n",
              "      <td>Gd</td>\n",
              "      <td>TA</td>\n",
              "      <td>Mn</td>\n",
              "      <td>GLQ</td>\n",
              "      <td>486</td>\n",
              "      <td>Unf</td>\n",
              "      <td>0</td>\n",
              "      <td>434</td>\n",
              "      <td>920</td>\n",
              "      <td>GasA</td>\n",
              "      <td>...</td>\n",
              "      <td>Y</td>\n",
              "      <td>SBrkr</td>\n",
              "      <td>920</td>\n",
              "      <td>866</td>\n",
              "      <td>0</td>\n",
              "      <td>1786</td>\n",
              "      <td>1</td>\n",
              "      <td>0</td>\n",
              "      <td>2</td>\n",
              "      <td>1</td>\n",
              "      <td>3</td>\n",
              "      <td>1</td>\n",
              "      <td>Gd</td>\n",
              "      <td>6</td>\n",
              "      <td>Typ</td>\n",
              "      <td>1</td>\n",
              "      <td>TA</td>\n",
              "      <td>Attchd</td>\n",
              "      <td>2001.0</td>\n",
              "      <td>RFn</td>\n",
              "      <td>2</td>\n",
              "      <td>608</td>\n",
              "      <td>TA</td>\n",
              "      <td>TA</td>\n",
              "      <td>Y</td>\n",
              "      <td>0</td>\n",
              "      <td>42</td>\n",
              "      <td>0</td>\n",
              "      <td>0</td>\n",
              "      <td>0</td>\n",
              "      <td>0</td>\n",
              "      <td>NaN</td>\n",
              "      <td>NaN</td>\n",
              "      <td>NaN</td>\n",
              "      <td>0</td>\n",
              "      <td>9</td>\n",
              "      <td>2008</td>\n",
              "      <td>WD</td>\n",
              "      <td>Normal</td>\n",
              "      <td>223500</td>\n",
              "    </tr>\n",
              "    <tr>\n",
              "      <th>3</th>\n",
              "      <td>4</td>\n",
              "      <td>70</td>\n",
              "      <td>RL</td>\n",
              "      <td>60.0</td>\n",
              "      <td>9550</td>\n",
              "      <td>Pave</td>\n",
              "      <td>NaN</td>\n",
              "      <td>IR1</td>\n",
              "      <td>Lvl</td>\n",
              "      <td>AllPub</td>\n",
              "      <td>Corner</td>\n",
              "      <td>Gtl</td>\n",
              "      <td>Crawfor</td>\n",
              "      <td>Norm</td>\n",
              "      <td>Norm</td>\n",
              "      <td>1Fam</td>\n",
              "      <td>2Story</td>\n",
              "      <td>7</td>\n",
              "      <td>5</td>\n",
              "      <td>1915</td>\n",
              "      <td>1970</td>\n",
              "      <td>Gable</td>\n",
              "      <td>CompShg</td>\n",
              "      <td>Wd Sdng</td>\n",
              "      <td>Wd Shng</td>\n",
              "      <td>None</td>\n",
              "      <td>0.0</td>\n",
              "      <td>TA</td>\n",
              "      <td>TA</td>\n",
              "      <td>BrkTil</td>\n",
              "      <td>TA</td>\n",
              "      <td>Gd</td>\n",
              "      <td>No</td>\n",
              "      <td>ALQ</td>\n",
              "      <td>216</td>\n",
              "      <td>Unf</td>\n",
              "      <td>0</td>\n",
              "      <td>540</td>\n",
              "      <td>756</td>\n",
              "      <td>GasA</td>\n",
              "      <td>...</td>\n",
              "      <td>Y</td>\n",
              "      <td>SBrkr</td>\n",
              "      <td>961</td>\n",
              "      <td>756</td>\n",
              "      <td>0</td>\n",
              "      <td>1717</td>\n",
              "      <td>1</td>\n",
              "      <td>0</td>\n",
              "      <td>1</td>\n",
              "      <td>0</td>\n",
              "      <td>3</td>\n",
              "      <td>1</td>\n",
              "      <td>Gd</td>\n",
              "      <td>7</td>\n",
              "      <td>Typ</td>\n",
              "      <td>1</td>\n",
              "      <td>Gd</td>\n",
              "      <td>Detchd</td>\n",
              "      <td>1998.0</td>\n",
              "      <td>Unf</td>\n",
              "      <td>3</td>\n",
              "      <td>642</td>\n",
              "      <td>TA</td>\n",
              "      <td>TA</td>\n",
              "      <td>Y</td>\n",
              "      <td>0</td>\n",
              "      <td>35</td>\n",
              "      <td>272</td>\n",
              "      <td>0</td>\n",
              "      <td>0</td>\n",
              "      <td>0</td>\n",
              "      <td>NaN</td>\n",
              "      <td>NaN</td>\n",
              "      <td>NaN</td>\n",
              "      <td>0</td>\n",
              "      <td>2</td>\n",
              "      <td>2006</td>\n",
              "      <td>WD</td>\n",
              "      <td>Abnorml</td>\n",
              "      <td>140000</td>\n",
              "    </tr>\n",
              "    <tr>\n",
              "      <th>4</th>\n",
              "      <td>5</td>\n",
              "      <td>60</td>\n",
              "      <td>RL</td>\n",
              "      <td>84.0</td>\n",
              "      <td>14260</td>\n",
              "      <td>Pave</td>\n",
              "      <td>NaN</td>\n",
              "      <td>IR1</td>\n",
              "      <td>Lvl</td>\n",
              "      <td>AllPub</td>\n",
              "      <td>FR2</td>\n",
              "      <td>Gtl</td>\n",
              "      <td>NoRidge</td>\n",
              "      <td>Norm</td>\n",
              "      <td>Norm</td>\n",
              "      <td>1Fam</td>\n",
              "      <td>2Story</td>\n",
              "      <td>8</td>\n",
              "      <td>5</td>\n",
              "      <td>2000</td>\n",
              "      <td>2000</td>\n",
              "      <td>Gable</td>\n",
              "      <td>CompShg</td>\n",
              "      <td>VinylSd</td>\n",
              "      <td>VinylSd</td>\n",
              "      <td>BrkFace</td>\n",
              "      <td>350.0</td>\n",
              "      <td>Gd</td>\n",
              "      <td>TA</td>\n",
              "      <td>PConc</td>\n",
              "      <td>Gd</td>\n",
              "      <td>TA</td>\n",
              "      <td>Av</td>\n",
              "      <td>GLQ</td>\n",
              "      <td>655</td>\n",
              "      <td>Unf</td>\n",
              "      <td>0</td>\n",
              "      <td>490</td>\n",
              "      <td>1145</td>\n",
              "      <td>GasA</td>\n",
              "      <td>...</td>\n",
              "      <td>Y</td>\n",
              "      <td>SBrkr</td>\n",
              "      <td>1145</td>\n",
              "      <td>1053</td>\n",
              "      <td>0</td>\n",
              "      <td>2198</td>\n",
              "      <td>1</td>\n",
              "      <td>0</td>\n",
              "      <td>2</td>\n",
              "      <td>1</td>\n",
              "      <td>4</td>\n",
              "      <td>1</td>\n",
              "      <td>Gd</td>\n",
              "      <td>9</td>\n",
              "      <td>Typ</td>\n",
              "      <td>1</td>\n",
              "      <td>TA</td>\n",
              "      <td>Attchd</td>\n",
              "      <td>2000.0</td>\n",
              "      <td>RFn</td>\n",
              "      <td>3</td>\n",
              "      <td>836</td>\n",
              "      <td>TA</td>\n",
              "      <td>TA</td>\n",
              "      <td>Y</td>\n",
              "      <td>192</td>\n",
              "      <td>84</td>\n",
              "      <td>0</td>\n",
              "      <td>0</td>\n",
              "      <td>0</td>\n",
              "      <td>0</td>\n",
              "      <td>NaN</td>\n",
              "      <td>NaN</td>\n",
              "      <td>NaN</td>\n",
              "      <td>0</td>\n",
              "      <td>12</td>\n",
              "      <td>2008</td>\n",
              "      <td>WD</td>\n",
              "      <td>Normal</td>\n",
              "      <td>250000</td>\n",
              "    </tr>\n",
              "  </tbody>\n",
              "</table>\n",
              "<p>5 rows × 81 columns</p>\n",
              "</div>"
            ],
            "text/plain": [
              "   Id  MSSubClass MSZoning  ...  SaleType  SaleCondition SalePrice\n",
              "0   1          60       RL  ...        WD         Normal    208500\n",
              "1   2          20       RL  ...        WD         Normal    181500\n",
              "2   3          60       RL  ...        WD         Normal    223500\n",
              "3   4          70       RL  ...        WD        Abnorml    140000\n",
              "4   5          60       RL  ...        WD         Normal    250000\n",
              "\n",
              "[5 rows x 81 columns]"
            ]
          },
          "metadata": {
            "tags": []
          },
          "execution_count": 3
        }
      ]
    },
    {
      "cell_type": "code",
      "metadata": {
        "id": "azJPTs_VnBFp"
      },
      "source": [
        "df_train.drop(['Id'], axis = 1, inplace = True)"
      ],
      "execution_count": null,
      "outputs": []
    },
    {
      "cell_type": "markdown",
      "metadata": {
        "id": "ot3XLCkX_VYV"
      },
      "source": [
        "#### Evaluación de datos faltantes"
      ]
    },
    {
      "cell_type": "markdown",
      "metadata": {
        "id": "GTsHa-UF_i8W"
      },
      "source": [
        "Los valores faltantes se convierten al valor predeterminado de Python. Utilizamos las funciones integradas de Python para identificar estos valores faltantes. Hay dos métodos para detectar datos faltantes:\n",
        "* .isnull()\n",
        "* .notnull()\n",
        "\n",
        "La salida es un valor booleano que indica si el valor que se pasa al argumento es de hecho datos faltantes."
      ]
    },
    {
      "cell_type": "code",
      "metadata": {
        "id": "RyV7M_Ol_DML"
      },
      "source": [
        "missing_data = df_train.isnull()"
      ],
      "execution_count": null,
      "outputs": []
    },
    {
      "cell_type": "markdown",
      "metadata": {
        "id": "vOakhQfH_s3s"
      },
      "source": [
        "\"Verdadero\" significa valor perdido, mientras que \"Falso\" significa valor no perdido"
      ]
    },
    {
      "cell_type": "code",
      "metadata": {
        "colab": {
          "base_uri": "https://localhost:8080/",
          "height": 253
        },
        "id": "vzo02XS1_pmN",
        "outputId": "76034ed3-19c6-476f-e04a-97d8d4e3bd45"
      },
      "source": [
        "missing_data.head()"
      ],
      "execution_count": null,
      "outputs": [
        {
          "output_type": "execute_result",
          "data": {
            "text/html": [
              "<div>\n",
              "<style scoped>\n",
              "    .dataframe tbody tr th:only-of-type {\n",
              "        vertical-align: middle;\n",
              "    }\n",
              "\n",
              "    .dataframe tbody tr th {\n",
              "        vertical-align: top;\n",
              "    }\n",
              "\n",
              "    .dataframe thead th {\n",
              "        text-align: right;\n",
              "    }\n",
              "</style>\n",
              "<table border=\"1\" class=\"dataframe\">\n",
              "  <thead>\n",
              "    <tr style=\"text-align: right;\">\n",
              "      <th></th>\n",
              "      <th>Id</th>\n",
              "      <th>MSSubClass</th>\n",
              "      <th>MSZoning</th>\n",
              "      <th>LotFrontage</th>\n",
              "      <th>LotArea</th>\n",
              "      <th>Street</th>\n",
              "      <th>Alley</th>\n",
              "      <th>LotShape</th>\n",
              "      <th>LandContour</th>\n",
              "      <th>Utilities</th>\n",
              "      <th>LotConfig</th>\n",
              "      <th>LandSlope</th>\n",
              "      <th>Neighborhood</th>\n",
              "      <th>Condition1</th>\n",
              "      <th>Condition2</th>\n",
              "      <th>BldgType</th>\n",
              "      <th>HouseStyle</th>\n",
              "      <th>OverallQual</th>\n",
              "      <th>OverallCond</th>\n",
              "      <th>YearBuilt</th>\n",
              "      <th>YearRemodAdd</th>\n",
              "      <th>RoofStyle</th>\n",
              "      <th>RoofMatl</th>\n",
              "      <th>Exterior1st</th>\n",
              "      <th>Exterior2nd</th>\n",
              "      <th>MasVnrType</th>\n",
              "      <th>MasVnrArea</th>\n",
              "      <th>ExterQual</th>\n",
              "      <th>ExterCond</th>\n",
              "      <th>Foundation</th>\n",
              "      <th>BsmtQual</th>\n",
              "      <th>BsmtCond</th>\n",
              "      <th>BsmtExposure</th>\n",
              "      <th>BsmtFinType1</th>\n",
              "      <th>BsmtFinSF1</th>\n",
              "      <th>BsmtFinType2</th>\n",
              "      <th>BsmtFinSF2</th>\n",
              "      <th>BsmtUnfSF</th>\n",
              "      <th>TotalBsmtSF</th>\n",
              "      <th>Heating</th>\n",
              "      <th>...</th>\n",
              "      <th>CentralAir</th>\n",
              "      <th>Electrical</th>\n",
              "      <th>1stFlrSF</th>\n",
              "      <th>2ndFlrSF</th>\n",
              "      <th>LowQualFinSF</th>\n",
              "      <th>GrLivArea</th>\n",
              "      <th>BsmtFullBath</th>\n",
              "      <th>BsmtHalfBath</th>\n",
              "      <th>FullBath</th>\n",
              "      <th>HalfBath</th>\n",
              "      <th>BedroomAbvGr</th>\n",
              "      <th>KitchenAbvGr</th>\n",
              "      <th>KitchenQual</th>\n",
              "      <th>TotRmsAbvGrd</th>\n",
              "      <th>Functional</th>\n",
              "      <th>Fireplaces</th>\n",
              "      <th>FireplaceQu</th>\n",
              "      <th>GarageType</th>\n",
              "      <th>GarageYrBlt</th>\n",
              "      <th>GarageFinish</th>\n",
              "      <th>GarageCars</th>\n",
              "      <th>GarageArea</th>\n",
              "      <th>GarageQual</th>\n",
              "      <th>GarageCond</th>\n",
              "      <th>PavedDrive</th>\n",
              "      <th>WoodDeckSF</th>\n",
              "      <th>OpenPorchSF</th>\n",
              "      <th>EnclosedPorch</th>\n",
              "      <th>3SsnPorch</th>\n",
              "      <th>ScreenPorch</th>\n",
              "      <th>PoolArea</th>\n",
              "      <th>PoolQC</th>\n",
              "      <th>Fence</th>\n",
              "      <th>MiscFeature</th>\n",
              "      <th>MiscVal</th>\n",
              "      <th>MoSold</th>\n",
              "      <th>YrSold</th>\n",
              "      <th>SaleType</th>\n",
              "      <th>SaleCondition</th>\n",
              "      <th>SalePrice</th>\n",
              "    </tr>\n",
              "  </thead>\n",
              "  <tbody>\n",
              "    <tr>\n",
              "      <th>0</th>\n",
              "      <td>False</td>\n",
              "      <td>False</td>\n",
              "      <td>False</td>\n",
              "      <td>False</td>\n",
              "      <td>False</td>\n",
              "      <td>False</td>\n",
              "      <td>True</td>\n",
              "      <td>False</td>\n",
              "      <td>False</td>\n",
              "      <td>False</td>\n",
              "      <td>False</td>\n",
              "      <td>False</td>\n",
              "      <td>False</td>\n",
              "      <td>False</td>\n",
              "      <td>False</td>\n",
              "      <td>False</td>\n",
              "      <td>False</td>\n",
              "      <td>False</td>\n",
              "      <td>False</td>\n",
              "      <td>False</td>\n",
              "      <td>False</td>\n",
              "      <td>False</td>\n",
              "      <td>False</td>\n",
              "      <td>False</td>\n",
              "      <td>False</td>\n",
              "      <td>False</td>\n",
              "      <td>False</td>\n",
              "      <td>False</td>\n",
              "      <td>False</td>\n",
              "      <td>False</td>\n",
              "      <td>False</td>\n",
              "      <td>False</td>\n",
              "      <td>False</td>\n",
              "      <td>False</td>\n",
              "      <td>False</td>\n",
              "      <td>False</td>\n",
              "      <td>False</td>\n",
              "      <td>False</td>\n",
              "      <td>False</td>\n",
              "      <td>False</td>\n",
              "      <td>...</td>\n",
              "      <td>False</td>\n",
              "      <td>False</td>\n",
              "      <td>False</td>\n",
              "      <td>False</td>\n",
              "      <td>False</td>\n",
              "      <td>False</td>\n",
              "      <td>False</td>\n",
              "      <td>False</td>\n",
              "      <td>False</td>\n",
              "      <td>False</td>\n",
              "      <td>False</td>\n",
              "      <td>False</td>\n",
              "      <td>False</td>\n",
              "      <td>False</td>\n",
              "      <td>False</td>\n",
              "      <td>False</td>\n",
              "      <td>True</td>\n",
              "      <td>False</td>\n",
              "      <td>False</td>\n",
              "      <td>False</td>\n",
              "      <td>False</td>\n",
              "      <td>False</td>\n",
              "      <td>False</td>\n",
              "      <td>False</td>\n",
              "      <td>False</td>\n",
              "      <td>False</td>\n",
              "      <td>False</td>\n",
              "      <td>False</td>\n",
              "      <td>False</td>\n",
              "      <td>False</td>\n",
              "      <td>False</td>\n",
              "      <td>True</td>\n",
              "      <td>True</td>\n",
              "      <td>True</td>\n",
              "      <td>False</td>\n",
              "      <td>False</td>\n",
              "      <td>False</td>\n",
              "      <td>False</td>\n",
              "      <td>False</td>\n",
              "      <td>False</td>\n",
              "    </tr>\n",
              "    <tr>\n",
              "      <th>1</th>\n",
              "      <td>False</td>\n",
              "      <td>False</td>\n",
              "      <td>False</td>\n",
              "      <td>False</td>\n",
              "      <td>False</td>\n",
              "      <td>False</td>\n",
              "      <td>True</td>\n",
              "      <td>False</td>\n",
              "      <td>False</td>\n",
              "      <td>False</td>\n",
              "      <td>False</td>\n",
              "      <td>False</td>\n",
              "      <td>False</td>\n",
              "      <td>False</td>\n",
              "      <td>False</td>\n",
              "      <td>False</td>\n",
              "      <td>False</td>\n",
              "      <td>False</td>\n",
              "      <td>False</td>\n",
              "      <td>False</td>\n",
              "      <td>False</td>\n",
              "      <td>False</td>\n",
              "      <td>False</td>\n",
              "      <td>False</td>\n",
              "      <td>False</td>\n",
              "      <td>False</td>\n",
              "      <td>False</td>\n",
              "      <td>False</td>\n",
              "      <td>False</td>\n",
              "      <td>False</td>\n",
              "      <td>False</td>\n",
              "      <td>False</td>\n",
              "      <td>False</td>\n",
              "      <td>False</td>\n",
              "      <td>False</td>\n",
              "      <td>False</td>\n",
              "      <td>False</td>\n",
              "      <td>False</td>\n",
              "      <td>False</td>\n",
              "      <td>False</td>\n",
              "      <td>...</td>\n",
              "      <td>False</td>\n",
              "      <td>False</td>\n",
              "      <td>False</td>\n",
              "      <td>False</td>\n",
              "      <td>False</td>\n",
              "      <td>False</td>\n",
              "      <td>False</td>\n",
              "      <td>False</td>\n",
              "      <td>False</td>\n",
              "      <td>False</td>\n",
              "      <td>False</td>\n",
              "      <td>False</td>\n",
              "      <td>False</td>\n",
              "      <td>False</td>\n",
              "      <td>False</td>\n",
              "      <td>False</td>\n",
              "      <td>False</td>\n",
              "      <td>False</td>\n",
              "      <td>False</td>\n",
              "      <td>False</td>\n",
              "      <td>False</td>\n",
              "      <td>False</td>\n",
              "      <td>False</td>\n",
              "      <td>False</td>\n",
              "      <td>False</td>\n",
              "      <td>False</td>\n",
              "      <td>False</td>\n",
              "      <td>False</td>\n",
              "      <td>False</td>\n",
              "      <td>False</td>\n",
              "      <td>False</td>\n",
              "      <td>True</td>\n",
              "      <td>True</td>\n",
              "      <td>True</td>\n",
              "      <td>False</td>\n",
              "      <td>False</td>\n",
              "      <td>False</td>\n",
              "      <td>False</td>\n",
              "      <td>False</td>\n",
              "      <td>False</td>\n",
              "    </tr>\n",
              "    <tr>\n",
              "      <th>2</th>\n",
              "      <td>False</td>\n",
              "      <td>False</td>\n",
              "      <td>False</td>\n",
              "      <td>False</td>\n",
              "      <td>False</td>\n",
              "      <td>False</td>\n",
              "      <td>True</td>\n",
              "      <td>False</td>\n",
              "      <td>False</td>\n",
              "      <td>False</td>\n",
              "      <td>False</td>\n",
              "      <td>False</td>\n",
              "      <td>False</td>\n",
              "      <td>False</td>\n",
              "      <td>False</td>\n",
              "      <td>False</td>\n",
              "      <td>False</td>\n",
              "      <td>False</td>\n",
              "      <td>False</td>\n",
              "      <td>False</td>\n",
              "      <td>False</td>\n",
              "      <td>False</td>\n",
              "      <td>False</td>\n",
              "      <td>False</td>\n",
              "      <td>False</td>\n",
              "      <td>False</td>\n",
              "      <td>False</td>\n",
              "      <td>False</td>\n",
              "      <td>False</td>\n",
              "      <td>False</td>\n",
              "      <td>False</td>\n",
              "      <td>False</td>\n",
              "      <td>False</td>\n",
              "      <td>False</td>\n",
              "      <td>False</td>\n",
              "      <td>False</td>\n",
              "      <td>False</td>\n",
              "      <td>False</td>\n",
              "      <td>False</td>\n",
              "      <td>False</td>\n",
              "      <td>...</td>\n",
              "      <td>False</td>\n",
              "      <td>False</td>\n",
              "      <td>False</td>\n",
              "      <td>False</td>\n",
              "      <td>False</td>\n",
              "      <td>False</td>\n",
              "      <td>False</td>\n",
              "      <td>False</td>\n",
              "      <td>False</td>\n",
              "      <td>False</td>\n",
              "      <td>False</td>\n",
              "      <td>False</td>\n",
              "      <td>False</td>\n",
              "      <td>False</td>\n",
              "      <td>False</td>\n",
              "      <td>False</td>\n",
              "      <td>False</td>\n",
              "      <td>False</td>\n",
              "      <td>False</td>\n",
              "      <td>False</td>\n",
              "      <td>False</td>\n",
              "      <td>False</td>\n",
              "      <td>False</td>\n",
              "      <td>False</td>\n",
              "      <td>False</td>\n",
              "      <td>False</td>\n",
              "      <td>False</td>\n",
              "      <td>False</td>\n",
              "      <td>False</td>\n",
              "      <td>False</td>\n",
              "      <td>False</td>\n",
              "      <td>True</td>\n",
              "      <td>True</td>\n",
              "      <td>True</td>\n",
              "      <td>False</td>\n",
              "      <td>False</td>\n",
              "      <td>False</td>\n",
              "      <td>False</td>\n",
              "      <td>False</td>\n",
              "      <td>False</td>\n",
              "    </tr>\n",
              "    <tr>\n",
              "      <th>3</th>\n",
              "      <td>False</td>\n",
              "      <td>False</td>\n",
              "      <td>False</td>\n",
              "      <td>False</td>\n",
              "      <td>False</td>\n",
              "      <td>False</td>\n",
              "      <td>True</td>\n",
              "      <td>False</td>\n",
              "      <td>False</td>\n",
              "      <td>False</td>\n",
              "      <td>False</td>\n",
              "      <td>False</td>\n",
              "      <td>False</td>\n",
              "      <td>False</td>\n",
              "      <td>False</td>\n",
              "      <td>False</td>\n",
              "      <td>False</td>\n",
              "      <td>False</td>\n",
              "      <td>False</td>\n",
              "      <td>False</td>\n",
              "      <td>False</td>\n",
              "      <td>False</td>\n",
              "      <td>False</td>\n",
              "      <td>False</td>\n",
              "      <td>False</td>\n",
              "      <td>False</td>\n",
              "      <td>False</td>\n",
              "      <td>False</td>\n",
              "      <td>False</td>\n",
              "      <td>False</td>\n",
              "      <td>False</td>\n",
              "      <td>False</td>\n",
              "      <td>False</td>\n",
              "      <td>False</td>\n",
              "      <td>False</td>\n",
              "      <td>False</td>\n",
              "      <td>False</td>\n",
              "      <td>False</td>\n",
              "      <td>False</td>\n",
              "      <td>False</td>\n",
              "      <td>...</td>\n",
              "      <td>False</td>\n",
              "      <td>False</td>\n",
              "      <td>False</td>\n",
              "      <td>False</td>\n",
              "      <td>False</td>\n",
              "      <td>False</td>\n",
              "      <td>False</td>\n",
              "      <td>False</td>\n",
              "      <td>False</td>\n",
              "      <td>False</td>\n",
              "      <td>False</td>\n",
              "      <td>False</td>\n",
              "      <td>False</td>\n",
              "      <td>False</td>\n",
              "      <td>False</td>\n",
              "      <td>False</td>\n",
              "      <td>False</td>\n",
              "      <td>False</td>\n",
              "      <td>False</td>\n",
              "      <td>False</td>\n",
              "      <td>False</td>\n",
              "      <td>False</td>\n",
              "      <td>False</td>\n",
              "      <td>False</td>\n",
              "      <td>False</td>\n",
              "      <td>False</td>\n",
              "      <td>False</td>\n",
              "      <td>False</td>\n",
              "      <td>False</td>\n",
              "      <td>False</td>\n",
              "      <td>False</td>\n",
              "      <td>True</td>\n",
              "      <td>True</td>\n",
              "      <td>True</td>\n",
              "      <td>False</td>\n",
              "      <td>False</td>\n",
              "      <td>False</td>\n",
              "      <td>False</td>\n",
              "      <td>False</td>\n",
              "      <td>False</td>\n",
              "    </tr>\n",
              "    <tr>\n",
              "      <th>4</th>\n",
              "      <td>False</td>\n",
              "      <td>False</td>\n",
              "      <td>False</td>\n",
              "      <td>False</td>\n",
              "      <td>False</td>\n",
              "      <td>False</td>\n",
              "      <td>True</td>\n",
              "      <td>False</td>\n",
              "      <td>False</td>\n",
              "      <td>False</td>\n",
              "      <td>False</td>\n",
              "      <td>False</td>\n",
              "      <td>False</td>\n",
              "      <td>False</td>\n",
              "      <td>False</td>\n",
              "      <td>False</td>\n",
              "      <td>False</td>\n",
              "      <td>False</td>\n",
              "      <td>False</td>\n",
              "      <td>False</td>\n",
              "      <td>False</td>\n",
              "      <td>False</td>\n",
              "      <td>False</td>\n",
              "      <td>False</td>\n",
              "      <td>False</td>\n",
              "      <td>False</td>\n",
              "      <td>False</td>\n",
              "      <td>False</td>\n",
              "      <td>False</td>\n",
              "      <td>False</td>\n",
              "      <td>False</td>\n",
              "      <td>False</td>\n",
              "      <td>False</td>\n",
              "      <td>False</td>\n",
              "      <td>False</td>\n",
              "      <td>False</td>\n",
              "      <td>False</td>\n",
              "      <td>False</td>\n",
              "      <td>False</td>\n",
              "      <td>False</td>\n",
              "      <td>...</td>\n",
              "      <td>False</td>\n",
              "      <td>False</td>\n",
              "      <td>False</td>\n",
              "      <td>False</td>\n",
              "      <td>False</td>\n",
              "      <td>False</td>\n",
              "      <td>False</td>\n",
              "      <td>False</td>\n",
              "      <td>False</td>\n",
              "      <td>False</td>\n",
              "      <td>False</td>\n",
              "      <td>False</td>\n",
              "      <td>False</td>\n",
              "      <td>False</td>\n",
              "      <td>False</td>\n",
              "      <td>False</td>\n",
              "      <td>False</td>\n",
              "      <td>False</td>\n",
              "      <td>False</td>\n",
              "      <td>False</td>\n",
              "      <td>False</td>\n",
              "      <td>False</td>\n",
              "      <td>False</td>\n",
              "      <td>False</td>\n",
              "      <td>False</td>\n",
              "      <td>False</td>\n",
              "      <td>False</td>\n",
              "      <td>False</td>\n",
              "      <td>False</td>\n",
              "      <td>False</td>\n",
              "      <td>False</td>\n",
              "      <td>True</td>\n",
              "      <td>True</td>\n",
              "      <td>True</td>\n",
              "      <td>False</td>\n",
              "      <td>False</td>\n",
              "      <td>False</td>\n",
              "      <td>False</td>\n",
              "      <td>False</td>\n",
              "      <td>False</td>\n",
              "    </tr>\n",
              "  </tbody>\n",
              "</table>\n",
              "<p>5 rows × 81 columns</p>\n",
              "</div>"
            ],
            "text/plain": [
              "      Id  MSSubClass  MSZoning  ...  SaleType  SaleCondition  SalePrice\n",
              "0  False       False     False  ...     False          False      False\n",
              "1  False       False     False  ...     False          False      False\n",
              "2  False       False     False  ...     False          False      False\n",
              "3  False       False     False  ...     False          False      False\n",
              "4  False       False     False  ...     False          False      False\n",
              "\n",
              "[5 rows x 81 columns]"
            ]
          },
          "metadata": {
            "tags": []
          },
          "execution_count": 5
        }
      ]
    },
    {
      "cell_type": "markdown",
      "metadata": {
        "id": "H2zZ0dDs_2WN"
      },
      "source": [
        "#### Cantidad de valores faltantes por columna"
      ]
    },
    {
      "cell_type": "code",
      "metadata": {
        "colab": {
          "base_uri": "https://localhost:8080/",
          "height": 638
        },
        "id": "3ZI8EPRm_xOc",
        "outputId": "fbefa3c1-f15b-4d1e-c08b-703b1aa42bd6"
      },
      "source": [
        "total = df_train.isnull().sum().sort_values(ascending = False)\n",
        "percent = (df_train.isnull().sum() / df_train.isnull().count()).sort_values(ascending = False)\n",
        "missing_data = pd.concat([total, percent], axis = 1, keys = ['Total', 'Percent'])\n",
        "missing_data[missing_data['Total'] > 0]"
      ],
      "execution_count": null,
      "outputs": [
        {
          "output_type": "execute_result",
          "data": {
            "text/html": [
              "<div>\n",
              "<style scoped>\n",
              "    .dataframe tbody tr th:only-of-type {\n",
              "        vertical-align: middle;\n",
              "    }\n",
              "\n",
              "    .dataframe tbody tr th {\n",
              "        vertical-align: top;\n",
              "    }\n",
              "\n",
              "    .dataframe thead th {\n",
              "        text-align: right;\n",
              "    }\n",
              "</style>\n",
              "<table border=\"1\" class=\"dataframe\">\n",
              "  <thead>\n",
              "    <tr style=\"text-align: right;\">\n",
              "      <th></th>\n",
              "      <th>Total</th>\n",
              "      <th>Percent</th>\n",
              "    </tr>\n",
              "  </thead>\n",
              "  <tbody>\n",
              "    <tr>\n",
              "      <th>PoolQC</th>\n",
              "      <td>1453</td>\n",
              "      <td>0.995205</td>\n",
              "    </tr>\n",
              "    <tr>\n",
              "      <th>MiscFeature</th>\n",
              "      <td>1406</td>\n",
              "      <td>0.963014</td>\n",
              "    </tr>\n",
              "    <tr>\n",
              "      <th>Alley</th>\n",
              "      <td>1369</td>\n",
              "      <td>0.937671</td>\n",
              "    </tr>\n",
              "    <tr>\n",
              "      <th>Fence</th>\n",
              "      <td>1179</td>\n",
              "      <td>0.807534</td>\n",
              "    </tr>\n",
              "    <tr>\n",
              "      <th>FireplaceQu</th>\n",
              "      <td>690</td>\n",
              "      <td>0.472603</td>\n",
              "    </tr>\n",
              "    <tr>\n",
              "      <th>LotFrontage</th>\n",
              "      <td>259</td>\n",
              "      <td>0.177397</td>\n",
              "    </tr>\n",
              "    <tr>\n",
              "      <th>GarageCond</th>\n",
              "      <td>81</td>\n",
              "      <td>0.055479</td>\n",
              "    </tr>\n",
              "    <tr>\n",
              "      <th>GarageType</th>\n",
              "      <td>81</td>\n",
              "      <td>0.055479</td>\n",
              "    </tr>\n",
              "    <tr>\n",
              "      <th>GarageYrBlt</th>\n",
              "      <td>81</td>\n",
              "      <td>0.055479</td>\n",
              "    </tr>\n",
              "    <tr>\n",
              "      <th>GarageFinish</th>\n",
              "      <td>81</td>\n",
              "      <td>0.055479</td>\n",
              "    </tr>\n",
              "    <tr>\n",
              "      <th>GarageQual</th>\n",
              "      <td>81</td>\n",
              "      <td>0.055479</td>\n",
              "    </tr>\n",
              "    <tr>\n",
              "      <th>BsmtExposure</th>\n",
              "      <td>38</td>\n",
              "      <td>0.026027</td>\n",
              "    </tr>\n",
              "    <tr>\n",
              "      <th>BsmtFinType2</th>\n",
              "      <td>38</td>\n",
              "      <td>0.026027</td>\n",
              "    </tr>\n",
              "    <tr>\n",
              "      <th>BsmtFinType1</th>\n",
              "      <td>37</td>\n",
              "      <td>0.025342</td>\n",
              "    </tr>\n",
              "    <tr>\n",
              "      <th>BsmtCond</th>\n",
              "      <td>37</td>\n",
              "      <td>0.025342</td>\n",
              "    </tr>\n",
              "    <tr>\n",
              "      <th>BsmtQual</th>\n",
              "      <td>37</td>\n",
              "      <td>0.025342</td>\n",
              "    </tr>\n",
              "    <tr>\n",
              "      <th>MasVnrArea</th>\n",
              "      <td>8</td>\n",
              "      <td>0.005479</td>\n",
              "    </tr>\n",
              "    <tr>\n",
              "      <th>MasVnrType</th>\n",
              "      <td>8</td>\n",
              "      <td>0.005479</td>\n",
              "    </tr>\n",
              "    <tr>\n",
              "      <th>Electrical</th>\n",
              "      <td>1</td>\n",
              "      <td>0.000685</td>\n",
              "    </tr>\n",
              "  </tbody>\n",
              "</table>\n",
              "</div>"
            ],
            "text/plain": [
              "              Total   Percent\n",
              "PoolQC         1453  0.995205\n",
              "MiscFeature    1406  0.963014\n",
              "Alley          1369  0.937671\n",
              "Fence          1179  0.807534\n",
              "FireplaceQu     690  0.472603\n",
              "LotFrontage     259  0.177397\n",
              "GarageCond       81  0.055479\n",
              "GarageType       81  0.055479\n",
              "GarageYrBlt      81  0.055479\n",
              "GarageFinish     81  0.055479\n",
              "GarageQual       81  0.055479\n",
              "BsmtExposure     38  0.026027\n",
              "BsmtFinType2     38  0.026027\n",
              "BsmtFinType1     37  0.025342\n",
              "BsmtCond         37  0.025342\n",
              "BsmtQual         37  0.025342\n",
              "MasVnrArea        8  0.005479\n",
              "MasVnrType        8  0.005479\n",
              "Electrical        1  0.000685"
            ]
          },
          "metadata": {
            "tags": []
          },
          "execution_count": 6
        }
      ]
    },
    {
      "cell_type": "code",
      "metadata": {
        "colab": {
          "base_uri": "https://localhost:8080/",
          "height": 331
        },
        "id": "bOzpcDH8_7A-",
        "outputId": "127bad69-d62b-4004-8466-6c582a42494a"
      },
      "source": [
        "sns.heatmap(df_train.isnull(), yticklabels=False, cbar = False, cmap = \"Blues\");"
      ],
      "execution_count": null,
      "outputs": [
        {
          "output_type": "display_data",
          "data": {
            "image/png": "[encoded data removed]",
            "text/plain": [
              "<Figure size 432x288 with 1 Axes>"
            ]
          },
          "metadata": {
            "tags": [],
            "needs_background": "light"
          }
        }
      ]
    },
    {
      "cell_type": "markdown",
      "metadata": {
        "id": "h8WHGLqmBSuI"
      },
      "source": [
        "#### Según el resumen anterior, cada columna tiene 1460 filas de datos, 19 columnas que contienen datos faltantes:\n",
        "1. LotFrontage. 259 datos faltantes\n",
        "2. Alley. 1369 datos faltantes\n",
        "3. MasVnrType. 8 datos faltantes\n",
        "4. MasVnrArea. 8 datos faltantes\n",
        "5. BsmtQual. 37 datos faltantes\n",
        "6. BsmtCond. 37 datos faltantes\n",
        "7. BsmtExposure. 38 datos faltantes\n",
        "8. BsmtFinType1. 37 datos faltantes\n",
        "9. BsmtFinType2. 38 datos faltantes\n",
        "10. Electrical. 1 dato faltantes\n",
        "11. FireplaceQu. 690 datos faltantes\n",
        "12. GarageType. 81 datos faltantes\n",
        "13. GarageYrBlt. 81 datos faltantes\n",
        "14. GarageFinish. 81 datos faltantes\n",
        "15. GarageQual. 81 datos faltantes\n",
        "16. GarageCond. 81 datos faltantes\n",
        "17. PoolQC. 1453 datos faltantes\n",
        "18. Fence. 1179 datos faltantes\n",
        "19. MiscFeature. 1406 datos faltantes"
      ]
    },
    {
      "cell_type": "markdown",
      "metadata": {
        "id": "dgNAsuHdB9oW"
      },
      "source": [
        "#### ¿Cómo lidiar con los datos faltantes?"
      ]
    },
    {
      "cell_type": "markdown",
      "metadata": {
        "id": "QUHSB2n6CEFH"
      },
      "source": [
        "<ol>\n",
        "    <li>Eliminar datos<br>\n",
        "        a. Eliminar toda la fila<br>\n",
        "        b. Eliminar toda la columna\n",
        "    </li>\n",
        "    <li>reemplazar datos<br>\n",
        "        a. Reemplazar por la media<br>\n",
        "        b. Reemplazar por la frecuencia<br>\n",
        "        c. Reemplazar en función de otras funciones\n",
        "    </li>\n",
        "</ol>"
      ]
    },
    {
      "cell_type": "markdown",
      "metadata": {
        "id": "grOwBMedCLYf"
      },
      "source": [
        "#### Nuestro data set de housing_train tiene 1460 filas, las columnas solo deben descartarse si la mayoría de las entradas de la columna están vacías. , En este caso serian.\n",
        "1. Alley. 1369 datos faltantes\n",
        "2. PoolQC. 1453 datos faltantes\n",
        "3. Fence. 1179 datos faltantes\n",
        "4. MiscFeature. 1406 datos faltantes"
      ]
    },
    {
      "cell_type": "code",
      "metadata": {
        "id": "EUmQU4s2CQQ-"
      },
      "source": [
        "df_train = df_train.drop(['Alley', 'PoolQC', 'Fence', 'MiscFeature'], axis=1)"
      ],
      "execution_count": null,
      "outputs": []
    },
    {
      "cell_type": "markdown",
      "metadata": {
        "id": "tNpr0RcRCanH"
      },
      "source": [
        "#### Tenemos cierta libertad para elegir el método para reemplazar datos; sin embargo, algunos métodos pueden parecer más razonables que otros. Todas las columnas que sean numéricas se reemplazan por su media o promedio y las columnas categóricas por su frecuencia\n",
        "1. LotFrontage. 259 datos faltantes. Reemplazar por media\n",
        "2. MasVnrType. 8 datos faltantes. Reemplazar por frecuencia\n",
        "3. MasVnrArea. 8 datos faltantes. Reemplazar por media\n",
        "4. BsmtQual. 37 datos faltantes. Reemplazar por frecuencia\n",
        "5. BsmtCond. 37 datos faltantes. Reemplazar por frecuencia\n",
        "6. BsmtExposure. 38 datos faltantes. Reemplazar por frecuencia\n",
        "7. BsmtFinType1. 37 datos faltantes. Reemplazar por frecuencia\n",
        "8. BsmtFinType2. 38 datos faltantes. Reemplazar por frecuencia\n",
        "9. Electrical. 1 dato faltantes. Reemplazar por frecuencia\n",
        "10. FireplaceQu. 609 datos faltantes. Reemplazar por frecuencia\n",
        "11. GarageType. 81 datos faltantes. Reemplazar por frecuencia\n",
        "12. GarageYrBlt. 81 datos faltantes. Reemplazar por media\n",
        "13. GarageFinish. 81 datos faltantes. Reemplazar por frecuencia\n",
        "14. GarageQual. 81 datos faltantes. Reemplazar por frecuencia\n",
        "15. GarageCond. 81 datos faltantes. Reemplazar por frecuencia"
      ]
    },
    {
      "cell_type": "markdown",
      "metadata": {
        "id": "1xGLdHidCfuW"
      },
      "source": [
        "####  Reemplazo por el Promedio\n",
        "* LotFrontage. 259 datos faltantes. Reemplazar por media\n",
        "* MasVnrArea. 8 datos faltantes. Reemplazar por media\n",
        "* GarageYrBlt. 81 datos faltantes. Reemplazar por media"
      ]
    },
    {
      "cell_type": "code",
      "metadata": {
        "id": "URhVqAUpCV9E"
      },
      "source": [
        "avg_LotFrontage = df_train['LotFrontage'].astype('float').mean(axis=0)\n",
        "df_train['LotFrontage'].replace(np.nan, avg_LotFrontage, inplace=True)\n",
        "\n",
        "avg_MasVnrArea = df_train['MasVnrArea'].astype('float').mean(axis=0)\n",
        "df_train['MasVnrArea'].replace(np.nan, avg_MasVnrArea, inplace=True)\n",
        "\n",
        "avg_GarageYrBlt = df_train['GarageYrBlt'].astype('float').mean(axis=0)\n",
        "df_train['GarageYrBlt'].replace(np.nan, avg_MasVnrArea, inplace=True)"
      ],
      "execution_count": null,
      "outputs": []
    },
    {
      "cell_type": "markdown",
      "metadata": {
        "id": "bpWEyaMCCskN"
      },
      "source": [
        "#### Reemplazo por la frecuencia\n",
        "* MasVnrType. 8 datos faltantes. Reemplazar por frecuencia\n",
        "* BsmtQual. 37 datos faltantes. Reemplazar por frecuencia\n",
        "* BsmtCond. 37 datos faltantes. Reemplazar por frecuencia\n",
        "* BsmtExposure. 38 datos faltantes. Reemplazar por frecuencia\n",
        "* BsmtFinType1. 37 datos faltantes. Reemplazar por frecuencia\n",
        "* BsmtFinType2. 38 datos faltantes. Reemplazar por frecuencia\n",
        "* Electrical. 1 dato faltantes. Reemplazar por frecuencia\n",
        "* FireplaceQu. 609 datos faltantes. Reemplazar por frecuencia\n",
        "* GarageType. 81 datos faltantes. Reemplazar por frecuencia\n",
        "* GarageFinish. 81 datos faltantes. Reemplazar por frecuencia\n",
        "* GarageQual. 81 datos faltantes. Reemplazar por frecuencia\n",
        "* GarageCond. 81 datos faltantes. Reemplazar por frecuencia"
      ]
    },
    {
      "cell_type": "code",
      "metadata": {
        "id": "-LAznYuwCoFQ"
      },
      "source": [
        "max_MasVnrType = df_train[\"MasVnrType\"].value_counts().idxmax()\n",
        "df_train[\"MasVnrType\"].replace(np.nan, max_MasVnrType, inplace=True)\n",
        "\n",
        "max_BsmtQual = df_train[\"BsmtQual\"].value_counts().idxmax()\n",
        "df_train[\"BsmtQual\"].replace(np.nan, max_BsmtQual, inplace=True)\n",
        "\n",
        "max_BsmtCond = df_train[\"BsmtCond\"].value_counts().idxmax()\n",
        "df_train[\"BsmtQual\"].replace(np.nan, max_BsmtCond, inplace=True)\n",
        "\n",
        "max_BsmtExposure = df_train[\"BsmtExposure\"].value_counts().idxmax()\n",
        "df_train[\"BsmtExposure\"].replace(np.nan, max_BsmtExposure, inplace=True)\n",
        "\n",
        "max_BsmtFinType1 = df_train[\"BsmtFinType1\"].value_counts().idxmax()\n",
        "df_train[\"BsmtFinType1\"].replace(np.nan, max_BsmtFinType1, inplace=True)\n",
        "\n",
        "max_BsmtFinType2 = df_train[\"BsmtFinType2\"].value_counts().idxmax()\n",
        "df_train[\"BsmtFinType2\"].replace(np.nan, max_BsmtFinType2, inplace=True)\n",
        "\n",
        "max_Electrical = df_train[\"Electrical\"].value_counts().idxmax()\n",
        "df_train[\"Electrical\"].replace(np.nan, max_Electrical, inplace=True)\n",
        "\n",
        "max_FireplaceQu = df_train[\"FireplaceQu\"].value_counts().idxmax()\n",
        "df_train[\"FireplaceQu\"].replace(np.nan, max_FireplaceQu, inplace=True)\n",
        "\n",
        "max_GarageType = df_train[\"GarageType\"].value_counts().idxmax()\n",
        "df_train[\"GarageType\"].replace(np.nan, max_FireplaceQu, inplace=True)\n",
        "\n",
        "max_GarageFinish = df_train[\"GarageFinish\"].value_counts().idxmax()\n",
        "df_train[\"GarageFinish\"].replace(np.nan, max_GarageFinish, inplace=True)\n",
        "\n",
        "max_GarageQual = df_train[\"GarageQual\"].value_counts().idxmax()\n",
        "df_train[\"GarageQual\"].replace(np.nan, max_GarageQual, inplace=True)\n",
        "\n",
        "max_GarageCond = df_train[\"GarageCond\"].value_counts().idxmax()\n",
        "df_train[\"GarageCond\"].replace(np.nan, max_GarageCond, inplace=True)\n",
        "\n",
        "max_BsmtCond = df_train[\"BsmtCond\"].value_counts().idxmax()\n",
        "df_train[\"BsmtCond\"].replace(np.nan, max_BsmtCond, inplace=True)"
      ],
      "execution_count": null,
      "outputs": []
    },
    {
      "cell_type": "markdown",
      "metadata": {
        "id": "FuGIHTFBDTK3"
      },
      "source": [
        "#### Comprobamos si existen valores faltantes"
      ]
    },
    {
      "cell_type": "code",
      "metadata": {
        "colab": {
          "base_uri": "https://localhost:8080/",
          "height": 49
        },
        "id": "5r6gblE3DQYO",
        "outputId": "a394e152-72f3-4aed-ccab-08ba7aa1276a"
      },
      "source": [
        "total = df_train.isnull().sum().sort_values(ascending = False)\n",
        "percent = (df_train.isnull().sum() / df_train.isnull().count()).sort_values(ascending = False)\n",
        "missing_data = pd.concat([total, percent], axis = 1, keys = ['Total', 'Percent'])\n",
        "missing_data[missing_data['Total'] > 0]"
      ],
      "execution_count": null,
      "outputs": [
        {
          "output_type": "execute_result",
          "data": {
            "text/html": [
              "<div>\n",
              "<style scoped>\n",
              "    .dataframe tbody tr th:only-of-type {\n",
              "        vertical-align: middle;\n",
              "    }\n",
              "\n",
              "    .dataframe tbody tr th {\n",
              "        vertical-align: top;\n",
              "    }\n",
              "\n",
              "    .dataframe thead th {\n",
              "        text-align: right;\n",
              "    }\n",
              "</style>\n",
              "<table border=\"1\" class=\"dataframe\">\n",
              "  <thead>\n",
              "    <tr style=\"text-align: right;\">\n",
              "      <th></th>\n",
              "      <th>Total</th>\n",
              "      <th>Percent</th>\n",
              "    </tr>\n",
              "  </thead>\n",
              "  <tbody>\n",
              "  </tbody>\n",
              "</table>\n",
              "</div>"
            ],
            "text/plain": [
              "Empty DataFrame\n",
              "Columns: [Total, Percent]\n",
              "Index: []"
            ]
          },
          "metadata": {
            "tags": []
          },
          "execution_count": 8
        }
      ]
    },
    {
      "cell_type": "code",
      "metadata": {
        "colab": {
          "base_uri": "https://localhost:8080/",
          "height": 324
        },
        "id": "flf45hZvDX0j",
        "outputId": "b4af88de-0fbd-47d5-8866-2d8086287274"
      },
      "source": [
        "sns.heatmap(df_train.isnull(), yticklabels=False, cbar = False, cmap = \"Blues\");"
      ],
      "execution_count": null,
      "outputs": [
        {
          "output_type": "display_data",
          "data": {
            "image/png": "[encoded data removed]",
            "text/plain": [
              "<Figure size 432x288 with 1 Axes>"
            ]
          },
          "metadata": {
            "tags": [],
            "needs_background": "light"
          }
        }
      ]
    },
    {
      "cell_type": "markdown",
      "metadata": {
        "id": "4mqH2OiuEuhJ"
      },
      "source": [
        "### 3.2. Identificación y tratamiento de valores extremos.\n",
        "\n",
        "\n",
        "\n"
      ]
    },
    {
      "cell_type": "markdown",
      "metadata": {
        "id": "GvQvh73M93I8"
      },
      "source": [
        "#### Datos atípicos"
      ]
    },
    {
      "cell_type": "code",
      "metadata": {
        "colab": {
          "base_uri": "https://localhost:8080/",
          "height": 279
        },
        "id": "oT48u5di86Pn",
        "outputId": "d1b3e495-573d-44b0-afd8-c8e42613179e"
      },
      "source": [
        "ax = sns.boxplot(x=df_train['SalePrice'])"
      ],
      "execution_count": null,
      "outputs": [
        {
          "output_type": "display_data",
          "data": {
            "image/png": "[encoded data removed]",
            "text/plain": [
              "<Figure size 432x288 with 1 Axes>"
            ]
          },
          "metadata": {
            "tags": [],
            "needs_background": "light"
          }
        }
      ]
    },
    {
      "cell_type": "markdown",
      "metadata": {
        "id": "pdeTtYkCCUM4"
      },
      "source": [
        "Los puntos que se encuentran fuera de los bigotes son los Outlier"
      ]
    },
    {
      "cell_type": "code",
      "metadata": {
        "colab": {
          "base_uri": "https://localhost:8080/"
        },
        "id": "J9cdrgYqDslJ",
        "outputId": "2086c001-8ab1-4f84-806f-3da4c172541b"
      },
      "source": [
        "df_train['SalePrice'].describe()"
      ],
      "execution_count": null,
      "outputs": [
        {
          "output_type": "execute_result",
          "data": {
            "text/plain": [
              "count      1460.000000\n",
              "mean     180921.195890\n",
              "std       79442.502883\n",
              "min       34900.000000\n",
              "25%      129975.000000\n",
              "50%      163000.000000\n",
              "75%      214000.000000\n",
              "max      755000.000000\n",
              "Name: SalePrice, dtype: float64"
            ]
          },
          "metadata": {
            "tags": []
          },
          "execution_count": 33
        }
      ]
    },
    {
      "cell_type": "code",
      "metadata": {
        "colab": {
          "base_uri": "https://localhost:8080/"
        },
        "id": "AEqqPiArDPQ3",
        "outputId": "5cb416a4-45f8-4abc-f8d6-63e3cda9d1b8"
      },
      "source": [
        "Q1 = df_train['SalePrice'].quantile(0.25)\n",
        "Q3 = df_train['SalePrice'].quantile(0.75)\n",
        "IQR = Q3 - Q1\n",
        "IQR"
      ],
      "execution_count": null,
      "outputs": [
        {
          "output_type": "execute_result",
          "data": {
            "text/plain": [
              "84025.0"
            ]
          },
          "metadata": {
            "tags": []
          },
          "execution_count": 37
        }
      ]
    },
    {
      "cell_type": "markdown",
      "metadata": {
        "id": "3_XR5qcdF342"
      },
      "source": [
        "**Calculo de los valores del bigote superior e inferior**"
      ]
    },
    {
      "cell_type": "code",
      "metadata": {
        "colab": {
          "base_uri": "https://localhost:8080/"
        },
        "id": "QuhE8GbLEsKr",
        "outputId": "cea47bab-81b7-4373-ea80-cb7d9d73d63b"
      },
      "source": [
        "BI_Calculado = (Q1 - 1.5 * IQR)\n",
        "BI_Calculado"
      ],
      "execution_count": null,
      "outputs": [
        {
          "output_type": "execute_result",
          "data": {
            "text/plain": [
              "3937.5"
            ]
          },
          "metadata": {
            "tags": []
          },
          "execution_count": 38
        }
      ]
    },
    {
      "cell_type": "code",
      "metadata": {
        "colab": {
          "base_uri": "https://localhost:8080/"
        },
        "id": "Cpc0ZcDZGZze",
        "outputId": "96f20965-c9e6-4f2b-9cb4-5fd72298a17a"
      },
      "source": [
        "BS_Calculado = (Q3 + 1.5 * IQR)\n",
        "BS_Calculado"
      ],
      "execution_count": null,
      "outputs": [
        {
          "output_type": "execute_result",
          "data": {
            "text/plain": [
              "340037.5"
            ]
          },
          "metadata": {
            "tags": []
          },
          "execution_count": 39
        }
      ]
    },
    {
      "cell_type": "markdown",
      "metadata": {
        "id": "4xJ6PvCqG3LG"
      },
      "source": [
        "**Ubicación de los datos atípicos**"
      ]
    },
    {
      "cell_type": "code",
      "metadata": {
        "id": "1p60ZrT1GgSd"
      },
      "source": [
        "ubicacion_outlier = (df_train['SalePrice'] < BI_Calculado) | (df_train['SalePrice'] > BS_Calculado)"
      ],
      "execution_count": null,
      "outputs": []
    },
    {
      "cell_type": "code",
      "metadata": {
        "id": "ptATDJtFHV0b"
      },
      "source": [
        "outlier= pd.DataFrame(df_train[ubicacion_outlier]['SalePrice'])"
      ],
      "execution_count": null,
      "outputs": []
    },
    {
      "cell_type": "code",
      "metadata": {
        "colab": {
          "base_uri": "https://localhost:8080/"
        },
        "id": "fzzWZftqHZbc",
        "outputId": "6df27402-86ea-4246-a8fc-ace4387195f0"
      },
      "source": [
        "outlier.size"
      ],
      "execution_count": null,
      "outputs": [
        {
          "output_type": "execute_result",
          "data": {
            "text/plain": [
              "61"
            ]
          },
          "metadata": {
            "tags": []
          },
          "execution_count": 47
        }
      ]
    },
    {
      "cell_type": "markdown",
      "metadata": {
        "id": "z_q3xCCtOh0h"
      },
      "source": [
        "Podemos ver existen 61 elementos que son datos atípicos "
      ]
    },
    {
      "cell_type": "markdown",
      "metadata": {
        "id": "QmmVcj5QPSvO"
      },
      "source": [
        "Y estos elementos se los podría tratar de diferentes formas:\n",
        "- **Eliminación de los datos de valores atípicos :** omite los valores de valores atípicos.\n",
        "- **Capa de los datos de valores atípicos :** se reemplazan los valores de valores atípicos con el límite superior y el límite inferior. los valores atípicos que se encuentran en un límite superior se reemplazarán por valores de límite superior. De lo contrario, los valores atípicos que se encuentran más en el límite inferior se pueden reemplazar por un límite inferior.\n",
        "- **Reemplazo por nuevos valores :** Reemplaza el valor de los valores atípicos con la media, la mediana o la moda."
      ]
    },
    {
      "cell_type": "markdown",
      "metadata": {
        "id": "8qBnDpU-3ODt"
      },
      "source": [
        "# 4. Análisis de los datos."
      ]
    },
    {
      "cell_type": "markdown",
      "metadata": {
        "id": "xZ72sKt93UR8"
      },
      "source": [
        "### 4.1. Selección de los grupos de datos que se quieren analizar/comparar."
      ]
    },
    {
      "cell_type": "markdown",
      "metadata": {
        "id": "FeFEmjtL7Jc9"
      },
      "source": [
        "- Mi variable objetivo es SALEPRICE\n",
        "- LotShape: forma general de la propiedad\n",
        "- MSZoning: la clasificación general de zonificación\n"
      ]
    },
    {
      "cell_type": "code",
      "metadata": {
        "colab": {
          "base_uri": "https://localhost:8080/",
          "height": 224
        },
        "id": "HU6bQH7w5IQh",
        "outputId": "3caa21da-190b-4b5a-feb6-d5e467b5b1ae"
      },
      "source": [
        "df_train.head()"
      ],
      "execution_count": null,
      "outputs": [
        {
          "output_type": "execute_result",
          "data": {
            "text/html": [
              "<div>\n",
              "<style scoped>\n",
              "    .dataframe tbody tr th:only-of-type {\n",
              "        vertical-align: middle;\n",
              "    }\n",
              "\n",
              "    .dataframe tbody tr th {\n",
              "        vertical-align: top;\n",
              "    }\n",
              "\n",
              "    .dataframe thead th {\n",
              "        text-align: right;\n",
              "    }\n",
              "</style>\n",
              "<table border=\"1\" class=\"dataframe\">\n",
              "  <thead>\n",
              "    <tr style=\"text-align: right;\">\n",
              "      <th></th>\n",
              "      <th>Id</th>\n",
              "      <th>MSSubClass</th>\n",
              "      <th>MSZoning</th>\n",
              "      <th>LotFrontage</th>\n",
              "      <th>LotArea</th>\n",
              "      <th>Street</th>\n",
              "      <th>LotShape</th>\n",
              "      <th>LandContour</th>\n",
              "      <th>Utilities</th>\n",
              "      <th>LotConfig</th>\n",
              "      <th>LandSlope</th>\n",
              "      <th>Neighborhood</th>\n",
              "      <th>Condition1</th>\n",
              "      <th>Condition2</th>\n",
              "      <th>BldgType</th>\n",
              "      <th>HouseStyle</th>\n",
              "      <th>OverallQual</th>\n",
              "      <th>OverallCond</th>\n",
              "      <th>YearBuilt</th>\n",
              "      <th>YearRemodAdd</th>\n",
              "      <th>RoofStyle</th>\n",
              "      <th>RoofMatl</th>\n",
              "      <th>Exterior1st</th>\n",
              "      <th>Exterior2nd</th>\n",
              "      <th>MasVnrType</th>\n",
              "      <th>MasVnrArea</th>\n",
              "      <th>ExterQual</th>\n",
              "      <th>ExterCond</th>\n",
              "      <th>Foundation</th>\n",
              "      <th>BsmtQual</th>\n",
              "      <th>BsmtCond</th>\n",
              "      <th>BsmtExposure</th>\n",
              "      <th>BsmtFinType1</th>\n",
              "      <th>BsmtFinSF1</th>\n",
              "      <th>BsmtFinType2</th>\n",
              "      <th>BsmtFinSF2</th>\n",
              "      <th>BsmtUnfSF</th>\n",
              "      <th>TotalBsmtSF</th>\n",
              "      <th>Heating</th>\n",
              "      <th>HeatingQC</th>\n",
              "      <th>CentralAir</th>\n",
              "      <th>Electrical</th>\n",
              "      <th>1stFlrSF</th>\n",
              "      <th>2ndFlrSF</th>\n",
              "      <th>LowQualFinSF</th>\n",
              "      <th>GrLivArea</th>\n",
              "      <th>BsmtFullBath</th>\n",
              "      <th>BsmtHalfBath</th>\n",
              "      <th>FullBath</th>\n",
              "      <th>HalfBath</th>\n",
              "      <th>BedroomAbvGr</th>\n",
              "      <th>KitchenAbvGr</th>\n",
              "      <th>KitchenQual</th>\n",
              "      <th>TotRmsAbvGrd</th>\n",
              "      <th>Functional</th>\n",
              "      <th>Fireplaces</th>\n",
              "      <th>FireplaceQu</th>\n",
              "      <th>GarageType</th>\n",
              "      <th>GarageYrBlt</th>\n",
              "      <th>GarageFinish</th>\n",
              "      <th>GarageCars</th>\n",
              "      <th>GarageArea</th>\n",
              "      <th>GarageQual</th>\n",
              "      <th>GarageCond</th>\n",
              "      <th>PavedDrive</th>\n",
              "      <th>WoodDeckSF</th>\n",
              "      <th>OpenPorchSF</th>\n",
              "      <th>EnclosedPorch</th>\n",
              "      <th>3SsnPorch</th>\n",
              "      <th>ScreenPorch</th>\n",
              "      <th>PoolArea</th>\n",
              "      <th>MiscVal</th>\n",
              "      <th>MoSold</th>\n",
              "      <th>YrSold</th>\n",
              "      <th>SaleType</th>\n",
              "      <th>SaleCondition</th>\n",
              "      <th>SalePrice</th>\n",
              "    </tr>\n",
              "  </thead>\n",
              "  <tbody>\n",
              "    <tr>\n",
              "      <th>0</th>\n",
              "      <td>1</td>\n",
              "      <td>60</td>\n",
              "      <td>RL</td>\n",
              "      <td>65.0</td>\n",
              "      <td>8450</td>\n",
              "      <td>Pave</td>\n",
              "      <td>Reg</td>\n",
              "      <td>Lvl</td>\n",
              "      <td>AllPub</td>\n",
              "      <td>Inside</td>\n",
              "      <td>Gtl</td>\n",
              "      <td>CollgCr</td>\n",
              "      <td>Norm</td>\n",
              "      <td>Norm</td>\n",
              "      <td>1Fam</td>\n",
              "      <td>2Story</td>\n",
              "      <td>7</td>\n",
              "      <td>5</td>\n",
              "      <td>2003</td>\n",
              "      <td>2003</td>\n",
              "      <td>Gable</td>\n",
              "      <td>CompShg</td>\n",
              "      <td>VinylSd</td>\n",
              "      <td>VinylSd</td>\n",
              "      <td>BrkFace</td>\n",
              "      <td>196.0</td>\n",
              "      <td>Gd</td>\n",
              "      <td>TA</td>\n",
              "      <td>PConc</td>\n",
              "      <td>Gd</td>\n",
              "      <td>TA</td>\n",
              "      <td>No</td>\n",
              "      <td>GLQ</td>\n",
              "      <td>706</td>\n",
              "      <td>Unf</td>\n",
              "      <td>0</td>\n",
              "      <td>150</td>\n",
              "      <td>856</td>\n",
              "      <td>GasA</td>\n",
              "      <td>Ex</td>\n",
              "      <td>Y</td>\n",
              "      <td>SBrkr</td>\n",
              "      <td>856</td>\n",
              "      <td>854</td>\n",
              "      <td>0</td>\n",
              "      <td>1710</td>\n",
              "      <td>1</td>\n",
              "      <td>0</td>\n",
              "      <td>2</td>\n",
              "      <td>1</td>\n",
              "      <td>3</td>\n",
              "      <td>1</td>\n",
              "      <td>Gd</td>\n",
              "      <td>8</td>\n",
              "      <td>Typ</td>\n",
              "      <td>0</td>\n",
              "      <td>Gd</td>\n",
              "      <td>Attchd</td>\n",
              "      <td>2003.0</td>\n",
              "      <td>RFn</td>\n",
              "      <td>2</td>\n",
              "      <td>548</td>\n",
              "      <td>TA</td>\n",
              "      <td>TA</td>\n",
              "      <td>Y</td>\n",
              "      <td>0</td>\n",
              "      <td>61</td>\n",
              "      <td>0</td>\n",
              "      <td>0</td>\n",
              "      <td>0</td>\n",
              "      <td>0</td>\n",
              "      <td>0</td>\n",
              "      <td>2</td>\n",
              "      <td>2008</td>\n",
              "      <td>WD</td>\n",
              "      <td>Normal</td>\n",
              "      <td>208500</td>\n",
              "    </tr>\n",
              "    <tr>\n",
              "      <th>1</th>\n",
              "      <td>2</td>\n",
              "      <td>20</td>\n",
              "      <td>RL</td>\n",
              "      <td>80.0</td>\n",
              "      <td>9600</td>\n",
              "      <td>Pave</td>\n",
              "      <td>Reg</td>\n",
              "      <td>Lvl</td>\n",
              "      <td>AllPub</td>\n",
              "      <td>FR2</td>\n",
              "      <td>Gtl</td>\n",
              "      <td>Veenker</td>\n",
              "      <td>Feedr</td>\n",
              "      <td>Norm</td>\n",
              "      <td>1Fam</td>\n",
              "      <td>1Story</td>\n",
              "      <td>6</td>\n",
              "      <td>8</td>\n",
              "      <td>1976</td>\n",
              "      <td>1976</td>\n",
              "      <td>Gable</td>\n",
              "      <td>CompShg</td>\n",
              "      <td>MetalSd</td>\n",
              "      <td>MetalSd</td>\n",
              "      <td>None</td>\n",
              "      <td>0.0</td>\n",
              "      <td>TA</td>\n",
              "      <td>TA</td>\n",
              "      <td>CBlock</td>\n",
              "      <td>Gd</td>\n",
              "      <td>TA</td>\n",
              "      <td>Gd</td>\n",
              "      <td>ALQ</td>\n",
              "      <td>978</td>\n",
              "      <td>Unf</td>\n",
              "      <td>0</td>\n",
              "      <td>284</td>\n",
              "      <td>1262</td>\n",
              "      <td>GasA</td>\n",
              "      <td>Ex</td>\n",
              "      <td>Y</td>\n",
              "      <td>SBrkr</td>\n",
              "      <td>1262</td>\n",
              "      <td>0</td>\n",
              "      <td>0</td>\n",
              "      <td>1262</td>\n",
              "      <td>0</td>\n",
              "      <td>1</td>\n",
              "      <td>2</td>\n",
              "      <td>0</td>\n",
              "      <td>3</td>\n",
              "      <td>1</td>\n",
              "      <td>TA</td>\n",
              "      <td>6</td>\n",
              "      <td>Typ</td>\n",
              "      <td>1</td>\n",
              "      <td>TA</td>\n",
              "      <td>Attchd</td>\n",
              "      <td>1976.0</td>\n",
              "      <td>RFn</td>\n",
              "      <td>2</td>\n",
              "      <td>460</td>\n",
              "      <td>TA</td>\n",
              "      <td>TA</td>\n",
              "      <td>Y</td>\n",
              "      <td>298</td>\n",
              "      <td>0</td>\n",
              "      <td>0</td>\n",
              "      <td>0</td>\n",
              "      <td>0</td>\n",
              "      <td>0</td>\n",
              "      <td>0</td>\n",
              "      <td>5</td>\n",
              "      <td>2007</td>\n",
              "      <td>WD</td>\n",
              "      <td>Normal</td>\n",
              "      <td>181500</td>\n",
              "    </tr>\n",
              "    <tr>\n",
              "      <th>2</th>\n",
              "      <td>3</td>\n",
              "      <td>60</td>\n",
              "      <td>RL</td>\n",
              "      <td>68.0</td>\n",
              "      <td>11250</td>\n",
              "      <td>Pave</td>\n",
              "      <td>IR1</td>\n",
              "      <td>Lvl</td>\n",
              "      <td>AllPub</td>\n",
              "      <td>Inside</td>\n",
              "      <td>Gtl</td>\n",
              "      <td>CollgCr</td>\n",
              "      <td>Norm</td>\n",
              "      <td>Norm</td>\n",
              "      <td>1Fam</td>\n",
              "      <td>2Story</td>\n",
              "      <td>7</td>\n",
              "      <td>5</td>\n",
              "      <td>2001</td>\n",
              "      <td>2002</td>\n",
              "      <td>Gable</td>\n",
              "      <td>CompShg</td>\n",
              "      <td>VinylSd</td>\n",
              "      <td>VinylSd</td>\n",
              "      <td>BrkFace</td>\n",
              "      <td>162.0</td>\n",
              "      <td>Gd</td>\n",
              "      <td>TA</td>\n",
              "      <td>PConc</td>\n",
              "      <td>Gd</td>\n",
              "      <td>TA</td>\n",
              "      <td>Mn</td>\n",
              "      <td>GLQ</td>\n",
              "      <td>486</td>\n",
              "      <td>Unf</td>\n",
              "      <td>0</td>\n",
              "      <td>434</td>\n",
              "      <td>920</td>\n",
              "      <td>GasA</td>\n",
              "      <td>Ex</td>\n",
              "      <td>Y</td>\n",
              "      <td>SBrkr</td>\n",
              "      <td>920</td>\n",
              "      <td>866</td>\n",
              "      <td>0</td>\n",
              "      <td>1786</td>\n",
              "      <td>1</td>\n",
              "      <td>0</td>\n",
              "      <td>2</td>\n",
              "      <td>1</td>\n",
              "      <td>3</td>\n",
              "      <td>1</td>\n",
              "      <td>Gd</td>\n",
              "      <td>6</td>\n",
              "      <td>Typ</td>\n",
              "      <td>1</td>\n",
              "      <td>TA</td>\n",
              "      <td>Attchd</td>\n",
              "      <td>2001.0</td>\n",
              "      <td>RFn</td>\n",
              "      <td>2</td>\n",
              "      <td>608</td>\n",
              "      <td>TA</td>\n",
              "      <td>TA</td>\n",
              "      <td>Y</td>\n",
              "      <td>0</td>\n",
              "      <td>42</td>\n",
              "      <td>0</td>\n",
              "      <td>0</td>\n",
              "      <td>0</td>\n",
              "      <td>0</td>\n",
              "      <td>0</td>\n",
              "      <td>9</td>\n",
              "      <td>2008</td>\n",
              "      <td>WD</td>\n",
              "      <td>Normal</td>\n",
              "      <td>223500</td>\n",
              "    </tr>\n",
              "    <tr>\n",
              "      <th>3</th>\n",
              "      <td>4</td>\n",
              "      <td>70</td>\n",
              "      <td>RL</td>\n",
              "      <td>60.0</td>\n",
              "      <td>9550</td>\n",
              "      <td>Pave</td>\n",
              "      <td>IR1</td>\n",
              "      <td>Lvl</td>\n",
              "      <td>AllPub</td>\n",
              "      <td>Corner</td>\n",
              "      <td>Gtl</td>\n",
              "      <td>Crawfor</td>\n",
              "      <td>Norm</td>\n",
              "      <td>Norm</td>\n",
              "      <td>1Fam</td>\n",
              "      <td>2Story</td>\n",
              "      <td>7</td>\n",
              "      <td>5</td>\n",
              "      <td>1915</td>\n",
              "      <td>1970</td>\n",
              "      <td>Gable</td>\n",
              "      <td>CompShg</td>\n",
              "      <td>Wd Sdng</td>\n",
              "      <td>Wd Shng</td>\n",
              "      <td>None</td>\n",
              "      <td>0.0</td>\n",
              "      <td>TA</td>\n",
              "      <td>TA</td>\n",
              "      <td>BrkTil</td>\n",
              "      <td>TA</td>\n",
              "      <td>Gd</td>\n",
              "      <td>No</td>\n",
              "      <td>ALQ</td>\n",
              "      <td>216</td>\n",
              "      <td>Unf</td>\n",
              "      <td>0</td>\n",
              "      <td>540</td>\n",
              "      <td>756</td>\n",
              "      <td>GasA</td>\n",
              "      <td>Gd</td>\n",
              "      <td>Y</td>\n",
              "      <td>SBrkr</td>\n",
              "      <td>961</td>\n",
              "      <td>756</td>\n",
              "      <td>0</td>\n",
              "      <td>1717</td>\n",
              "      <td>1</td>\n",
              "      <td>0</td>\n",
              "      <td>1</td>\n",
              "      <td>0</td>\n",
              "      <td>3</td>\n",
              "      <td>1</td>\n",
              "      <td>Gd</td>\n",
              "      <td>7</td>\n",
              "      <td>Typ</td>\n",
              "      <td>1</td>\n",
              "      <td>Gd</td>\n",
              "      <td>Detchd</td>\n",
              "      <td>1998.0</td>\n",
              "      <td>Unf</td>\n",
              "      <td>3</td>\n",
              "      <td>642</td>\n",
              "      <td>TA</td>\n",
              "      <td>TA</td>\n",
              "      <td>Y</td>\n",
              "      <td>0</td>\n",
              "      <td>35</td>\n",
              "      <td>272</td>\n",
              "      <td>0</td>\n",
              "      <td>0</td>\n",
              "      <td>0</td>\n",
              "      <td>0</td>\n",
              "      <td>2</td>\n",
              "      <td>2006</td>\n",
              "      <td>WD</td>\n",
              "      <td>Abnorml</td>\n",
              "      <td>140000</td>\n",
              "    </tr>\n",
              "    <tr>\n",
              "      <th>4</th>\n",
              "      <td>5</td>\n",
              "      <td>60</td>\n",
              "      <td>RL</td>\n",
              "      <td>84.0</td>\n",
              "      <td>14260</td>\n",
              "      <td>Pave</td>\n",
              "      <td>IR1</td>\n",
              "      <td>Lvl</td>\n",
              "      <td>AllPub</td>\n",
              "      <td>FR2</td>\n",
              "      <td>Gtl</td>\n",
              "      <td>NoRidge</td>\n",
              "      <td>Norm</td>\n",
              "      <td>Norm</td>\n",
              "      <td>1Fam</td>\n",
              "      <td>2Story</td>\n",
              "      <td>8</td>\n",
              "      <td>5</td>\n",
              "      <td>2000</td>\n",
              "      <td>2000</td>\n",
              "      <td>Gable</td>\n",
              "      <td>CompShg</td>\n",
              "      <td>VinylSd</td>\n",
              "      <td>VinylSd</td>\n",
              "      <td>BrkFace</td>\n",
              "      <td>350.0</td>\n",
              "      <td>Gd</td>\n",
              "      <td>TA</td>\n",
              "      <td>PConc</td>\n",
              "      <td>Gd</td>\n",
              "      <td>TA</td>\n",
              "      <td>Av</td>\n",
              "      <td>GLQ</td>\n",
              "      <td>655</td>\n",
              "      <td>Unf</td>\n",
              "      <td>0</td>\n",
              "      <td>490</td>\n",
              "      <td>1145</td>\n",
              "      <td>GasA</td>\n",
              "      <td>Ex</td>\n",
              "      <td>Y</td>\n",
              "      <td>SBrkr</td>\n",
              "      <td>1145</td>\n",
              "      <td>1053</td>\n",
              "      <td>0</td>\n",
              "      <td>2198</td>\n",
              "      <td>1</td>\n",
              "      <td>0</td>\n",
              "      <td>2</td>\n",
              "      <td>1</td>\n",
              "      <td>4</td>\n",
              "      <td>1</td>\n",
              "      <td>Gd</td>\n",
              "      <td>9</td>\n",
              "      <td>Typ</td>\n",
              "      <td>1</td>\n",
              "      <td>TA</td>\n",
              "      <td>Attchd</td>\n",
              "      <td>2000.0</td>\n",
              "      <td>RFn</td>\n",
              "      <td>3</td>\n",
              "      <td>836</td>\n",
              "      <td>TA</td>\n",
              "      <td>TA</td>\n",
              "      <td>Y</td>\n",
              "      <td>192</td>\n",
              "      <td>84</td>\n",
              "      <td>0</td>\n",
              "      <td>0</td>\n",
              "      <td>0</td>\n",
              "      <td>0</td>\n",
              "      <td>0</td>\n",
              "      <td>12</td>\n",
              "      <td>2008</td>\n",
              "      <td>WD</td>\n",
              "      <td>Normal</td>\n",
              "      <td>250000</td>\n",
              "    </tr>\n",
              "  </tbody>\n",
              "</table>\n",
              "</div>"
            ],
            "text/plain": [
              "   Id  MSSubClass MSZoning  ...  SaleType  SaleCondition SalePrice\n",
              "0   1          60       RL  ...        WD         Normal    208500\n",
              "1   2          20       RL  ...        WD         Normal    181500\n",
              "2   3          60       RL  ...        WD         Normal    223500\n",
              "3   4          70       RL  ...        WD        Abnorml    140000\n",
              "4   5          60       RL  ...        WD         Normal    250000\n",
              "\n",
              "[5 rows x 77 columns]"
            ]
          },
          "metadata": {
            "tags": []
          },
          "execution_count": 11
        }
      ]
    },
    {
      "cell_type": "markdown",
      "metadata": {
        "id": "ptdptWxv7aUE"
      },
      "source": [
        "### 4.2. Comprobación de la normalidad y homogeneidad de la varianza."
      ]
    },
    {
      "cell_type": "markdown",
      "metadata": {
        "id": "axnKXCsO3gdT"
      },
      "source": [
        "#### Análisis univariante de la variable SalePrice"
      ]
    },
    {
      "cell_type": "code",
      "metadata": {
        "id": "6X3pWJ_tHuJI",
        "colab": {
          "base_uri": "https://localhost:8080/",
          "height": 290
        },
        "outputId": "7565fa4b-e8ed-481f-ca8b-20e6c60e3b4b"
      },
      "source": [
        "sns.distplot(df_train['SalePrice'])\n",
        "plt.show()"
      ],
      "execution_count": null,
      "outputs": [
        {
          "output_type": "display_data",
          "data": {
            "image/png": "[encoded data removed]",
            "text/plain": [
              "<Figure size 432x288 with 1 Axes>"
            ]
          },
          "metadata": {
            "tags": [],
            "needs_background": "light"
          }
        }
      ]
    },
    {
      "cell_type": "markdown",
      "metadata": {
        "id": "JAFILNQU3qsb"
      },
      "source": [
        "<p align=\"justify\">\n",
        "Como podemos ver existe una asimetría positiva dado que la \"cola\" a la derecha de la media es más larga que la de la izquierda, es decir, si hay valores más separados de la media a la derecha, y la distribución tiende a una normal\n",
        "</p>"
      ]
    },
    {
      "cell_type": "code",
      "metadata": {
        "colab": {
          "base_uri": "https://localhost:8080/"
        },
        "id": "9KZpdPLu3nWf",
        "outputId": "bcffcd7c-9dce-435e-a426-0e2d927d3091"
      },
      "source": [
        "df_train['SalePrice'].skew()"
      ],
      "execution_count": null,
      "outputs": [
        {
          "output_type": "execute_result",
          "data": {
            "text/plain": [
              "1.8828757597682129"
            ]
          },
          "metadata": {
            "tags": []
          },
          "execution_count": 9
        }
      ]
    },
    {
      "cell_type": "markdown",
      "metadata": {
        "id": "w9n2FtL94C_M"
      },
      "source": [
        "<p align=\"justify\">\n",
        "Como vemos la función sesgo nos da un valor mayor a cero con lo cual nos indica que existe una asimetría positiva en esta distribución \n",
        "</p>"
      ]
    },
    {
      "cell_type": "code",
      "metadata": {
        "colab": {
          "base_uri": "https://localhost:8080/"
        },
        "id": "4eN_xPcK39rR",
        "outputId": "4b95fcf4-1588-4561-cd95-663487ef6ac7"
      },
      "source": [
        "df_train['SalePrice'].kurt()"
      ],
      "execution_count": null,
      "outputs": [
        {
          "output_type": "execute_result",
          "data": {
            "text/plain": [
              "6.536281860064529"
            ]
          },
          "metadata": {
            "tags": []
          },
          "execution_count": 10
        }
      ]
    },
    {
      "cell_type": "markdown",
      "metadata": {
        "id": "zKOcCRA13zAT"
      },
      "source": [
        "<p align=\"justify\">\n",
        "La curtosis es una medida estadística que determina el grado de concentración que presentan los valores de una variable alrededor de la zona central de la distribución de frecuencias. También es conocida como medida de apuntamiento.\n",
        "</p>"
      ]
    },
    {
      "cell_type": "markdown",
      "metadata": {
        "id": "HJ3-Liyt4KXe"
      },
      "source": [
        "Tipos de curtosis\n",
        "- Leptocúrtica: Existe una gran concentración de los valores en torno a su media\n",
        "- Mesocúrtica: Existe una concentración normal de los valores en torno a su media\n",
        "- Platicúrtica: Existe una baja concentración de los valores en torno a su media"
      ]
    },
    {
      "cell_type": "markdown",
      "metadata": {
        "id": "FzEPEtK74OSa"
      },
      "source": [
        "<p align=\"justify\">\n",
        "Vemos que la función curtosis nos da un valor mayor a 3 con lo cual inferimos que se trata de una distribución  Leptocúrtica\n",
        "</p>"
      ]
    },
    {
      "cell_type": "markdown",
      "metadata": {
        "id": "hjiKXYnPjuxk"
      },
      "source": [
        "#### Prueba de normalidad"
      ]
    },
    {
      "cell_type": "code",
      "metadata": {
        "colab": {
          "base_uri": "https://localhost:8080/",
          "height": 295
        },
        "id": "51p4Wvkgnj6n",
        "outputId": "68f0ca1d-4bc7-4660-eabd-430fbfbfc919"
      },
      "source": [
        "import scipy.stats as stats\n",
        "import pylab \n",
        "stats.probplot(df_train['SalePrice'], dist=\"norm\", plot=pylab)\n",
        "pylab.show()"
      ],
      "execution_count": null,
      "outputs": [
        {
          "output_type": "display_data",
          "data": {
            "image/png": "[encoded data removed]",
            "text/plain": [
              "<Figure size 432x288 with 1 Axes>"
            ]
          },
          "metadata": {
            "tags": [],
            "needs_background": "light"
          }
        }
      ]
    },
    {
      "cell_type": "markdown",
      "metadata": {
        "id": "ysqf0ICTljHP"
      },
      "source": [
        "<p align=\"justify\">\n",
        "La prueba shapiro-wilk es una prueba de normalidad. Se utiliza para determinar si una muestra procede o no de una distribución normal. Para realizar una prueba de Shapiro-Wilk en Python podemos utilizar la función scipy.stats.shapiro()\n",
        "</p>"
      ]
    },
    {
      "cell_type": "markdown",
      "metadata": {
        "id": "VdRzL2iflyb5"
      },
      "source": [
        "<p align=\"justify\">\n",
        "Esta función devuelve una estadística de prueba y un valor p correspondiente. Si el valor p está por debajo de un cierto nivel de significancia, entonces tenemos suficiente evidencia para decir que los datos de la muestra no provienen de una distribución normal.\n",
        "</p>"
      ]
    },
    {
      "cell_type": "code",
      "metadata": {
        "id": "LI5kvH2lj4S2"
      },
      "source": [
        "from scipy.stats import shapiro"
      ],
      "execution_count": null,
      "outputs": []
    },
    {
      "cell_type": "code",
      "metadata": {
        "colab": {
          "base_uri": "https://localhost:8080/"
        },
        "id": "mbwIKs6Lj9S3",
        "outputId": "14b83aca-2645-4e8c-aeeb-df72e5a1307e"
      },
      "source": [
        "shapiro(df_train['SalePrice'])"
      ],
      "execution_count": null,
      "outputs": [
        {
          "output_type": "execute_result",
          "data": {
            "text/plain": [
              "(0.869671642780304, 3.206247534576162e-33)"
            ]
          },
          "metadata": {
            "tags": []
          },
          "execution_count": 30
        }
      ]
    },
    {
      "cell_type": "markdown",
      "metadata": {
        "id": "sLOzgK6zkkKf"
      },
      "source": [
        "<p align=\"justify\">\n",
        "De la salida podemos ver que la estadística de prueba es 0.86 y el p-valor correspondiente es 3.20. Dado que el p-valor no es inferior a 0.05, no rechazamos la hipótesis nula. No tenemos pruebas suficientes para decir que los datos de la muestra no proceden de una distribución normal.\n",
        "</p>"
      ]
    },
    {
      "cell_type": "markdown",
      "metadata": {
        "id": "nyXd6FyE793V"
      },
      "source": [
        "##### Homogeneidad de la varianza"
      ]
    },
    {
      "cell_type": "markdown",
      "metadata": {
        "id": "964BIBQ67v5M"
      },
      "source": [
        "<p align=\"justify\">\n",
        "El supuesto de homogeneidad de varianzas, también conocido como supuesto de homocedasticidad, considera que la varianza es constante (no varía) en los diferentes niveles de un factor, es decir, entre diferentes grupos. En los modelos de regresión lineal, esta condición de homocedasticidad suele hacer referencia a los errores (residuos) del modelo, es decir, que la varianza de los errores es constante en todas las predicciones. Cuando la condición de homocedasticidad no se cumple, se utiliza el término heterocedasticidad.\n",
        "\n",
        "\n",
        "</p>"
      ]
    },
    {
      "cell_type": "markdown",
      "metadata": {
        "id": "VFMII3W9-N33"
      },
      "source": [
        "##### Métodos gráficos"
      ]
    },
    {
      "cell_type": "markdown",
      "metadata": {
        "id": "ls4KC4tr-Vmz"
      },
      "source": [
        "<p align=\"justify\">\n",
        "Dos de los métodos gráficos más empleados para el análisis homocedasticidad consiste en representar los datos mediante un boxplot o un violinplot. Con ambos gráficos el objetivo es comparar la dispersión de los grupos.\n",
        "\n",
        "</p>"
      ]
    },
    {
      "cell_type": "markdown",
      "metadata": {
        "id": "ZUyEQ5yuBIOk"
      },
      "source": [
        "####Contraste de hipótesis"
      ]
    },
    {
      "cell_type": "markdown",
      "metadata": {
        "id": "ssYTC-xNBV5v"
      },
      "source": [
        "<p align=\"justify\">\n",
        "El test de Levene, el test de Bartlett y el test de Fligner-Killeen son tres de los test de hipótesis más empleados comparar la varianza entre grupos. En todos ellos, se considera como hipótesis nula que los datos proceden de distribuciones con la misma varianza (homocedasticidad). Por lo tanto, si el p-value es menor que un determinado valor (típicamente 0.05), entonces se considera que hay evidencias suficientes para rechazar la homocedasticidad en favor de la heterocedasticidad.\n",
        "</p>"
      ]
    },
    {
      "cell_type": "markdown",
      "metadata": {
        "id": "oDLncIi3BVDc"
      },
      "source": [
        "<p align=\"justify\">\n",
        "El test de Levene y el test de Fligner-Killeen (este último no paramétrico) son más robustos que el test de Bartlett ante la falta de normalidad, por lo que suele aconsejarse su uso. Además, tanto el test de Levene como el de Bartlett permiten elegir entre diferentes estadísticos de centralidad: mediana (por defecto), media, media truncada. Esto es importante a la hora de contrastar la homocedasticidad dependiendo de si los grupos se distribuyen de forma normal o no.\n",
        "</p>"
      ]
    },
    {
      "cell_type": "markdown",
      "metadata": {
        "id": "F2ufDbiCBPY8"
      },
      "source": [
        "<p align=\"justify\">\n",
        "Si se tiene seguridad de que las muestras a comparar proceden de poblaciones que siguen una distribución normal, es recomendable el test de Bartlett. Si no se tiene la seguridad de que las poblaciones de origen son normales, se recomiendan el test de Leven utilizando la mediana o el test no paramétrico Fligner-Killeen que también se basa en la mediana.\n",
        "</p>"
      ]
    },
    {
      "cell_type": "markdown",
      "metadata": {
        "id": "LJm--qt_O_Wi"
      },
      "source": [
        "##### LotShape - SalePrice"
      ]
    },
    {
      "cell_type": "code",
      "metadata": {
        "colab": {
          "base_uri": "https://localhost:8080/",
          "height": 268
        },
        "id": "-bb_yF70Pgeh",
        "outputId": "5922ebb2-d487-4893-ed03-ca2cd5aa4325"
      },
      "source": [
        "# Grafico violinplot\n",
        "# ==============================================================================\n",
        "fig, ax = plt.subplots(nrows=1, ncols=1, figsize=(7, 3.5))\n",
        "sns.violinplot(\n",
        "    x       = 'SalePrice',\n",
        "    y       = 'LotShape',\n",
        "    data    = df_train,\n",
        "    palette = 'tab10',\n",
        "    inner   = 'stick',\n",
        "    ax      = ax\n",
        ")\n",
        "ax.set_title('Distribución de SalePrice por LotShape')\n",
        "plt.show()"
      ],
      "execution_count": null,
      "outputs": [
        {
          "output_type": "display_data",
          "data": {
            "image/png": "[encoded data removed]",
            "text/plain": [
              "<Figure size 504x252 with 1 Axes>"
            ]
          },
          "metadata": {
            "tags": [],
            "needs_background": "light"
          }
        }
      ]
    },
    {
      "cell_type": "code",
      "metadata": {
        "colab": {
          "base_uri": "https://localhost:8080/",
          "height": 268
        },
        "id": "KIfNZo-tPkjF",
        "outputId": "4d0ec5b8-7057-4964-c153-1525b3e69fcc"
      },
      "source": [
        "# Grafico boxplot\n",
        "# ==============================================================================\n",
        "fig, ax = plt.subplots(nrows=1, ncols=1, figsize=(7, 3.5))\n",
        "sns.boxplot(\n",
        "    x       = 'SalePrice',\n",
        "    y       = 'LotShape',\n",
        "    data    = df_train,\n",
        "    palette = 'tab10',\n",
        "    ax      = ax\n",
        ")\n",
        "ax.set_title('Distribución de SalePrice por LotShape')\n",
        "plt.show()"
      ],
      "execution_count": null,
      "outputs": [
        {
          "output_type": "display_data",
          "data": {
            "image/png": "[encoded data removed]",
            "text/plain": [
              "<Figure size 504x252 with 1 Axes>"
            ]
          },
          "metadata": {
            "tags": [],
            "needs_background": "light"
          }
        }
      ]
    },
    {
      "cell_type": "markdown",
      "metadata": {
        "id": "EYBDkTDZQDSB"
      },
      "source": [
        "El análisis gráfico parece indicar que los dos grupos tienen varianzas similares."
      ]
    },
    {
      "cell_type": "code",
      "metadata": {
        "colab": {
          "base_uri": "https://localhost:8080/"
        },
        "id": "9Qwu2VGy3u5U",
        "outputId": "0b66d6b6-ffc5-4ace-ddac-056152b9eb1e"
      },
      "source": [
        "df_train.groupby('LotShape')['LotShape'].count()"
      ],
      "execution_count": null,
      "outputs": [
        {
          "output_type": "execute_result",
          "data": {
            "text/plain": [
              "LotShape\n",
              "IR1    484\n",
              "IR2     41\n",
              "IR3     10\n",
              "Reg    925\n",
              "Name: LotShape, dtype: int64"
            ]
          },
          "metadata": {
            "tags": []
          },
          "execution_count": 17
        }
      ]
    },
    {
      "cell_type": "code",
      "metadata": {
        "id": "DhespSUN89sb"
      },
      "source": [
        "Reg = df_train.loc[df_train['LotShape']=='Reg', 'SalePrice']\n",
        "IR1 = df_train.loc[df_train['LotShape']=='IR1', 'SalePrice']\n",
        "IR2 = df_train.loc[df_train['LotShape']=='IR2', 'SalePrice']\n",
        "IR3 = df_train.loc[df_train['LotShape']=='IR3', 'SalePrice']"
      ],
      "execution_count": null,
      "outputs": []
    },
    {
      "cell_type": "markdown",
      "metadata": {
        "id": "ptftTiJ0F0yf"
      },
      "source": [
        "##### Levene test"
      ]
    },
    {
      "cell_type": "code",
      "metadata": {
        "colab": {
          "base_uri": "https://localhost:8080/"
        },
        "id": "N85USBrjDl5L",
        "outputId": "66526eaf-3995-4049-d1cf-91bd4f848463"
      },
      "source": [
        "levene_test = stats.levene(Reg, IR1, center='median')\n",
        "levene_test"
      ],
      "execution_count": null,
      "outputs": [
        {
          "output_type": "execute_result",
          "data": {
            "text/plain": [
              "LeveneResult(statistic=10.02945769702319, pvalue=0.001573642610874719)"
            ]
          },
          "metadata": {
            "tags": []
          },
          "execution_count": 28
        }
      ]
    },
    {
      "cell_type": "code",
      "metadata": {
        "colab": {
          "base_uri": "https://localhost:8080/"
        },
        "id": "jsopXnFwEIVz",
        "outputId": "1a315e29-56f5-424a-ad36-d8983a686e2c"
      },
      "source": [
        "levene_test = stats.levene(Reg, IR2, center='median')\n",
        "levene_test"
      ],
      "execution_count": null,
      "outputs": [
        {
          "output_type": "execute_result",
          "data": {
            "text/plain": [
              "LeveneResult(statistic=5.248104635704628, pvalue=0.022185757561315005)"
            ]
          },
          "metadata": {
            "tags": []
          },
          "execution_count": 29
        }
      ]
    },
    {
      "cell_type": "code",
      "metadata": {
        "colab": {
          "base_uri": "https://localhost:8080/"
        },
        "id": "ACAm0vpeENl_",
        "outputId": "0632bc1d-2ead-4c85-9b9d-7b78ac987e10"
      },
      "source": [
        "levene_test = stats.levene(Reg, IR3, center='median')\n",
        "levene_test"
      ],
      "execution_count": null,
      "outputs": [
        {
          "output_type": "execute_result",
          "data": {
            "text/plain": [
              "LeveneResult(statistic=0.671306703587738, pvalue=0.41280564044159695)"
            ]
          },
          "metadata": {
            "tags": []
          },
          "execution_count": 30
        }
      ]
    },
    {
      "cell_type": "code",
      "metadata": {
        "colab": {
          "base_uri": "https://localhost:8080/"
        },
        "id": "kP-G5BBBETpK",
        "outputId": "f72b5334-e5c7-4968-82ab-9caf46aa9af3"
      },
      "source": [
        "levene_test = stats.levene(IR1, IR2, center='median')\n",
        "levene_test"
      ],
      "execution_count": null,
      "outputs": [
        {
          "output_type": "execute_result",
          "data": {
            "text/plain": [
              "LeveneResult(statistic=0.8237942649407701, pvalue=0.3644911512590411)"
            ]
          },
          "metadata": {
            "tags": []
          },
          "execution_count": 32
        }
      ]
    },
    {
      "cell_type": "code",
      "metadata": {
        "colab": {
          "base_uri": "https://localhost:8080/"
        },
        "id": "0RsB3cpjEcat",
        "outputId": "64d57cd6-ecaa-4004-dd7b-282dcd597389"
      },
      "source": [
        "levene_test = stats.levene(IR1, IR3, center='median')\n",
        "levene_test"
      ],
      "execution_count": null,
      "outputs": [
        {
          "output_type": "execute_result",
          "data": {
            "text/plain": [
              "LeveneResult(statistic=0.031905469541259855, pvalue=0.8583088135689912)"
            ]
          },
          "metadata": {
            "tags": []
          },
          "execution_count": 33
        }
      ]
    },
    {
      "cell_type": "code",
      "metadata": {
        "colab": {
          "base_uri": "https://localhost:8080/"
        },
        "id": "FlmqiA2kGmhP",
        "outputId": "65c97a04-8ba0-4128-b536-82bfe8845315"
      },
      "source": [
        "levene_test = stats.levene(IR2, IR3, center='median')\n",
        "levene_test"
      ],
      "execution_count": null,
      "outputs": [
        {
          "output_type": "execute_result",
          "data": {
            "text/plain": [
              "LeveneResult(statistic=0.0581727973482552, pvalue=0.8104139996454308)"
            ]
          },
          "metadata": {
            "tags": []
          },
          "execution_count": 39
        }
      ]
    },
    {
      "cell_type": "markdown",
      "metadata": {
        "id": "NKjaNoSGGKut"
      },
      "source": [
        "##### Bartlett test"
      ]
    },
    {
      "cell_type": "code",
      "metadata": {
        "colab": {
          "base_uri": "https://localhost:8080/"
        },
        "id": "lNwC53GlEmKy",
        "outputId": "81a4b273-845f-4a58-a85f-8c6285929584"
      },
      "source": [
        "bartlett_test = stats.bartlett(Reg, IR1)\n",
        "bartlett_test"
      ],
      "execution_count": null,
      "outputs": [
        {
          "output_type": "execute_result",
          "data": {
            "text/plain": [
              "BartlettResult(statistic=28.70513162022838, pvalue=8.428010651862852e-08)"
            ]
          },
          "metadata": {
            "tags": []
          },
          "execution_count": 47
        }
      ]
    },
    {
      "cell_type": "code",
      "metadata": {
        "colab": {
          "base_uri": "https://localhost:8080/"
        },
        "id": "F4qz8TVVGTNG",
        "outputId": "0933b9bc-31fe-4c48-aea1-f871a7adb16e"
      },
      "source": [
        "bartlett_test = stats.bartlett(Reg, IR2)\n",
        "bartlett_test"
      ],
      "execution_count": null,
      "outputs": [
        {
          "output_type": "execute_result",
          "data": {
            "text/plain": [
              "BartlettResult(statistic=12.227352383355683, pvalue=0.0004709397930255049)"
            ]
          },
          "metadata": {
            "tags": []
          },
          "execution_count": 35
        }
      ]
    },
    {
      "cell_type": "code",
      "metadata": {
        "colab": {
          "base_uri": "https://localhost:8080/"
        },
        "id": "xZmSeJxHGWDt",
        "outputId": "526a9232-2ab2-494d-f407-5b7bbf3ecf1d"
      },
      "source": [
        "bartlett_test = stats.bartlett(Reg, IR3)\n",
        "bartlett_test"
      ],
      "execution_count": null,
      "outputs": [
        {
          "output_type": "execute_result",
          "data": {
            "text/plain": [
              "BartlettResult(statistic=0.5531228135531009, pvalue=0.45704451419258085)"
            ]
          },
          "metadata": {
            "tags": []
          },
          "execution_count": 36
        }
      ]
    },
    {
      "cell_type": "code",
      "metadata": {
        "colab": {
          "base_uri": "https://localhost:8080/"
        },
        "id": "rzp_-WnjGYUY",
        "outputId": "485f264c-f309-4466-dbc2-3ad5fcec9408"
      },
      "source": [
        "bartlett_test = stats.bartlett(IR1, IR2)\n",
        "bartlett_test"
      ],
      "execution_count": null,
      "outputs": [
        {
          "output_type": "execute_result",
          "data": {
            "text/plain": [
              "BartlettResult(statistic=1.7743998830108587, pvalue=0.18283849489626766)"
            ]
          },
          "metadata": {
            "tags": []
          },
          "execution_count": 37
        }
      ]
    },
    {
      "cell_type": "code",
      "metadata": {
        "colab": {
          "base_uri": "https://localhost:8080/"
        },
        "id": "fwMLna4AGdab",
        "outputId": "3af8befd-6f4c-4a33-a695-34363c6694a4"
      },
      "source": [
        "bartlett_test = stats.bartlett(IR1, IR3)\n",
        "bartlett_test"
      ],
      "execution_count": null,
      "outputs": [
        {
          "output_type": "execute_result",
          "data": {
            "text/plain": [
              "BartlettResult(statistic=0.025811321275066728, pvalue=0.8723619659764233)"
            ]
          },
          "metadata": {
            "tags": []
          },
          "execution_count": 38
        }
      ]
    },
    {
      "cell_type": "code",
      "metadata": {
        "colab": {
          "base_uri": "https://localhost:8080/"
        },
        "id": "wgOKjUqVGjTm",
        "outputId": "f3cd0d9e-a341-4e7a-f65c-601427e3915e"
      },
      "source": [
        "bartlett_test = stats.bartlett(IR2, IR3)\n",
        "bartlett_test"
      ],
      "execution_count": null,
      "outputs": [
        {
          "output_type": "execute_result",
          "data": {
            "text/plain": [
              "BartlettResult(statistic=0.46389141859975536, pvalue=0.4958109070687946)"
            ]
          },
          "metadata": {
            "tags": []
          },
          "execution_count": 40
        }
      ]
    },
    {
      "cell_type": "markdown",
      "metadata": {
        "id": "tVAnWjfKHEX3"
      },
      "source": [
        "##### Fligner test"
      ]
    },
    {
      "cell_type": "code",
      "metadata": {
        "colab": {
          "base_uri": "https://localhost:8080/"
        },
        "id": "fCHEZx97Gs2U",
        "outputId": "133e0f55-efa5-42a8-e8a3-6fbc918d98ae"
      },
      "source": [
        "fligner_test = stats.fligner(Reg, IR1, center='median')\n",
        "fligner_test"
      ],
      "execution_count": null,
      "outputs": [
        {
          "output_type": "execute_result",
          "data": {
            "text/plain": [
              "FlignerResult(statistic=13.766613730098925, pvalue=0.00020698209041753967)"
            ]
          },
          "metadata": {
            "tags": []
          },
          "execution_count": 41
        }
      ]
    },
    {
      "cell_type": "code",
      "metadata": {
        "colab": {
          "base_uri": "https://localhost:8080/"
        },
        "id": "NcooZU7hHO77",
        "outputId": "77b4f31f-c1c3-482e-fc10-6ee81e57bb45"
      },
      "source": [
        "fligner_test = stats.fligner(Reg, IR2, center='median')\n",
        "fligner_test"
      ],
      "execution_count": null,
      "outputs": [
        {
          "output_type": "execute_result",
          "data": {
            "text/plain": [
              "FlignerResult(statistic=4.881495130375992, pvalue=0.027146095495459963)"
            ]
          },
          "metadata": {
            "tags": []
          },
          "execution_count": 42
        }
      ]
    },
    {
      "cell_type": "code",
      "metadata": {
        "colab": {
          "base_uri": "https://localhost:8080/"
        },
        "id": "g19CcZiIHRSC",
        "outputId": "8c3577b0-a905-4610-aa53-7fbc04488d65"
      },
      "source": [
        "fligner_test = stats.fligner(Reg, IR3, center='median')\n",
        "fligner_test"
      ],
      "execution_count": null,
      "outputs": [
        {
          "output_type": "execute_result",
          "data": {
            "text/plain": [
              "FlignerResult(statistic=1.385719254216643, pvalue=0.23912934741234135)"
            ]
          },
          "metadata": {
            "tags": []
          },
          "execution_count": 43
        }
      ]
    },
    {
      "cell_type": "code",
      "metadata": {
        "colab": {
          "base_uri": "https://localhost:8080/"
        },
        "id": "5dBk9QubHS_g",
        "outputId": "a7973a52-575c-4458-c929-374b6a8a8926"
      },
      "source": [
        "fligner_test = stats.fligner(IR1, IR2, center='median')\n",
        "fligner_test"
      ],
      "execution_count": null,
      "outputs": [
        {
          "output_type": "execute_result",
          "data": {
            "text/plain": [
              "FlignerResult(statistic=0.5517919764030405, pvalue=0.45758641662762467)"
            ]
          },
          "metadata": {
            "tags": []
          },
          "execution_count": 44
        }
      ]
    },
    {
      "cell_type": "code",
      "metadata": {
        "colab": {
          "base_uri": "https://localhost:8080/"
        },
        "id": "AY9zgK6gHWJV",
        "outputId": "9906cd72-3fb1-4665-f75d-572c0fcd06ac"
      },
      "source": [
        "fligner_test = stats.fligner(IR1, IR3, center='median')\n",
        "fligner_test"
      ],
      "execution_count": null,
      "outputs": [
        {
          "output_type": "execute_result",
          "data": {
            "text/plain": [
              "FlignerResult(statistic=0.19474673930114694, pvalue=0.6589949655523909)"
            ]
          },
          "metadata": {
            "tags": []
          },
          "execution_count": 45
        }
      ]
    },
    {
      "cell_type": "code",
      "metadata": {
        "colab": {
          "base_uri": "https://localhost:8080/"
        },
        "id": "iSphKpt6HbFV",
        "outputId": "70b122d6-3487-4312-a046-04982b23b46c"
      },
      "source": [
        "fligner_test = stats.fligner(IR2, IR3, center='median')\n",
        "fligner_test"
      ],
      "execution_count": null,
      "outputs": [
        {
          "output_type": "execute_result",
          "data": {
            "text/plain": [
              "FlignerResult(statistic=0.00455343373290176, pvalue=0.9462002715894207)"
            ]
          },
          "metadata": {
            "tags": []
          },
          "execution_count": 46
        }
      ]
    },
    {
      "cell_type": "markdown",
      "metadata": {
        "id": "2YDbdWNBTBcd"
      },
      "source": [
        "<p align=\"justify\">\n",
        "Después de ver los resultados de los tres test vemos que en los únicos casos donde no hay homocedasticidad de la varianza es el caso de REG – IR1 y REG – IR2 dado que su p-valor es menor a 0.05\n",
        "</p>"
      ]
    },
    {
      "cell_type": "markdown",
      "metadata": {
        "id": "nLIBlTzVToHY"
      },
      "source": [
        "##### MSZoning - SalePrice"
      ]
    },
    {
      "cell_type": "code",
      "metadata": {
        "colab": {
          "base_uri": "https://localhost:8080/",
          "height": 268
        },
        "id": "fvTZFg7yHdzd",
        "outputId": "88e48a70-1951-478f-fd2c-659c0496108c"
      },
      "source": [
        "# Grafico violinplot\n",
        "# ==============================================================================\n",
        "fig, ax = plt.subplots(nrows=1, ncols=1, figsize=(7, 3.5))\n",
        "sns.violinplot(\n",
        "    x       = 'SalePrice',\n",
        "    y       = 'MSZoning',\n",
        "    data    = df_train,\n",
        "    palette = 'tab10',\n",
        "    inner   = 'stick',\n",
        "    ax      = ax\n",
        ")\n",
        "ax.set_title('Distribución de SalePrice por MSZoning')\n",
        "plt.show()"
      ],
      "execution_count": null,
      "outputs": [
        {
          "output_type": "display_data",
          "data": {
            "image/png": "[encoded data removed]",
            "text/plain": [
              "<Figure size 504x252 with 1 Axes>"
            ]
          },
          "metadata": {
            "tags": [],
            "needs_background": "light"
          }
        }
      ]
    },
    {
      "cell_type": "code",
      "metadata": {
        "colab": {
          "base_uri": "https://localhost:8080/",
          "height": 268
        },
        "id": "IwMd8LInTxKX",
        "outputId": "6e0adde1-9d0b-42a9-c176-69c42c54a376"
      },
      "source": [
        "# Grafico boxplot\n",
        "# ==============================================================================\n",
        "fig, ax = plt.subplots(nrows=1, ncols=1, figsize=(7, 3.5))\n",
        "sns.boxplot(\n",
        "    x       = 'SalePrice',\n",
        "    y       = 'MSZoning',\n",
        "    data    = df_train,\n",
        "    palette = 'tab10',\n",
        "    ax      = ax\n",
        ")\n",
        "ax.set_title('Distribución de SalePrice por MSZoning')\n",
        "plt.show()"
      ],
      "execution_count": null,
      "outputs": [
        {
          "output_type": "display_data",
          "data": {
            "image/png": "[encoded data removed]",
            "text/plain": [
              "<Figure size 504x252 with 1 Axes>"
            ]
          },
          "metadata": {
            "tags": [],
            "needs_background": "light"
          }
        }
      ]
    },
    {
      "cell_type": "markdown",
      "metadata": {
        "id": "EzXnDzCHUPxu"
      },
      "source": [
        "El análisis gráfico parece indicar que los dos grupos tienen varianzas iguales."
      ]
    },
    {
      "cell_type": "code",
      "metadata": {
        "colab": {
          "base_uri": "https://localhost:8080/"
        },
        "id": "F_4KTPq_Uf1u",
        "outputId": "1f0acdbb-5eca-4a4d-a48d-c9ca87d9b9f7"
      },
      "source": [
        "df_train.groupby('MSZoning')['MSZoning'].count()"
      ],
      "execution_count": null,
      "outputs": [
        {
          "output_type": "execute_result",
          "data": {
            "text/plain": [
              "MSZoning\n",
              "C (all)      10\n",
              "FV           65\n",
              "RH           16\n",
              "RL         1151\n",
              "RM          218\n",
              "Name: MSZoning, dtype: int64"
            ]
          },
          "metadata": {
            "tags": []
          },
          "execution_count": 52
        }
      ]
    },
    {
      "cell_type": "code",
      "metadata": {
        "id": "FtpOWcexUFeD"
      },
      "source": [
        "C_ALL = df_train.loc[df_train['MSZoning']=='C (all)', 'SalePrice']\n",
        "FV = df_train.loc[df_train['MSZoning']=='FV', 'SalePrice']\n",
        "RH = df_train.loc[df_train['MSZoning']=='RH', 'SalePrice']\n",
        "RL = df_train.loc[df_train['MSZoning']=='RL', 'SalePrice']\n",
        "RM = df_train.loc[df_train['MSZoning']=='RM', 'SalePrice']"
      ],
      "execution_count": null,
      "outputs": []
    },
    {
      "cell_type": "markdown",
      "metadata": {
        "id": "1cJq7suBUXmh"
      },
      "source": [
        "##### Levene test"
      ]
    },
    {
      "cell_type": "code",
      "metadata": {
        "colab": {
          "base_uri": "https://localhost:8080/"
        },
        "id": "8VF7H9TeVlwW",
        "outputId": "92e16c09-c856-4582-f18b-80700333ff48"
      },
      "source": [
        "levene_test = stats.levene(C_ALL, FV, center='median')\n",
        "levene_test"
      ],
      "execution_count": null,
      "outputs": [
        {
          "output_type": "execute_result",
          "data": {
            "text/plain": [
              "LeveneResult(statistic=1.5873688427180535, pvalue=0.21171544528504524)"
            ]
          },
          "metadata": {
            "tags": []
          },
          "execution_count": 54
        }
      ]
    },
    {
      "cell_type": "code",
      "metadata": {
        "colab": {
          "base_uri": "https://localhost:8080/"
        },
        "id": "iC3BoP6TVpi4",
        "outputId": "acd8134b-2557-4860-c256-dee7db40159b"
      },
      "source": [
        "levene_test = stats.levene(C_ALL, RH, center='median')\n",
        "levene_test"
      ],
      "execution_count": null,
      "outputs": [
        {
          "output_type": "execute_result",
          "data": {
            "text/plain": [
              "LeveneResult(statistic=0.00028802373980012236, pvalue=0.986599842791283)"
            ]
          },
          "metadata": {
            "tags": []
          },
          "execution_count": 55
        }
      ]
    },
    {
      "cell_type": "code",
      "metadata": {
        "colab": {
          "base_uri": "https://localhost:8080/"
        },
        "id": "NWMh_J1mVtpU",
        "outputId": "ffd1a6b5-6169-489c-84b8-f6b99a0392c6"
      },
      "source": [
        "levene_test = stats.levene(C_ALL, RL, center='median')\n",
        "levene_test"
      ],
      "execution_count": null,
      "outputs": [
        {
          "output_type": "execute_result",
          "data": {
            "text/plain": [
              "LeveneResult(statistic=2.183683578676473, pvalue=0.13975195881654912)"
            ]
          },
          "metadata": {
            "tags": []
          },
          "execution_count": 56
        }
      ]
    },
    {
      "cell_type": "code",
      "metadata": {
        "colab": {
          "base_uri": "https://localhost:8080/"
        },
        "id": "VnUK0JrpVxUp",
        "outputId": "eb5848f1-4fc1-4f7f-c078-cddda34c8d48"
      },
      "source": [
        "levene_test = stats.levene(C_ALL, RM, center='median')\n",
        "levene_test"
      ],
      "execution_count": null,
      "outputs": [
        {
          "output_type": "execute_result",
          "data": {
            "text/plain": [
              "LeveneResult(statistic=0.007489747944098886, pvalue=0.9311111390963048)"
            ]
          },
          "metadata": {
            "tags": []
          },
          "execution_count": 57
        }
      ]
    },
    {
      "cell_type": "code",
      "metadata": {
        "colab": {
          "base_uri": "https://localhost:8080/"
        },
        "id": "c6ZJvHC7WdF2",
        "outputId": "bcff0549-c536-4b4c-f991-e06c48724f43"
      },
      "source": [
        "levene_test = stats.levene(FV, RH, center='median')\n",
        "levene_test"
      ],
      "execution_count": null,
      "outputs": [
        {
          "output_type": "execute_result",
          "data": {
            "text/plain": [
              "LeveneResult(statistic=2.3458586312324847, pvalue=0.12961121663597802)"
            ]
          },
          "metadata": {
            "tags": []
          },
          "execution_count": 62
        }
      ]
    },
    {
      "cell_type": "code",
      "metadata": {
        "colab": {
          "base_uri": "https://localhost:8080/"
        },
        "id": "1grc1kLFWtV0",
        "outputId": "ffbc03a5-0eca-4eeb-fa7d-e2842eb5f1b3"
      },
      "source": [
        "levene_test = stats.levene(FV, RL, center='median')\n",
        "levene_test"
      ],
      "execution_count": null,
      "outputs": [
        {
          "output_type": "execute_result",
          "data": {
            "text/plain": [
              "LeveneResult(statistic=3.838370003608285, pvalue=0.050320797774997345)"
            ]
          },
          "metadata": {
            "tags": []
          },
          "execution_count": 63
        }
      ]
    },
    {
      "cell_type": "code",
      "metadata": {
        "colab": {
          "base_uri": "https://localhost:8080/"
        },
        "id": "SWQsL0l6Wy9t",
        "outputId": "4e17b8a4-b082-43ec-c989-9b6c40cec6b4"
      },
      "source": [
        "levene_test = stats.levene(FV, RM, center='median')\n",
        "levene_test"
      ],
      "execution_count": null,
      "outputs": [
        {
          "output_type": "execute_result",
          "data": {
            "text/plain": [
              "LeveneResult(statistic=5.300027652423261, pvalue=0.022056219079350438)"
            ]
          },
          "metadata": {
            "tags": []
          },
          "execution_count": 64
        }
      ]
    },
    {
      "cell_type": "code",
      "metadata": {
        "colab": {
          "base_uri": "https://localhost:8080/"
        },
        "id": "FdmFkBy-W1Tz",
        "outputId": "54f9007d-e7a4-4e86-afee-24414a283e23"
      },
      "source": [
        "levene_test = stats.levene(RH, RL, center='median')\n",
        "levene_test"
      ],
      "execution_count": null,
      "outputs": [
        {
          "output_type": "execute_result",
          "data": {
            "text/plain": [
              "LeveneResult(statistic=3.4561221508235107, pvalue=0.06326993801137373)"
            ]
          },
          "metadata": {
            "tags": []
          },
          "execution_count": 65
        }
      ]
    },
    {
      "cell_type": "code",
      "metadata": {
        "colab": {
          "base_uri": "https://localhost:8080/"
        },
        "id": "sB-Y-xCiW84a",
        "outputId": "5dfdd6a3-562a-44e1-b21a-82590246016c"
      },
      "source": [
        "levene_test = stats.levene(RH, RM, center='median')\n",
        "levene_test"
      ],
      "execution_count": null,
      "outputs": [
        {
          "output_type": "execute_result",
          "data": {
            "text/plain": [
              "LeveneResult(statistic=0.009005111534511376, pvalue=0.9244799267991024)"
            ]
          },
          "metadata": {
            "tags": []
          },
          "execution_count": 66
        }
      ]
    },
    {
      "cell_type": "code",
      "metadata": {
        "colab": {
          "base_uri": "https://localhost:8080/"
        },
        "id": "bEHxjZ7rW-8t",
        "outputId": "324a1b1d-c5ce-4e73-cf93-56fdcb7404f0"
      },
      "source": [
        "levene_test = stats.levene(RL, RM, center='median')\n",
        "levene_test"
      ],
      "execution_count": null,
      "outputs": [
        {
          "output_type": "execute_result",
          "data": {
            "text/plain": [
              "LeveneResult(statistic=40.793810833861386, pvalue=2.3133355102232034e-10)"
            ]
          },
          "metadata": {
            "tags": []
          },
          "execution_count": 67
        }
      ]
    },
    {
      "cell_type": "markdown",
      "metadata": {
        "id": "xzUBBKVPXZ3l"
      },
      "source": [
        "##### Bartlett test"
      ]
    },
    {
      "cell_type": "code",
      "metadata": {
        "colab": {
          "base_uri": "https://localhost:8080/"
        },
        "id": "KHDBMqs_XDno",
        "outputId": "58c49fb0-c8c9-4ed3-9c15-24f450e6051a"
      },
      "source": [
        "bartlett_test = stats.bartlett(C_ALL, FV)\n",
        "bartlett_test"
      ],
      "execution_count": null,
      "outputs": [
        {
          "output_type": "execute_result",
          "data": {
            "text/plain": [
              "BartlettResult(statistic=2.346382997023141, pvalue=0.1255740717332625)"
            ]
          },
          "metadata": {
            "tags": []
          },
          "execution_count": 68
        }
      ]
    },
    {
      "cell_type": "code",
      "metadata": {
        "colab": {
          "base_uri": "https://localhost:8080/"
        },
        "id": "Tt229e2DXnvJ",
        "outputId": "a543b2d7-1af2-44c0-96f5-3ab9e86962de"
      },
      "source": [
        "bartlett_test = stats.bartlett(C_ALL, RH)\n",
        "bartlett_test"
      ],
      "execution_count": null,
      "outputs": [
        {
          "output_type": "execute_result",
          "data": {
            "text/plain": [
              "BartlettResult(statistic=0.032651085969455006, pvalue=0.8566061083866217)"
            ]
          },
          "metadata": {
            "tags": []
          },
          "execution_count": 69
        }
      ]
    },
    {
      "cell_type": "code",
      "metadata": {
        "colab": {
          "base_uri": "https://localhost:8080/"
        },
        "id": "FL2jTrF4XtYi",
        "outputId": "3ad51871-c6c5-4151-b88c-47a651c25d03"
      },
      "source": [
        "bartlett_test = stats.bartlett(C_ALL, RL)\n",
        "bartlett_test"
      ],
      "execution_count": null,
      "outputs": [
        {
          "output_type": "execute_result",
          "data": {
            "text/plain": [
              "BartlettResult(statistic=7.941873966646063, pvalue=0.004830378697822398)"
            ]
          },
          "metadata": {
            "tags": []
          },
          "execution_count": 70
        }
      ]
    },
    {
      "cell_type": "code",
      "metadata": {
        "colab": {
          "base_uri": "https://localhost:8080/"
        },
        "id": "r6ROdxDAX1N7",
        "outputId": "ec5dab50-f893-4e1e-9181-8a6b7a19c937"
      },
      "source": [
        "bartlett_test = stats.bartlett(C_ALL, RM)\n",
        "bartlett_test"
      ],
      "execution_count": null,
      "outputs": [
        {
          "output_type": "execute_result",
          "data": {
            "text/plain": [
              "BartlettResult(statistic=1.76392516352663, pvalue=0.18413567827156027)"
            ]
          },
          "metadata": {
            "tags": []
          },
          "execution_count": 71
        }
      ]
    },
    {
      "cell_type": "code",
      "metadata": {
        "colab": {
          "base_uri": "https://localhost:8080/"
        },
        "id": "s_VXACAeX66N",
        "outputId": "04827c46-f12a-4e56-c78c-b79c7fd44653"
      },
      "source": [
        "bartlett_test = stats.bartlett(FV, RH)\n",
        "bartlett_test"
      ],
      "execution_count": null,
      "outputs": [
        {
          "output_type": "execute_result",
          "data": {
            "text/plain": [
              "BartlettResult(statistic=2.953597354099913, pvalue=0.08568662766591219)"
            ]
          },
          "metadata": {
            "tags": []
          },
          "execution_count": 72
        }
      ]
    },
    {
      "cell_type": "code",
      "metadata": {
        "colab": {
          "base_uri": "https://localhost:8080/"
        },
        "id": "JBK_5eDhYU_j",
        "outputId": "1ef93e27-ff8a-4c7d-8b4f-091f84e02918"
      },
      "source": [
        "bartlett_test = stats.bartlett(FV, RL)\n",
        "bartlett_test"
      ],
      "execution_count": null,
      "outputs": [
        {
          "output_type": "execute_result",
          "data": {
            "text/plain": [
              "BartlettResult(statistic=17.6907626748585, pvalue=2.5988559536693613e-05)"
            ]
          },
          "metadata": {
            "tags": []
          },
          "execution_count": 73
        }
      ]
    },
    {
      "cell_type": "code",
      "metadata": {
        "colab": {
          "base_uri": "https://localhost:8080/"
        },
        "id": "S2-yrl2gYYzB",
        "outputId": "a807b955-393b-4c48-9d37-138d6e66a80e"
      },
      "source": [
        "bartlett_test = stats.bartlett(FV, RM)\n",
        "bartlett_test"
      ],
      "execution_count": null,
      "outputs": [
        {
          "output_type": "execute_result",
          "data": {
            "text/plain": [
              "BartlettResult(statistic=0.588301480785226, pvalue=0.44307667817530016)"
            ]
          },
          "metadata": {
            "tags": []
          },
          "execution_count": 74
        }
      ]
    },
    {
      "cell_type": "code",
      "metadata": {
        "colab": {
          "base_uri": "https://localhost:8080/"
        },
        "id": "ngcU5aqXYdLs",
        "outputId": "22295183-e3cb-4456-910f-8d26d97cd419"
      },
      "source": [
        "bartlett_test = stats.bartlett(RH, RL)\n",
        "bartlett_test"
      ],
      "execution_count": null,
      "outputs": [
        {
          "output_type": "execute_result",
          "data": {
            "text/plain": [
              "BartlettResult(statistic=12.081952327958444, pvalue=0.0005091225653413434)"
            ]
          },
          "metadata": {
            "tags": []
          },
          "execution_count": 75
        }
      ]
    },
    {
      "cell_type": "code",
      "metadata": {
        "colab": {
          "base_uri": "https://localhost:8080/"
        },
        "id": "4d9Pd1rnYjlt",
        "outputId": "8de4a888-d811-486c-c462-e921044902fe"
      },
      "source": [
        "bartlett_test = stats.bartlett(RH, RM)\n",
        "bartlett_test"
      ],
      "execution_count": null,
      "outputs": [
        {
          "output_type": "execute_result",
          "data": {
            "text/plain": [
              "BartlettResult(statistic=2.168089785201384, pvalue=0.14090116062246077)"
            ]
          },
          "metadata": {
            "tags": []
          },
          "execution_count": 76
        }
      ]
    },
    {
      "cell_type": "code",
      "metadata": {
        "colab": {
          "base_uri": "https://localhost:8080/"
        },
        "id": "6KcO7GkfYnI0",
        "outputId": "5a1438ef-f73e-4144-b905-574f32b6b8cf"
      },
      "source": [
        "bartlett_test = stats.bartlett(RL, RM)\n",
        "bartlett_test"
      ],
      "execution_count": null,
      "outputs": [
        {
          "output_type": "execute_result",
          "data": {
            "text/plain": [
              "BartlettResult(statistic=74.79611933786141, pvalue=5.219219582113103e-18)"
            ]
          },
          "metadata": {
            "tags": []
          },
          "execution_count": 77
        }
      ]
    },
    {
      "cell_type": "markdown",
      "metadata": {
        "id": "RR3rvTIjZHSm"
      },
      "source": [
        "##### Fligner test"
      ]
    },
    {
      "cell_type": "code",
      "metadata": {
        "colab": {
          "base_uri": "https://localhost:8080/"
        },
        "id": "UgYtyrZ_YtH6",
        "outputId": "fd9a1ca4-672f-422f-8f98-6248871689a9"
      },
      "source": [
        "fligner_test = stats.fligner(C_ALL, FV, center='median')\n",
        "fligner_test"
      ],
      "execution_count": null,
      "outputs": [
        {
          "output_type": "execute_result",
          "data": {
            "text/plain": [
              "FlignerResult(statistic=1.575897202243228, pvalue=0.20935265958348925)"
            ]
          },
          "metadata": {
            "tags": []
          },
          "execution_count": 78
        }
      ]
    },
    {
      "cell_type": "code",
      "metadata": {
        "colab": {
          "base_uri": "https://localhost:8080/"
        },
        "id": "CybgP7vNZQjV",
        "outputId": "921ffec6-8dfd-406d-9f3d-5b5237480591"
      },
      "source": [
        "fligner_test = stats.fligner(C_ALL, RH, center='median')\n",
        "fligner_test"
      ],
      "execution_count": null,
      "outputs": [
        {
          "output_type": "execute_result",
          "data": {
            "text/plain": [
              "FlignerResult(statistic=0.00920849775086978, pvalue=0.9235516123205795)"
            ]
          },
          "metadata": {
            "tags": []
          },
          "execution_count": 79
        }
      ]
    },
    {
      "cell_type": "code",
      "metadata": {
        "colab": {
          "base_uri": "https://localhost:8080/"
        },
        "id": "C_dBRrIiZUwt",
        "outputId": "c17c9613-c873-44b6-c6d7-952b7064c55b"
      },
      "source": [
        "fligner_test = stats.fligner(C_ALL, RL, center='median')\n",
        "fligner_test"
      ],
      "execution_count": null,
      "outputs": [
        {
          "output_type": "execute_result",
          "data": {
            "text/plain": [
              "FlignerResult(statistic=3.0691526895173, pvalue=0.07979104974747335)"
            ]
          },
          "metadata": {
            "tags": []
          },
          "execution_count": 80
        }
      ]
    },
    {
      "cell_type": "code",
      "metadata": {
        "colab": {
          "base_uri": "https://localhost:8080/"
        },
        "id": "GxU1JMW0ZYzh",
        "outputId": "88b59fe5-759f-4652-db79-798bfbe939ce"
      },
      "source": [
        "fligner_test = stats.fligner(C_ALL, RM, center='median')\n",
        "fligner_test"
      ],
      "execution_count": null,
      "outputs": [
        {
          "output_type": "execute_result",
          "data": {
            "text/plain": [
              "FlignerResult(statistic=0.2940220635357066, pvalue=0.5876545511283112)"
            ]
          },
          "metadata": {
            "tags": []
          },
          "execution_count": 81
        }
      ]
    },
    {
      "cell_type": "code",
      "metadata": {
        "colab": {
          "base_uri": "https://localhost:8080/"
        },
        "id": "FKwzyVUcZc42",
        "outputId": "cf013757-084b-42dc-b8d5-0224162b7e3d"
      },
      "source": [
        "fligner_test = stats.fligner(FV, RH, center='median')\n",
        "fligner_test"
      ],
      "execution_count": null,
      "outputs": [
        {
          "output_type": "execute_result",
          "data": {
            "text/plain": [
              "FlignerResult(statistic=1.6853420514246225, pvalue=0.19421612914413133)"
            ]
          },
          "metadata": {
            "tags": []
          },
          "execution_count": 82
        }
      ]
    },
    {
      "cell_type": "code",
      "metadata": {
        "colab": {
          "base_uri": "https://localhost:8080/"
        },
        "id": "Wl9q_aObZjnM",
        "outputId": "a07835ee-f36f-4de2-eea4-9bc3a283f94a"
      },
      "source": [
        "fligner_test = stats.fligner(FV, RL, center='median')\n",
        "fligner_test"
      ],
      "execution_count": null,
      "outputs": [
        {
          "output_type": "execute_result",
          "data": {
            "text/plain": [
              "FlignerResult(statistic=3.7535119598856985, pvalue=0.052696681001369455)"
            ]
          },
          "metadata": {
            "tags": []
          },
          "execution_count": 83
        }
      ]
    },
    {
      "cell_type": "code",
      "metadata": {
        "colab": {
          "base_uri": "https://localhost:8080/"
        },
        "id": "n1Djhc7tZnZD",
        "outputId": "a51910d8-ef70-40c9-b4b4-3685be17627b"
      },
      "source": [
        "fligner_test = stats.fligner(FV, RM, center='median')\n",
        "fligner_test"
      ],
      "execution_count": null,
      "outputs": [
        {
          "output_type": "execute_result",
          "data": {
            "text/plain": [
              "FlignerResult(statistic=15.924916220207596, pvalue=6.59053831267048e-05)"
            ]
          },
          "metadata": {
            "tags": []
          },
          "execution_count": 84
        }
      ]
    },
    {
      "cell_type": "code",
      "metadata": {
        "colab": {
          "base_uri": "https://localhost:8080/"
        },
        "id": "8V9s9MUVZtg8",
        "outputId": "e80789c2-60a5-476c-f66c-b5bf4b9fb4bc"
      },
      "source": [
        "fligner_test = stats.fligner(RH, RL, center='median')\n",
        "fligner_test"
      ],
      "execution_count": null,
      "outputs": [
        {
          "output_type": "execute_result",
          "data": {
            "text/plain": [
              "FlignerResult(statistic=4.785419114430117, pvalue=0.02870166219144856)"
            ]
          },
          "metadata": {
            "tags": []
          },
          "execution_count": 85
        }
      ]
    },
    {
      "cell_type": "code",
      "metadata": {
        "colab": {
          "base_uri": "https://localhost:8080/"
        },
        "id": "4bCZRVxQZ2ZT",
        "outputId": "bda535b0-5018-44c9-ad8c-51bb05f6d903"
      },
      "source": [
        "fligner_test = stats.fligner(RH, RM, center='median')\n",
        "fligner_test"
      ],
      "execution_count": null,
      "outputs": [
        {
          "output_type": "execute_result",
          "data": {
            "text/plain": [
              "FlignerResult(statistic=0.3215389218214851, pvalue=0.5706842737995116)"
            ]
          },
          "metadata": {
            "tags": []
          },
          "execution_count": 86
        }
      ]
    },
    {
      "cell_type": "code",
      "metadata": {
        "colab": {
          "base_uri": "https://localhost:8080/"
        },
        "id": "I3up4qRkZ4dU",
        "outputId": "8a79d825-09b9-4f7a-9e43-82c6a8a57d1b"
      },
      "source": [
        "fligner_test = stats.fligner(RL, RM, center='median')\n",
        "fligner_test"
      ],
      "execution_count": null,
      "outputs": [
        {
          "output_type": "execute_result",
          "data": {
            "text/plain": [
              "FlignerResult(statistic=70.58732588869948, pvalue=4.403369151889778e-17)"
            ]
          },
          "metadata": {
            "tags": []
          },
          "execution_count": 87
        }
      ]
    },
    {
      "cell_type": "markdown",
      "metadata": {
        "id": "uhX2riVLa2fT"
      },
      "source": [
        "<p align=\"justify\">\n",
        "Después de ver los resultados de los tres test vemos que en único caso donde no hay homocedasticidad de la varianza es el caso de RH-RL dado que su p-valor es menor a 0.05\n",
        "</p>"
      ]
    },
    {
      "cell_type": "markdown",
      "metadata": {
        "id": "hVk1mM-5bjzE"
      },
      "source": [
        "### 4.2. Aplicación de pruebas estadísticas "
      ]
    },
    {
      "cell_type": "markdown",
      "metadata": {
        "id": "248gJWYcct8M"
      },
      "source": [
        "#### Matriz de correlación (en forma de mapa de calor)"
      ]
    },
    {
      "cell_type": "code",
      "metadata": {
        "colab": {
          "base_uri": "https://localhost:8080/",
          "height": 607
        },
        "id": "lQ417dMcaANB",
        "outputId": "c313e8c5-349e-43ad-fc2b-98b514bf3a15"
      },
      "source": [
        "correlations = df_train.corr()\n",
        "f, ax = plt.subplots(figsize = (12, 9))\n",
        "sns.heatmap(correlations, vmax=.8, annot = False)\n",
        "plt.show()"
      ],
      "execution_count": null,
      "outputs": [
        {
          "output_type": "display_data",
          "data": {
            "image/png": "[encoded data removed]",
            "text/plain": [
              "<Figure size 864x648 with 2 Axes>"
            ]
          },
          "metadata": {
            "tags": [],
            "needs_background": "light"
          }
        }
      ]
    },
    {
      "cell_type": "markdown",
      "metadata": {
        "id": "KdNZuOldfkSX"
      },
      "source": [
        "<p align=\"justify\">\n",
        "EL mapa de calor muestra las correlaciones entre las variables, vemos que la diagonal esta altamente relacionada y esto es lógico todas las variables están correlacionadas consigo misma, entre más claro este un recuadro donde coinciden dos variables significa que hay una fuerte correlación positiva, y entre mas oscuro indica que hay una correlación a la inversa\n",
        "</p>"
      ]
    },
    {
      "cell_type": "code",
      "metadata": {
        "id": "KBQLfvG5cvBs"
      },
      "source": [
        "var_num = df_train._get_numeric_data().columns.values.tolist()"
      ],
      "execution_count": null,
      "outputs": []
    },
    {
      "cell_type": "code",
      "metadata": {
        "colab": {
          "base_uri": "https://localhost:8080/",
          "height": 1000
        },
        "id": "NKj-eVGkh_Yg",
        "outputId": "563b5e17-d836-434e-8c96-288056febe05"
      },
      "source": [
        "df_train[var_num].corr()"
      ],
      "execution_count": null,
      "outputs": [
        {
          "output_type": "execute_result",
          "data": {
            "text/html": [
              "<div>\n",
              "<style scoped>\n",
              "    .dataframe tbody tr th:only-of-type {\n",
              "        vertical-align: middle;\n",
              "    }\n",
              "\n",
              "    .dataframe tbody tr th {\n",
              "        vertical-align: top;\n",
              "    }\n",
              "\n",
              "    .dataframe thead th {\n",
              "        text-align: right;\n",
              "    }\n",
              "</style>\n",
              "<table border=\"1\" class=\"dataframe\">\n",
              "  <thead>\n",
              "    <tr style=\"text-align: right;\">\n",
              "      <th></th>\n",
              "      <th>MSSubClass</th>\n",
              "      <th>LotFrontage</th>\n",
              "      <th>LotArea</th>\n",
              "      <th>OverallQual</th>\n",
              "      <th>OverallCond</th>\n",
              "      <th>YearBuilt</th>\n",
              "      <th>YearRemodAdd</th>\n",
              "      <th>MasVnrArea</th>\n",
              "      <th>BsmtFinSF1</th>\n",
              "      <th>BsmtFinSF2</th>\n",
              "      <th>BsmtUnfSF</th>\n",
              "      <th>TotalBsmtSF</th>\n",
              "      <th>1stFlrSF</th>\n",
              "      <th>2ndFlrSF</th>\n",
              "      <th>LowQualFinSF</th>\n",
              "      <th>GrLivArea</th>\n",
              "      <th>BsmtFullBath</th>\n",
              "      <th>BsmtHalfBath</th>\n",
              "      <th>FullBath</th>\n",
              "      <th>HalfBath</th>\n",
              "      <th>BedroomAbvGr</th>\n",
              "      <th>KitchenAbvGr</th>\n",
              "      <th>TotRmsAbvGrd</th>\n",
              "      <th>Fireplaces</th>\n",
              "      <th>GarageYrBlt</th>\n",
              "      <th>GarageCars</th>\n",
              "      <th>GarageArea</th>\n",
              "      <th>WoodDeckSF</th>\n",
              "      <th>OpenPorchSF</th>\n",
              "      <th>EnclosedPorch</th>\n",
              "      <th>3SsnPorch</th>\n",
              "      <th>ScreenPorch</th>\n",
              "      <th>PoolArea</th>\n",
              "      <th>MiscVal</th>\n",
              "      <th>MoSold</th>\n",
              "      <th>YrSold</th>\n",
              "      <th>SalePrice</th>\n",
              "    </tr>\n",
              "  </thead>\n",
              "  <tbody>\n",
              "    <tr>\n",
              "      <th>MSSubClass</th>\n",
              "      <td>1.000000</td>\n",
              "      <td>-0.357056</td>\n",
              "      <td>-0.139781</td>\n",
              "      <td>0.032628</td>\n",
              "      <td>-0.059316</td>\n",
              "      <td>0.027850</td>\n",
              "      <td>0.040581</td>\n",
              "      <td>0.022895</td>\n",
              "      <td>-0.069836</td>\n",
              "      <td>-0.065649</td>\n",
              "      <td>-0.140759</td>\n",
              "      <td>-0.238518</td>\n",
              "      <td>-0.251758</td>\n",
              "      <td>0.307886</td>\n",
              "      <td>0.046474</td>\n",
              "      <td>0.074853</td>\n",
              "      <td>0.003491</td>\n",
              "      <td>-0.002333</td>\n",
              "      <td>0.131608</td>\n",
              "      <td>0.177354</td>\n",
              "      <td>-0.023438</td>\n",
              "      <td>0.281721</td>\n",
              "      <td>0.040380</td>\n",
              "      <td>-0.045569</td>\n",
              "      <td>-0.080750</td>\n",
              "      <td>-0.040110</td>\n",
              "      <td>-0.098672</td>\n",
              "      <td>-0.012579</td>\n",
              "      <td>-0.006100</td>\n",
              "      <td>-0.012037</td>\n",
              "      <td>-0.043825</td>\n",
              "      <td>-0.026030</td>\n",
              "      <td>0.008283</td>\n",
              "      <td>-0.007683</td>\n",
              "      <td>-0.013585</td>\n",
              "      <td>-0.021407</td>\n",
              "      <td>-0.084284</td>\n",
              "    </tr>\n",
              "    <tr>\n",
              "      <th>LotFrontage</th>\n",
              "      <td>-0.357056</td>\n",
              "      <td>1.000000</td>\n",
              "      <td>0.306795</td>\n",
              "      <td>0.234196</td>\n",
              "      <td>-0.052820</td>\n",
              "      <td>0.117598</td>\n",
              "      <td>0.082746</td>\n",
              "      <td>0.179283</td>\n",
              "      <td>0.215828</td>\n",
              "      <td>0.043340</td>\n",
              "      <td>0.122156</td>\n",
              "      <td>0.363358</td>\n",
              "      <td>0.414266</td>\n",
              "      <td>0.072483</td>\n",
              "      <td>0.036849</td>\n",
              "      <td>0.368392</td>\n",
              "      <td>0.091481</td>\n",
              "      <td>-0.006419</td>\n",
              "      <td>0.180424</td>\n",
              "      <td>0.048258</td>\n",
              "      <td>0.237023</td>\n",
              "      <td>-0.005805</td>\n",
              "      <td>0.320146</td>\n",
              "      <td>0.235755</td>\n",
              "      <td>0.100432</td>\n",
              "      <td>0.269729</td>\n",
              "      <td>0.323663</td>\n",
              "      <td>0.077106</td>\n",
              "      <td>0.137454</td>\n",
              "      <td>0.009790</td>\n",
              "      <td>0.062335</td>\n",
              "      <td>0.037684</td>\n",
              "      <td>0.180868</td>\n",
              "      <td>0.001168</td>\n",
              "      <td>0.010158</td>\n",
              "      <td>0.006768</td>\n",
              "      <td>0.334901</td>\n",
              "    </tr>\n",
              "    <tr>\n",
              "      <th>LotArea</th>\n",
              "      <td>-0.139781</td>\n",
              "      <td>0.306795</td>\n",
              "      <td>1.000000</td>\n",
              "      <td>0.105806</td>\n",
              "      <td>-0.005636</td>\n",
              "      <td>0.014228</td>\n",
              "      <td>0.013788</td>\n",
              "      <td>0.103960</td>\n",
              "      <td>0.214103</td>\n",
              "      <td>0.111170</td>\n",
              "      <td>-0.002618</td>\n",
              "      <td>0.260833</td>\n",
              "      <td>0.299475</td>\n",
              "      <td>0.050986</td>\n",
              "      <td>0.004779</td>\n",
              "      <td>0.263116</td>\n",
              "      <td>0.158155</td>\n",
              "      <td>0.048046</td>\n",
              "      <td>0.126031</td>\n",
              "      <td>0.014259</td>\n",
              "      <td>0.119690</td>\n",
              "      <td>-0.017784</td>\n",
              "      <td>0.190015</td>\n",
              "      <td>0.271364</td>\n",
              "      <td>0.072515</td>\n",
              "      <td>0.154871</td>\n",
              "      <td>0.180403</td>\n",
              "      <td>0.171698</td>\n",
              "      <td>0.084774</td>\n",
              "      <td>-0.018340</td>\n",
              "      <td>0.020423</td>\n",
              "      <td>0.043160</td>\n",
              "      <td>0.077672</td>\n",
              "      <td>0.038068</td>\n",
              "      <td>0.001205</td>\n",
              "      <td>-0.014261</td>\n",
              "      <td>0.263843</td>\n",
              "    </tr>\n",
              "    <tr>\n",
              "      <th>OverallQual</th>\n",
              "      <td>0.032628</td>\n",
              "      <td>0.234196</td>\n",
              "      <td>0.105806</td>\n",
              "      <td>1.000000</td>\n",
              "      <td>-0.091932</td>\n",
              "      <td>0.572323</td>\n",
              "      <td>0.550684</td>\n",
              "      <td>0.410238</td>\n",
              "      <td>0.239666</td>\n",
              "      <td>-0.059119</td>\n",
              "      <td>0.308159</td>\n",
              "      <td>0.537808</td>\n",
              "      <td>0.476224</td>\n",
              "      <td>0.295493</td>\n",
              "      <td>-0.030429</td>\n",
              "      <td>0.593007</td>\n",
              "      <td>0.111098</td>\n",
              "      <td>-0.040150</td>\n",
              "      <td>0.550600</td>\n",
              "      <td>0.273458</td>\n",
              "      <td>0.101676</td>\n",
              "      <td>-0.183882</td>\n",
              "      <td>0.427452</td>\n",
              "      <td>0.396765</td>\n",
              "      <td>0.290467</td>\n",
              "      <td>0.600671</td>\n",
              "      <td>0.562022</td>\n",
              "      <td>0.238923</td>\n",
              "      <td>0.308819</td>\n",
              "      <td>-0.113937</td>\n",
              "      <td>0.030371</td>\n",
              "      <td>0.064886</td>\n",
              "      <td>0.065166</td>\n",
              "      <td>-0.031406</td>\n",
              "      <td>0.070815</td>\n",
              "      <td>-0.027347</td>\n",
              "      <td>0.790982</td>\n",
              "    </tr>\n",
              "    <tr>\n",
              "      <th>OverallCond</th>\n",
              "      <td>-0.059316</td>\n",
              "      <td>-0.052820</td>\n",
              "      <td>-0.005636</td>\n",
              "      <td>-0.091932</td>\n",
              "      <td>1.000000</td>\n",
              "      <td>-0.375983</td>\n",
              "      <td>0.073741</td>\n",
              "      <td>-0.127788</td>\n",
              "      <td>-0.046231</td>\n",
              "      <td>0.040229</td>\n",
              "      <td>-0.136841</td>\n",
              "      <td>-0.171098</td>\n",
              "      <td>-0.144203</td>\n",
              "      <td>0.028942</td>\n",
              "      <td>0.025494</td>\n",
              "      <td>-0.079686</td>\n",
              "      <td>-0.054942</td>\n",
              "      <td>0.117821</td>\n",
              "      <td>-0.194149</td>\n",
              "      <td>-0.060769</td>\n",
              "      <td>0.012980</td>\n",
              "      <td>-0.087001</td>\n",
              "      <td>-0.057583</td>\n",
              "      <td>-0.023820</td>\n",
              "      <td>-0.007410</td>\n",
              "      <td>-0.185758</td>\n",
              "      <td>-0.151521</td>\n",
              "      <td>-0.003334</td>\n",
              "      <td>-0.032589</td>\n",
              "      <td>0.070356</td>\n",
              "      <td>0.025504</td>\n",
              "      <td>0.054811</td>\n",
              "      <td>-0.001985</td>\n",
              "      <td>0.068777</td>\n",
              "      <td>-0.003511</td>\n",
              "      <td>0.043950</td>\n",
              "      <td>-0.077856</td>\n",
              "    </tr>\n",
              "    <tr>\n",
              "      <th>YearBuilt</th>\n",
              "      <td>0.027850</td>\n",
              "      <td>0.117598</td>\n",
              "      <td>0.014228</td>\n",
              "      <td>0.572323</td>\n",
              "      <td>-0.375983</td>\n",
              "      <td>1.000000</td>\n",
              "      <td>0.592855</td>\n",
              "      <td>0.314745</td>\n",
              "      <td>0.249503</td>\n",
              "      <td>-0.049107</td>\n",
              "      <td>0.149040</td>\n",
              "      <td>0.391452</td>\n",
              "      <td>0.281986</td>\n",
              "      <td>0.010308</td>\n",
              "      <td>-0.183784</td>\n",
              "      <td>0.199010</td>\n",
              "      <td>0.187599</td>\n",
              "      <td>-0.038162</td>\n",
              "      <td>0.468271</td>\n",
              "      <td>0.242656</td>\n",
              "      <td>-0.070651</td>\n",
              "      <td>-0.174800</td>\n",
              "      <td>0.095589</td>\n",
              "      <td>0.147716</td>\n",
              "      <td>0.274269</td>\n",
              "      <td>0.537850</td>\n",
              "      <td>0.478954</td>\n",
              "      <td>0.224880</td>\n",
              "      <td>0.188686</td>\n",
              "      <td>-0.387268</td>\n",
              "      <td>0.031355</td>\n",
              "      <td>-0.050364</td>\n",
              "      <td>0.004950</td>\n",
              "      <td>-0.034383</td>\n",
              "      <td>0.012398</td>\n",
              "      <td>-0.013618</td>\n",
              "      <td>0.522897</td>\n",
              "    </tr>\n",
              "    <tr>\n",
              "      <th>YearRemodAdd</th>\n",
              "      <td>0.040581</td>\n",
              "      <td>0.082746</td>\n",
              "      <td>0.013788</td>\n",
              "      <td>0.550684</td>\n",
              "      <td>0.073741</td>\n",
              "      <td>0.592855</td>\n",
              "      <td>1.000000</td>\n",
              "      <td>0.179186</td>\n",
              "      <td>0.128451</td>\n",
              "      <td>-0.067759</td>\n",
              "      <td>0.181133</td>\n",
              "      <td>0.291066</td>\n",
              "      <td>0.240379</td>\n",
              "      <td>0.140024</td>\n",
              "      <td>-0.062419</td>\n",
              "      <td>0.287389</td>\n",
              "      <td>0.119470</td>\n",
              "      <td>-0.012337</td>\n",
              "      <td>0.439046</td>\n",
              "      <td>0.183331</td>\n",
              "      <td>-0.040581</td>\n",
              "      <td>-0.149598</td>\n",
              "      <td>0.191740</td>\n",
              "      <td>0.112581</td>\n",
              "      <td>0.148142</td>\n",
              "      <td>0.420622</td>\n",
              "      <td>0.371600</td>\n",
              "      <td>0.205726</td>\n",
              "      <td>0.226298</td>\n",
              "      <td>-0.193919</td>\n",
              "      <td>0.045286</td>\n",
              "      <td>-0.038740</td>\n",
              "      <td>0.005829</td>\n",
              "      <td>-0.010286</td>\n",
              "      <td>0.021490</td>\n",
              "      <td>0.035743</td>\n",
              "      <td>0.507101</td>\n",
              "    </tr>\n",
              "    <tr>\n",
              "      <th>MasVnrArea</th>\n",
              "      <td>0.022895</td>\n",
              "      <td>0.179283</td>\n",
              "      <td>0.103960</td>\n",
              "      <td>0.410238</td>\n",
              "      <td>-0.127788</td>\n",
              "      <td>0.314745</td>\n",
              "      <td>0.179186</td>\n",
              "      <td>1.000000</td>\n",
              "      <td>0.263582</td>\n",
              "      <td>-0.072302</td>\n",
              "      <td>0.114184</td>\n",
              "      <td>0.362452</td>\n",
              "      <td>0.342160</td>\n",
              "      <td>0.174019</td>\n",
              "      <td>-0.069068</td>\n",
              "      <td>0.389893</td>\n",
              "      <td>0.085055</td>\n",
              "      <td>0.026669</td>\n",
              "      <td>0.275730</td>\n",
              "      <td>0.200802</td>\n",
              "      <td>0.102417</td>\n",
              "      <td>-0.037364</td>\n",
              "      <td>0.280027</td>\n",
              "      <td>0.247906</td>\n",
              "      <td>0.134442</td>\n",
              "      <td>0.363778</td>\n",
              "      <td>0.372567</td>\n",
              "      <td>0.159349</td>\n",
              "      <td>0.124965</td>\n",
              "      <td>-0.109849</td>\n",
              "      <td>0.018795</td>\n",
              "      <td>0.061453</td>\n",
              "      <td>0.011723</td>\n",
              "      <td>-0.029815</td>\n",
              "      <td>-0.005940</td>\n",
              "      <td>-0.008184</td>\n",
              "      <td>0.475241</td>\n",
              "    </tr>\n",
              "    <tr>\n",
              "      <th>BsmtFinSF1</th>\n",
              "      <td>-0.069836</td>\n",
              "      <td>0.215828</td>\n",
              "      <td>0.214103</td>\n",
              "      <td>0.239666</td>\n",
              "      <td>-0.046231</td>\n",
              "      <td>0.249503</td>\n",
              "      <td>0.128451</td>\n",
              "      <td>0.263582</td>\n",
              "      <td>1.000000</td>\n",
              "      <td>-0.050117</td>\n",
              "      <td>-0.495251</td>\n",
              "      <td>0.522396</td>\n",
              "      <td>0.445863</td>\n",
              "      <td>-0.137079</td>\n",
              "      <td>-0.064503</td>\n",
              "      <td>0.208171</td>\n",
              "      <td>0.649212</td>\n",
              "      <td>0.067418</td>\n",
              "      <td>0.058543</td>\n",
              "      <td>0.004262</td>\n",
              "      <td>-0.107355</td>\n",
              "      <td>-0.081007</td>\n",
              "      <td>0.044316</td>\n",
              "      <td>0.260011</td>\n",
              "      <td>0.116264</td>\n",
              "      <td>0.224054</td>\n",
              "      <td>0.296970</td>\n",
              "      <td>0.204306</td>\n",
              "      <td>0.111761</td>\n",
              "      <td>-0.102303</td>\n",
              "      <td>0.026451</td>\n",
              "      <td>0.062021</td>\n",
              "      <td>0.140491</td>\n",
              "      <td>0.003571</td>\n",
              "      <td>-0.015727</td>\n",
              "      <td>0.014359</td>\n",
              "      <td>0.386420</td>\n",
              "    </tr>\n",
              "    <tr>\n",
              "      <th>BsmtFinSF2</th>\n",
              "      <td>-0.065649</td>\n",
              "      <td>0.043340</td>\n",
              "      <td>0.111170</td>\n",
              "      <td>-0.059119</td>\n",
              "      <td>0.040229</td>\n",
              "      <td>-0.049107</td>\n",
              "      <td>-0.067759</td>\n",
              "      <td>-0.072302</td>\n",
              "      <td>-0.050117</td>\n",
              "      <td>1.000000</td>\n",
              "      <td>-0.209294</td>\n",
              "      <td>0.104810</td>\n",
              "      <td>0.097117</td>\n",
              "      <td>-0.099260</td>\n",
              "      <td>0.014807</td>\n",
              "      <td>-0.009640</td>\n",
              "      <td>0.158678</td>\n",
              "      <td>0.070948</td>\n",
              "      <td>-0.076444</td>\n",
              "      <td>-0.032148</td>\n",
              "      <td>-0.015728</td>\n",
              "      <td>-0.040751</td>\n",
              "      <td>-0.035227</td>\n",
              "      <td>0.046921</td>\n",
              "      <td>0.034810</td>\n",
              "      <td>-0.038264</td>\n",
              "      <td>-0.018227</td>\n",
              "      <td>0.067898</td>\n",
              "      <td>0.003093</td>\n",
              "      <td>0.036543</td>\n",
              "      <td>-0.029993</td>\n",
              "      <td>0.088871</td>\n",
              "      <td>0.041709</td>\n",
              "      <td>0.004940</td>\n",
              "      <td>-0.015211</td>\n",
              "      <td>0.031706</td>\n",
              "      <td>-0.011378</td>\n",
              "    </tr>\n",
              "    <tr>\n",
              "      <th>BsmtUnfSF</th>\n",
              "      <td>-0.140759</td>\n",
              "      <td>0.122156</td>\n",
              "      <td>-0.002618</td>\n",
              "      <td>0.308159</td>\n",
              "      <td>-0.136841</td>\n",
              "      <td>0.149040</td>\n",
              "      <td>0.181133</td>\n",
              "      <td>0.114184</td>\n",
              "      <td>-0.495251</td>\n",
              "      <td>-0.209294</td>\n",
              "      <td>1.000000</td>\n",
              "      <td>0.415360</td>\n",
              "      <td>0.317987</td>\n",
              "      <td>0.004469</td>\n",
              "      <td>0.028167</td>\n",
              "      <td>0.240257</td>\n",
              "      <td>-0.422900</td>\n",
              "      <td>-0.095804</td>\n",
              "      <td>0.288886</td>\n",
              "      <td>-0.041118</td>\n",
              "      <td>0.166643</td>\n",
              "      <td>0.030086</td>\n",
              "      <td>0.250647</td>\n",
              "      <td>0.051575</td>\n",
              "      <td>0.043257</td>\n",
              "      <td>0.214175</td>\n",
              "      <td>0.183303</td>\n",
              "      <td>-0.005316</td>\n",
              "      <td>0.129005</td>\n",
              "      <td>-0.002538</td>\n",
              "      <td>0.020764</td>\n",
              "      <td>-0.012579</td>\n",
              "      <td>-0.035092</td>\n",
              "      <td>-0.023837</td>\n",
              "      <td>0.034888</td>\n",
              "      <td>-0.041258</td>\n",
              "      <td>0.214479</td>\n",
              "    </tr>\n",
              "    <tr>\n",
              "      <th>TotalBsmtSF</th>\n",
              "      <td>-0.238518</td>\n",
              "      <td>0.363358</td>\n",
              "      <td>0.260833</td>\n",
              "      <td>0.537808</td>\n",
              "      <td>-0.171098</td>\n",
              "      <td>0.391452</td>\n",
              "      <td>0.291066</td>\n",
              "      <td>0.362452</td>\n",
              "      <td>0.522396</td>\n",
              "      <td>0.104810</td>\n",
              "      <td>0.415360</td>\n",
              "      <td>1.000000</td>\n",
              "      <td>0.819530</td>\n",
              "      <td>-0.174512</td>\n",
              "      <td>-0.033245</td>\n",
              "      <td>0.454868</td>\n",
              "      <td>0.307351</td>\n",
              "      <td>-0.000315</td>\n",
              "      <td>0.323722</td>\n",
              "      <td>-0.048804</td>\n",
              "      <td>0.050450</td>\n",
              "      <td>-0.068901</td>\n",
              "      <td>0.285573</td>\n",
              "      <td>0.339519</td>\n",
              "      <td>0.177242</td>\n",
              "      <td>0.434585</td>\n",
              "      <td>0.486665</td>\n",
              "      <td>0.232019</td>\n",
              "      <td>0.247264</td>\n",
              "      <td>-0.095478</td>\n",
              "      <td>0.037384</td>\n",
              "      <td>0.084489</td>\n",
              "      <td>0.126053</td>\n",
              "      <td>-0.018479</td>\n",
              "      <td>0.013196</td>\n",
              "      <td>-0.014969</td>\n",
              "      <td>0.613581</td>\n",
              "    </tr>\n",
              "    <tr>\n",
              "      <th>1stFlrSF</th>\n",
              "      <td>-0.251758</td>\n",
              "      <td>0.414266</td>\n",
              "      <td>0.299475</td>\n",
              "      <td>0.476224</td>\n",
              "      <td>-0.144203</td>\n",
              "      <td>0.281986</td>\n",
              "      <td>0.240379</td>\n",
              "      <td>0.342160</td>\n",
              "      <td>0.445863</td>\n",
              "      <td>0.097117</td>\n",
              "      <td>0.317987</td>\n",
              "      <td>0.819530</td>\n",
              "      <td>1.000000</td>\n",
              "      <td>-0.202646</td>\n",
              "      <td>-0.014241</td>\n",
              "      <td>0.566024</td>\n",
              "      <td>0.244671</td>\n",
              "      <td>0.001956</td>\n",
              "      <td>0.380637</td>\n",
              "      <td>-0.119916</td>\n",
              "      <td>0.127401</td>\n",
              "      <td>0.068101</td>\n",
              "      <td>0.409516</td>\n",
              "      <td>0.410531</td>\n",
              "      <td>0.167279</td>\n",
              "      <td>0.439317</td>\n",
              "      <td>0.489782</td>\n",
              "      <td>0.235459</td>\n",
              "      <td>0.211671</td>\n",
              "      <td>-0.065292</td>\n",
              "      <td>0.056104</td>\n",
              "      <td>0.088758</td>\n",
              "      <td>0.131525</td>\n",
              "      <td>-0.021096</td>\n",
              "      <td>0.031372</td>\n",
              "      <td>-0.013604</td>\n",
              "      <td>0.605852</td>\n",
              "    </tr>\n",
              "    <tr>\n",
              "      <th>2ndFlrSF</th>\n",
              "      <td>0.307886</td>\n",
              "      <td>0.072483</td>\n",
              "      <td>0.050986</td>\n",
              "      <td>0.295493</td>\n",
              "      <td>0.028942</td>\n",
              "      <td>0.010308</td>\n",
              "      <td>0.140024</td>\n",
              "      <td>0.174019</td>\n",
              "      <td>-0.137079</td>\n",
              "      <td>-0.099260</td>\n",
              "      <td>0.004469</td>\n",
              "      <td>-0.174512</td>\n",
              "      <td>-0.202646</td>\n",
              "      <td>1.000000</td>\n",
              "      <td>0.063353</td>\n",
              "      <td>0.687501</td>\n",
              "      <td>-0.169494</td>\n",
              "      <td>-0.023855</td>\n",
              "      <td>0.421378</td>\n",
              "      <td>0.609707</td>\n",
              "      <td>0.502901</td>\n",
              "      <td>0.059306</td>\n",
              "      <td>0.616423</td>\n",
              "      <td>0.194561</td>\n",
              "      <td>0.064594</td>\n",
              "      <td>0.183926</td>\n",
              "      <td>0.138347</td>\n",
              "      <td>0.092165</td>\n",
              "      <td>0.208026</td>\n",
              "      <td>0.061989</td>\n",
              "      <td>-0.024358</td>\n",
              "      <td>0.040606</td>\n",
              "      <td>0.081487</td>\n",
              "      <td>0.016197</td>\n",
              "      <td>0.035164</td>\n",
              "      <td>-0.028700</td>\n",
              "      <td>0.319334</td>\n",
              "    </tr>\n",
              "    <tr>\n",
              "      <th>LowQualFinSF</th>\n",
              "      <td>0.046474</td>\n",
              "      <td>0.036849</td>\n",
              "      <td>0.004779</td>\n",
              "      <td>-0.030429</td>\n",
              "      <td>0.025494</td>\n",
              "      <td>-0.183784</td>\n",
              "      <td>-0.062419</td>\n",
              "      <td>-0.069068</td>\n",
              "      <td>-0.064503</td>\n",
              "      <td>0.014807</td>\n",
              "      <td>0.028167</td>\n",
              "      <td>-0.033245</td>\n",
              "      <td>-0.014241</td>\n",
              "      <td>0.063353</td>\n",
              "      <td>1.000000</td>\n",
              "      <td>0.134683</td>\n",
              "      <td>-0.047143</td>\n",
              "      <td>-0.005842</td>\n",
              "      <td>-0.000710</td>\n",
              "      <td>-0.027080</td>\n",
              "      <td>0.105607</td>\n",
              "      <td>0.007522</td>\n",
              "      <td>0.131185</td>\n",
              "      <td>-0.021272</td>\n",
              "      <td>-0.146529</td>\n",
              "      <td>-0.094480</td>\n",
              "      <td>-0.067601</td>\n",
              "      <td>-0.025444</td>\n",
              "      <td>0.018251</td>\n",
              "      <td>0.061081</td>\n",
              "      <td>-0.004296</td>\n",
              "      <td>0.026799</td>\n",
              "      <td>0.062157</td>\n",
              "      <td>-0.003793</td>\n",
              "      <td>-0.022174</td>\n",
              "      <td>-0.028921</td>\n",
              "      <td>-0.025606</td>\n",
              "    </tr>\n",
              "    <tr>\n",
              "      <th>GrLivArea</th>\n",
              "      <td>0.074853</td>\n",
              "      <td>0.368392</td>\n",
              "      <td>0.263116</td>\n",
              "      <td>0.593007</td>\n",
              "      <td>-0.079686</td>\n",
              "      <td>0.199010</td>\n",
              "      <td>0.287389</td>\n",
              "      <td>0.389893</td>\n",
              "      <td>0.208171</td>\n",
              "      <td>-0.009640</td>\n",
              "      <td>0.240257</td>\n",
              "      <td>0.454868</td>\n",
              "      <td>0.566024</td>\n",
              "      <td>0.687501</td>\n",
              "      <td>0.134683</td>\n",
              "      <td>1.000000</td>\n",
              "      <td>0.034836</td>\n",
              "      <td>-0.018918</td>\n",
              "      <td>0.630012</td>\n",
              "      <td>0.415772</td>\n",
              "      <td>0.521270</td>\n",
              "      <td>0.100063</td>\n",
              "      <td>0.825489</td>\n",
              "      <td>0.461679</td>\n",
              "      <td>0.163166</td>\n",
              "      <td>0.467247</td>\n",
              "      <td>0.468997</td>\n",
              "      <td>0.247433</td>\n",
              "      <td>0.330224</td>\n",
              "      <td>0.009113</td>\n",
              "      <td>0.020643</td>\n",
              "      <td>0.101510</td>\n",
              "      <td>0.170205</td>\n",
              "      <td>-0.002416</td>\n",
              "      <td>0.050240</td>\n",
              "      <td>-0.036526</td>\n",
              "      <td>0.708624</td>\n",
              "    </tr>\n",
              "    <tr>\n",
              "      <th>BsmtFullBath</th>\n",
              "      <td>0.003491</td>\n",
              "      <td>0.091481</td>\n",
              "      <td>0.158155</td>\n",
              "      <td>0.111098</td>\n",
              "      <td>-0.054942</td>\n",
              "      <td>0.187599</td>\n",
              "      <td>0.119470</td>\n",
              "      <td>0.085055</td>\n",
              "      <td>0.649212</td>\n",
              "      <td>0.158678</td>\n",
              "      <td>-0.422900</td>\n",
              "      <td>0.307351</td>\n",
              "      <td>0.244671</td>\n",
              "      <td>-0.169494</td>\n",
              "      <td>-0.047143</td>\n",
              "      <td>0.034836</td>\n",
              "      <td>1.000000</td>\n",
              "      <td>-0.147871</td>\n",
              "      <td>-0.064512</td>\n",
              "      <td>-0.030905</td>\n",
              "      <td>-0.150673</td>\n",
              "      <td>-0.041503</td>\n",
              "      <td>-0.053275</td>\n",
              "      <td>0.137928</td>\n",
              "      <td>0.049612</td>\n",
              "      <td>0.131881</td>\n",
              "      <td>0.179189</td>\n",
              "      <td>0.175315</td>\n",
              "      <td>0.067341</td>\n",
              "      <td>-0.049911</td>\n",
              "      <td>-0.000106</td>\n",
              "      <td>0.023148</td>\n",
              "      <td>0.067616</td>\n",
              "      <td>-0.023047</td>\n",
              "      <td>-0.025361</td>\n",
              "      <td>0.067049</td>\n",
              "      <td>0.227122</td>\n",
              "    </tr>\n",
              "    <tr>\n",
              "      <th>BsmtHalfBath</th>\n",
              "      <td>-0.002333</td>\n",
              "      <td>-0.006419</td>\n",
              "      <td>0.048046</td>\n",
              "      <td>-0.040150</td>\n",
              "      <td>0.117821</td>\n",
              "      <td>-0.038162</td>\n",
              "      <td>-0.012337</td>\n",
              "      <td>0.026669</td>\n",
              "      <td>0.067418</td>\n",
              "      <td>0.070948</td>\n",
              "      <td>-0.095804</td>\n",
              "      <td>-0.000315</td>\n",
              "      <td>0.001956</td>\n",
              "      <td>-0.023855</td>\n",
              "      <td>-0.005842</td>\n",
              "      <td>-0.018918</td>\n",
              "      <td>-0.147871</td>\n",
              "      <td>1.000000</td>\n",
              "      <td>-0.054536</td>\n",
              "      <td>-0.012340</td>\n",
              "      <td>0.046519</td>\n",
              "      <td>-0.037944</td>\n",
              "      <td>-0.023836</td>\n",
              "      <td>0.028976</td>\n",
              "      <td>0.016589</td>\n",
              "      <td>-0.020891</td>\n",
              "      <td>-0.024536</td>\n",
              "      <td>0.040161</td>\n",
              "      <td>-0.025324</td>\n",
              "      <td>-0.008555</td>\n",
              "      <td>0.035114</td>\n",
              "      <td>0.032121</td>\n",
              "      <td>0.020025</td>\n",
              "      <td>-0.007367</td>\n",
              "      <td>0.032873</td>\n",
              "      <td>-0.046524</td>\n",
              "      <td>-0.016844</td>\n",
              "    </tr>\n",
              "    <tr>\n",
              "      <th>FullBath</th>\n",
              "      <td>0.131608</td>\n",
              "      <td>0.180424</td>\n",
              "      <td>0.126031</td>\n",
              "      <td>0.550600</td>\n",
              "      <td>-0.194149</td>\n",
              "      <td>0.468271</td>\n",
              "      <td>0.439046</td>\n",
              "      <td>0.275730</td>\n",
              "      <td>0.058543</td>\n",
              "      <td>-0.076444</td>\n",
              "      <td>0.288886</td>\n",
              "      <td>0.323722</td>\n",
              "      <td>0.380637</td>\n",
              "      <td>0.421378</td>\n",
              "      <td>-0.000710</td>\n",
              "      <td>0.630012</td>\n",
              "      <td>-0.064512</td>\n",
              "      <td>-0.054536</td>\n",
              "      <td>1.000000</td>\n",
              "      <td>0.136381</td>\n",
              "      <td>0.363252</td>\n",
              "      <td>0.133115</td>\n",
              "      <td>0.554784</td>\n",
              "      <td>0.243671</td>\n",
              "      <td>0.138812</td>\n",
              "      <td>0.469672</td>\n",
              "      <td>0.405656</td>\n",
              "      <td>0.187703</td>\n",
              "      <td>0.259977</td>\n",
              "      <td>-0.115093</td>\n",
              "      <td>0.035353</td>\n",
              "      <td>-0.008106</td>\n",
              "      <td>0.049604</td>\n",
              "      <td>-0.014290</td>\n",
              "      <td>0.055872</td>\n",
              "      <td>-0.019669</td>\n",
              "      <td>0.560664</td>\n",
              "    </tr>\n",
              "    <tr>\n",
              "      <th>HalfBath</th>\n",
              "      <td>0.177354</td>\n",
              "      <td>0.048258</td>\n",
              "      <td>0.014259</td>\n",
              "      <td>0.273458</td>\n",
              "      <td>-0.060769</td>\n",
              "      <td>0.242656</td>\n",
              "      <td>0.183331</td>\n",
              "      <td>0.200802</td>\n",
              "      <td>0.004262</td>\n",
              "      <td>-0.032148</td>\n",
              "      <td>-0.041118</td>\n",
              "      <td>-0.048804</td>\n",
              "      <td>-0.119916</td>\n",
              "      <td>0.609707</td>\n",
              "      <td>-0.027080</td>\n",
              "      <td>0.415772</td>\n",
              "      <td>-0.030905</td>\n",
              "      <td>-0.012340</td>\n",
              "      <td>0.136381</td>\n",
              "      <td>1.000000</td>\n",
              "      <td>0.226651</td>\n",
              "      <td>-0.068263</td>\n",
              "      <td>0.343415</td>\n",
              "      <td>0.203649</td>\n",
              "      <td>0.117706</td>\n",
              "      <td>0.219178</td>\n",
              "      <td>0.163549</td>\n",
              "      <td>0.108080</td>\n",
              "      <td>0.199740</td>\n",
              "      <td>-0.095317</td>\n",
              "      <td>-0.004972</td>\n",
              "      <td>0.072426</td>\n",
              "      <td>0.022381</td>\n",
              "      <td>0.001290</td>\n",
              "      <td>-0.009050</td>\n",
              "      <td>-0.010269</td>\n",
              "      <td>0.284108</td>\n",
              "    </tr>\n",
              "    <tr>\n",
              "      <th>BedroomAbvGr</th>\n",
              "      <td>-0.023438</td>\n",
              "      <td>0.237023</td>\n",
              "      <td>0.119690</td>\n",
              "      <td>0.101676</td>\n",
              "      <td>0.012980</td>\n",
              "      <td>-0.070651</td>\n",
              "      <td>-0.040581</td>\n",
              "      <td>0.102417</td>\n",
              "      <td>-0.107355</td>\n",
              "      <td>-0.015728</td>\n",
              "      <td>0.166643</td>\n",
              "      <td>0.050450</td>\n",
              "      <td>0.127401</td>\n",
              "      <td>0.502901</td>\n",
              "      <td>0.105607</td>\n",
              "      <td>0.521270</td>\n",
              "      <td>-0.150673</td>\n",
              "      <td>0.046519</td>\n",
              "      <td>0.363252</td>\n",
              "      <td>0.226651</td>\n",
              "      <td>1.000000</td>\n",
              "      <td>0.198597</td>\n",
              "      <td>0.676620</td>\n",
              "      <td>0.107570</td>\n",
              "      <td>-0.010024</td>\n",
              "      <td>0.086106</td>\n",
              "      <td>0.065253</td>\n",
              "      <td>0.046854</td>\n",
              "      <td>0.093810</td>\n",
              "      <td>0.041570</td>\n",
              "      <td>-0.024478</td>\n",
              "      <td>0.044300</td>\n",
              "      <td>0.070703</td>\n",
              "      <td>0.007767</td>\n",
              "      <td>0.046544</td>\n",
              "      <td>-0.036014</td>\n",
              "      <td>0.168213</td>\n",
              "    </tr>\n",
              "    <tr>\n",
              "      <th>KitchenAbvGr</th>\n",
              "      <td>0.281721</td>\n",
              "      <td>-0.005805</td>\n",
              "      <td>-0.017784</td>\n",
              "      <td>-0.183882</td>\n",
              "      <td>-0.087001</td>\n",
              "      <td>-0.174800</td>\n",
              "      <td>-0.149598</td>\n",
              "      <td>-0.037364</td>\n",
              "      <td>-0.081007</td>\n",
              "      <td>-0.040751</td>\n",
              "      <td>0.030086</td>\n",
              "      <td>-0.068901</td>\n",
              "      <td>0.068101</td>\n",
              "      <td>0.059306</td>\n",
              "      <td>0.007522</td>\n",
              "      <td>0.100063</td>\n",
              "      <td>-0.041503</td>\n",
              "      <td>-0.037944</td>\n",
              "      <td>0.133115</td>\n",
              "      <td>-0.068263</td>\n",
              "      <td>0.198597</td>\n",
              "      <td>1.000000</td>\n",
              "      <td>0.256045</td>\n",
              "      <td>-0.123936</td>\n",
              "      <td>-0.158281</td>\n",
              "      <td>-0.050634</td>\n",
              "      <td>-0.064433</td>\n",
              "      <td>-0.090130</td>\n",
              "      <td>-0.070091</td>\n",
              "      <td>0.037312</td>\n",
              "      <td>-0.024600</td>\n",
              "      <td>-0.051613</td>\n",
              "      <td>-0.014525</td>\n",
              "      <td>0.062341</td>\n",
              "      <td>0.026589</td>\n",
              "      <td>0.031687</td>\n",
              "      <td>-0.135907</td>\n",
              "    </tr>\n",
              "    <tr>\n",
              "      <th>TotRmsAbvGrd</th>\n",
              "      <td>0.040380</td>\n",
              "      <td>0.320146</td>\n",
              "      <td>0.190015</td>\n",
              "      <td>0.427452</td>\n",
              "      <td>-0.057583</td>\n",
              "      <td>0.095589</td>\n",
              "      <td>0.191740</td>\n",
              "      <td>0.280027</td>\n",
              "      <td>0.044316</td>\n",
              "      <td>-0.035227</td>\n",
              "      <td>0.250647</td>\n",
              "      <td>0.285573</td>\n",
              "      <td>0.409516</td>\n",
              "      <td>0.616423</td>\n",
              "      <td>0.131185</td>\n",
              "      <td>0.825489</td>\n",
              "      <td>-0.053275</td>\n",
              "      <td>-0.023836</td>\n",
              "      <td>0.554784</td>\n",
              "      <td>0.343415</td>\n",
              "      <td>0.676620</td>\n",
              "      <td>0.256045</td>\n",
              "      <td>1.000000</td>\n",
              "      <td>0.326114</td>\n",
              "      <td>0.096004</td>\n",
              "      <td>0.362289</td>\n",
              "      <td>0.337822</td>\n",
              "      <td>0.165984</td>\n",
              "      <td>0.234192</td>\n",
              "      <td>0.004151</td>\n",
              "      <td>-0.006683</td>\n",
              "      <td>0.059383</td>\n",
              "      <td>0.083757</td>\n",
              "      <td>0.024763</td>\n",
              "      <td>0.036907</td>\n",
              "      <td>-0.034516</td>\n",
              "      <td>0.533723</td>\n",
              "    </tr>\n",
              "    <tr>\n",
              "      <th>Fireplaces</th>\n",
              "      <td>-0.045569</td>\n",
              "      <td>0.235755</td>\n",
              "      <td>0.271364</td>\n",
              "      <td>0.396765</td>\n",
              "      <td>-0.023820</td>\n",
              "      <td>0.147716</td>\n",
              "      <td>0.112581</td>\n",
              "      <td>0.247906</td>\n",
              "      <td>0.260011</td>\n",
              "      <td>0.046921</td>\n",
              "      <td>0.051575</td>\n",
              "      <td>0.339519</td>\n",
              "      <td>0.410531</td>\n",
              "      <td>0.194561</td>\n",
              "      <td>-0.021272</td>\n",
              "      <td>0.461679</td>\n",
              "      <td>0.137928</td>\n",
              "      <td>0.028976</td>\n",
              "      <td>0.243671</td>\n",
              "      <td>0.203649</td>\n",
              "      <td>0.107570</td>\n",
              "      <td>-0.123936</td>\n",
              "      <td>0.326114</td>\n",
              "      <td>1.000000</td>\n",
              "      <td>0.186368</td>\n",
              "      <td>0.300789</td>\n",
              "      <td>0.269141</td>\n",
              "      <td>0.200019</td>\n",
              "      <td>0.169405</td>\n",
              "      <td>-0.024822</td>\n",
              "      <td>0.011257</td>\n",
              "      <td>0.184530</td>\n",
              "      <td>0.095074</td>\n",
              "      <td>0.001409</td>\n",
              "      <td>0.046357</td>\n",
              "      <td>-0.024096</td>\n",
              "      <td>0.466929</td>\n",
              "    </tr>\n",
              "    <tr>\n",
              "      <th>GarageYrBlt</th>\n",
              "      <td>-0.080750</td>\n",
              "      <td>0.100432</td>\n",
              "      <td>0.072515</td>\n",
              "      <td>0.290467</td>\n",
              "      <td>-0.007410</td>\n",
              "      <td>0.274269</td>\n",
              "      <td>0.148142</td>\n",
              "      <td>0.134442</td>\n",
              "      <td>0.116264</td>\n",
              "      <td>0.034810</td>\n",
              "      <td>0.043257</td>\n",
              "      <td>0.177242</td>\n",
              "      <td>0.167279</td>\n",
              "      <td>0.064594</td>\n",
              "      <td>-0.146529</td>\n",
              "      <td>0.163166</td>\n",
              "      <td>0.049612</td>\n",
              "      <td>0.016589</td>\n",
              "      <td>0.138812</td>\n",
              "      <td>0.117706</td>\n",
              "      <td>-0.010024</td>\n",
              "      <td>-0.158281</td>\n",
              "      <td>0.096004</td>\n",
              "      <td>0.186368</td>\n",
              "      <td>1.000000</td>\n",
              "      <td>0.599321</td>\n",
              "      <td>0.562087</td>\n",
              "      <td>0.117931</td>\n",
              "      <td>0.050508</td>\n",
              "      <td>-0.077645</td>\n",
              "      <td>0.029465</td>\n",
              "      <td>0.061186</td>\n",
              "      <td>0.015813</td>\n",
              "      <td>-0.006761</td>\n",
              "      <td>0.019163</td>\n",
              "      <td>-0.011135</td>\n",
              "      <td>0.262700</td>\n",
              "    </tr>\n",
              "    <tr>\n",
              "      <th>GarageCars</th>\n",
              "      <td>-0.040110</td>\n",
              "      <td>0.269729</td>\n",
              "      <td>0.154871</td>\n",
              "      <td>0.600671</td>\n",
              "      <td>-0.185758</td>\n",
              "      <td>0.537850</td>\n",
              "      <td>0.420622</td>\n",
              "      <td>0.363778</td>\n",
              "      <td>0.224054</td>\n",
              "      <td>-0.038264</td>\n",
              "      <td>0.214175</td>\n",
              "      <td>0.434585</td>\n",
              "      <td>0.439317</td>\n",
              "      <td>0.183926</td>\n",
              "      <td>-0.094480</td>\n",
              "      <td>0.467247</td>\n",
              "      <td>0.131881</td>\n",
              "      <td>-0.020891</td>\n",
              "      <td>0.469672</td>\n",
              "      <td>0.219178</td>\n",
              "      <td>0.086106</td>\n",
              "      <td>-0.050634</td>\n",
              "      <td>0.362289</td>\n",
              "      <td>0.300789</td>\n",
              "      <td>0.599321</td>\n",
              "      <td>1.000000</td>\n",
              "      <td>0.882475</td>\n",
              "      <td>0.226342</td>\n",
              "      <td>0.213569</td>\n",
              "      <td>-0.151434</td>\n",
              "      <td>0.035765</td>\n",
              "      <td>0.050494</td>\n",
              "      <td>0.020934</td>\n",
              "      <td>-0.043080</td>\n",
              "      <td>0.040522</td>\n",
              "      <td>-0.039117</td>\n",
              "      <td>0.640409</td>\n",
              "    </tr>\n",
              "    <tr>\n",
              "      <th>GarageArea</th>\n",
              "      <td>-0.098672</td>\n",
              "      <td>0.323663</td>\n",
              "      <td>0.180403</td>\n",
              "      <td>0.562022</td>\n",
              "      <td>-0.151521</td>\n",
              "      <td>0.478954</td>\n",
              "      <td>0.371600</td>\n",
              "      <td>0.372567</td>\n",
              "      <td>0.296970</td>\n",
              "      <td>-0.018227</td>\n",
              "      <td>0.183303</td>\n",
              "      <td>0.486665</td>\n",
              "      <td>0.489782</td>\n",
              "      <td>0.138347</td>\n",
              "      <td>-0.067601</td>\n",
              "      <td>0.468997</td>\n",
              "      <td>0.179189</td>\n",
              "      <td>-0.024536</td>\n",
              "      <td>0.405656</td>\n",
              "      <td>0.163549</td>\n",
              "      <td>0.065253</td>\n",
              "      <td>-0.064433</td>\n",
              "      <td>0.337822</td>\n",
              "      <td>0.269141</td>\n",
              "      <td>0.562087</td>\n",
              "      <td>0.882475</td>\n",
              "      <td>1.000000</td>\n",
              "      <td>0.224666</td>\n",
              "      <td>0.241435</td>\n",
              "      <td>-0.121777</td>\n",
              "      <td>0.035087</td>\n",
              "      <td>0.051412</td>\n",
              "      <td>0.061047</td>\n",
              "      <td>-0.027400</td>\n",
              "      <td>0.027974</td>\n",
              "      <td>-0.027378</td>\n",
              "      <td>0.623431</td>\n",
              "    </tr>\n",
              "    <tr>\n",
              "      <th>WoodDeckSF</th>\n",
              "      <td>-0.012579</td>\n",
              "      <td>0.077106</td>\n",
              "      <td>0.171698</td>\n",
              "      <td>0.238923</td>\n",
              "      <td>-0.003334</td>\n",
              "      <td>0.224880</td>\n",
              "      <td>0.205726</td>\n",
              "      <td>0.159349</td>\n",
              "      <td>0.204306</td>\n",
              "      <td>0.067898</td>\n",
              "      <td>-0.005316</td>\n",
              "      <td>0.232019</td>\n",
              "      <td>0.235459</td>\n",
              "      <td>0.092165</td>\n",
              "      <td>-0.025444</td>\n",
              "      <td>0.247433</td>\n",
              "      <td>0.175315</td>\n",
              "      <td>0.040161</td>\n",
              "      <td>0.187703</td>\n",
              "      <td>0.108080</td>\n",
              "      <td>0.046854</td>\n",
              "      <td>-0.090130</td>\n",
              "      <td>0.165984</td>\n",
              "      <td>0.200019</td>\n",
              "      <td>0.117931</td>\n",
              "      <td>0.226342</td>\n",
              "      <td>0.224666</td>\n",
              "      <td>1.000000</td>\n",
              "      <td>0.058661</td>\n",
              "      <td>-0.125989</td>\n",
              "      <td>-0.032771</td>\n",
              "      <td>-0.074181</td>\n",
              "      <td>0.073378</td>\n",
              "      <td>-0.009551</td>\n",
              "      <td>0.021011</td>\n",
              "      <td>0.022270</td>\n",
              "      <td>0.324413</td>\n",
              "    </tr>\n",
              "    <tr>\n",
              "      <th>OpenPorchSF</th>\n",
              "      <td>-0.006100</td>\n",
              "      <td>0.137454</td>\n",
              "      <td>0.084774</td>\n",
              "      <td>0.308819</td>\n",
              "      <td>-0.032589</td>\n",
              "      <td>0.188686</td>\n",
              "      <td>0.226298</td>\n",
              "      <td>0.124965</td>\n",
              "      <td>0.111761</td>\n",
              "      <td>0.003093</td>\n",
              "      <td>0.129005</td>\n",
              "      <td>0.247264</td>\n",
              "      <td>0.211671</td>\n",
              "      <td>0.208026</td>\n",
              "      <td>0.018251</td>\n",
              "      <td>0.330224</td>\n",
              "      <td>0.067341</td>\n",
              "      <td>-0.025324</td>\n",
              "      <td>0.259977</td>\n",
              "      <td>0.199740</td>\n",
              "      <td>0.093810</td>\n",
              "      <td>-0.070091</td>\n",
              "      <td>0.234192</td>\n",
              "      <td>0.169405</td>\n",
              "      <td>0.050508</td>\n",
              "      <td>0.213569</td>\n",
              "      <td>0.241435</td>\n",
              "      <td>0.058661</td>\n",
              "      <td>1.000000</td>\n",
              "      <td>-0.093079</td>\n",
              "      <td>-0.005842</td>\n",
              "      <td>0.074304</td>\n",
              "      <td>0.060762</td>\n",
              "      <td>-0.018584</td>\n",
              "      <td>0.071255</td>\n",
              "      <td>-0.057619</td>\n",
              "      <td>0.315856</td>\n",
              "    </tr>\n",
              "    <tr>\n",
              "      <th>EnclosedPorch</th>\n",
              "      <td>-0.012037</td>\n",
              "      <td>0.009790</td>\n",
              "      <td>-0.018340</td>\n",
              "      <td>-0.113937</td>\n",
              "      <td>0.070356</td>\n",
              "      <td>-0.387268</td>\n",
              "      <td>-0.193919</td>\n",
              "      <td>-0.109849</td>\n",
              "      <td>-0.102303</td>\n",
              "      <td>0.036543</td>\n",
              "      <td>-0.002538</td>\n",
              "      <td>-0.095478</td>\n",
              "      <td>-0.065292</td>\n",
              "      <td>0.061989</td>\n",
              "      <td>0.061081</td>\n",
              "      <td>0.009113</td>\n",
              "      <td>-0.049911</td>\n",
              "      <td>-0.008555</td>\n",
              "      <td>-0.115093</td>\n",
              "      <td>-0.095317</td>\n",
              "      <td>0.041570</td>\n",
              "      <td>0.037312</td>\n",
              "      <td>0.004151</td>\n",
              "      <td>-0.024822</td>\n",
              "      <td>-0.077645</td>\n",
              "      <td>-0.151434</td>\n",
              "      <td>-0.121777</td>\n",
              "      <td>-0.125989</td>\n",
              "      <td>-0.093079</td>\n",
              "      <td>1.000000</td>\n",
              "      <td>-0.037305</td>\n",
              "      <td>-0.082864</td>\n",
              "      <td>0.054203</td>\n",
              "      <td>0.018361</td>\n",
              "      <td>-0.028887</td>\n",
              "      <td>-0.009916</td>\n",
              "      <td>-0.128578</td>\n",
              "    </tr>\n",
              "    <tr>\n",
              "      <th>3SsnPorch</th>\n",
              "      <td>-0.043825</td>\n",
              "      <td>0.062335</td>\n",
              "      <td>0.020423</td>\n",
              "      <td>0.030371</td>\n",
              "      <td>0.025504</td>\n",
              "      <td>0.031355</td>\n",
              "      <td>0.045286</td>\n",
              "      <td>0.018795</td>\n",
              "      <td>0.026451</td>\n",
              "      <td>-0.029993</td>\n",
              "      <td>0.020764</td>\n",
              "      <td>0.037384</td>\n",
              "      <td>0.056104</td>\n",
              "      <td>-0.024358</td>\n",
              "      <td>-0.004296</td>\n",
              "      <td>0.020643</td>\n",
              "      <td>-0.000106</td>\n",
              "      <td>0.035114</td>\n",
              "      <td>0.035353</td>\n",
              "      <td>-0.004972</td>\n",
              "      <td>-0.024478</td>\n",
              "      <td>-0.024600</td>\n",
              "      <td>-0.006683</td>\n",
              "      <td>0.011257</td>\n",
              "      <td>0.029465</td>\n",
              "      <td>0.035765</td>\n",
              "      <td>0.035087</td>\n",
              "      <td>-0.032771</td>\n",
              "      <td>-0.005842</td>\n",
              "      <td>-0.037305</td>\n",
              "      <td>1.000000</td>\n",
              "      <td>-0.031436</td>\n",
              "      <td>-0.007992</td>\n",
              "      <td>0.000354</td>\n",
              "      <td>0.029474</td>\n",
              "      <td>0.018645</td>\n",
              "      <td>0.044584</td>\n",
              "    </tr>\n",
              "    <tr>\n",
              "      <th>ScreenPorch</th>\n",
              "      <td>-0.026030</td>\n",
              "      <td>0.037684</td>\n",
              "      <td>0.043160</td>\n",
              "      <td>0.064886</td>\n",
              "      <td>0.054811</td>\n",
              "      <td>-0.050364</td>\n",
              "      <td>-0.038740</td>\n",
              "      <td>0.061453</td>\n",
              "      <td>0.062021</td>\n",
              "      <td>0.088871</td>\n",
              "      <td>-0.012579</td>\n",
              "      <td>0.084489</td>\n",
              "      <td>0.088758</td>\n",
              "      <td>0.040606</td>\n",
              "      <td>0.026799</td>\n",
              "      <td>0.101510</td>\n",
              "      <td>0.023148</td>\n",
              "      <td>0.032121</td>\n",
              "      <td>-0.008106</td>\n",
              "      <td>0.072426</td>\n",
              "      <td>0.044300</td>\n",
              "      <td>-0.051613</td>\n",
              "      <td>0.059383</td>\n",
              "      <td>0.184530</td>\n",
              "      <td>0.061186</td>\n",
              "      <td>0.050494</td>\n",
              "      <td>0.051412</td>\n",
              "      <td>-0.074181</td>\n",
              "      <td>0.074304</td>\n",
              "      <td>-0.082864</td>\n",
              "      <td>-0.031436</td>\n",
              "      <td>1.000000</td>\n",
              "      <td>0.051307</td>\n",
              "      <td>0.031946</td>\n",
              "      <td>0.023217</td>\n",
              "      <td>0.010694</td>\n",
              "      <td>0.111447</td>\n",
              "    </tr>\n",
              "    <tr>\n",
              "      <th>PoolArea</th>\n",
              "      <td>0.008283</td>\n",
              "      <td>0.180868</td>\n",
              "      <td>0.077672</td>\n",
              "      <td>0.065166</td>\n",
              "      <td>-0.001985</td>\n",
              "      <td>0.004950</td>\n",
              "      <td>0.005829</td>\n",
              "      <td>0.011723</td>\n",
              "      <td>0.140491</td>\n",
              "      <td>0.041709</td>\n",
              "      <td>-0.035092</td>\n",
              "      <td>0.126053</td>\n",
              "      <td>0.131525</td>\n",
              "      <td>0.081487</td>\n",
              "      <td>0.062157</td>\n",
              "      <td>0.170205</td>\n",
              "      <td>0.067616</td>\n",
              "      <td>0.020025</td>\n",
              "      <td>0.049604</td>\n",
              "      <td>0.022381</td>\n",
              "      <td>0.070703</td>\n",
              "      <td>-0.014525</td>\n",
              "      <td>0.083757</td>\n",
              "      <td>0.095074</td>\n",
              "      <td>0.015813</td>\n",
              "      <td>0.020934</td>\n",
              "      <td>0.061047</td>\n",
              "      <td>0.073378</td>\n",
              "      <td>0.060762</td>\n",
              "      <td>0.054203</td>\n",
              "      <td>-0.007992</td>\n",
              "      <td>0.051307</td>\n",
              "      <td>1.000000</td>\n",
              "      <td>0.029669</td>\n",
              "      <td>-0.033737</td>\n",
              "      <td>-0.059689</td>\n",
              "      <td>0.092404</td>\n",
              "    </tr>\n",
              "    <tr>\n",
              "      <th>MiscVal</th>\n",
              "      <td>-0.007683</td>\n",
              "      <td>0.001168</td>\n",
              "      <td>0.038068</td>\n",
              "      <td>-0.031406</td>\n",
              "      <td>0.068777</td>\n",
              "      <td>-0.034383</td>\n",
              "      <td>-0.010286</td>\n",
              "      <td>-0.029815</td>\n",
              "      <td>0.003571</td>\n",
              "      <td>0.004940</td>\n",
              "      <td>-0.023837</td>\n",
              "      <td>-0.018479</td>\n",
              "      <td>-0.021096</td>\n",
              "      <td>0.016197</td>\n",
              "      <td>-0.003793</td>\n",
              "      <td>-0.002416</td>\n",
              "      <td>-0.023047</td>\n",
              "      <td>-0.007367</td>\n",
              "      <td>-0.014290</td>\n",
              "      <td>0.001290</td>\n",
              "      <td>0.007767</td>\n",
              "      <td>0.062341</td>\n",
              "      <td>0.024763</td>\n",
              "      <td>0.001409</td>\n",
              "      <td>-0.006761</td>\n",
              "      <td>-0.043080</td>\n",
              "      <td>-0.027400</td>\n",
              "      <td>-0.009551</td>\n",
              "      <td>-0.018584</td>\n",
              "      <td>0.018361</td>\n",
              "      <td>0.000354</td>\n",
              "      <td>0.031946</td>\n",
              "      <td>0.029669</td>\n",
              "      <td>1.000000</td>\n",
              "      <td>-0.006495</td>\n",
              "      <td>0.004906</td>\n",
              "      <td>-0.021190</td>\n",
              "    </tr>\n",
              "    <tr>\n",
              "      <th>MoSold</th>\n",
              "      <td>-0.013585</td>\n",
              "      <td>0.010158</td>\n",
              "      <td>0.001205</td>\n",
              "      <td>0.070815</td>\n",
              "      <td>-0.003511</td>\n",
              "      <td>0.012398</td>\n",
              "      <td>0.021490</td>\n",
              "      <td>-0.005940</td>\n",
              "      <td>-0.015727</td>\n",
              "      <td>-0.015211</td>\n",
              "      <td>0.034888</td>\n",
              "      <td>0.013196</td>\n",
              "      <td>0.031372</td>\n",
              "      <td>0.035164</td>\n",
              "      <td>-0.022174</td>\n",
              "      <td>0.050240</td>\n",
              "      <td>-0.025361</td>\n",
              "      <td>0.032873</td>\n",
              "      <td>0.055872</td>\n",
              "      <td>-0.009050</td>\n",
              "      <td>0.046544</td>\n",
              "      <td>0.026589</td>\n",
              "      <td>0.036907</td>\n",
              "      <td>0.046357</td>\n",
              "      <td>0.019163</td>\n",
              "      <td>0.040522</td>\n",
              "      <td>0.027974</td>\n",
              "      <td>0.021011</td>\n",
              "      <td>0.071255</td>\n",
              "      <td>-0.028887</td>\n",
              "      <td>0.029474</td>\n",
              "      <td>0.023217</td>\n",
              "      <td>-0.033737</td>\n",
              "      <td>-0.006495</td>\n",
              "      <td>1.000000</td>\n",
              "      <td>-0.145721</td>\n",
              "      <td>0.046432</td>\n",
              "    </tr>\n",
              "    <tr>\n",
              "      <th>YrSold</th>\n",
              "      <td>-0.021407</td>\n",
              "      <td>0.006768</td>\n",
              "      <td>-0.014261</td>\n",
              "      <td>-0.027347</td>\n",
              "      <td>0.043950</td>\n",
              "      <td>-0.013618</td>\n",
              "      <td>0.035743</td>\n",
              "      <td>-0.008184</td>\n",
              "      <td>0.014359</td>\n",
              "      <td>0.031706</td>\n",
              "      <td>-0.041258</td>\n",
              "      <td>-0.014969</td>\n",
              "      <td>-0.013604</td>\n",
              "      <td>-0.028700</td>\n",
              "      <td>-0.028921</td>\n",
              "      <td>-0.036526</td>\n",
              "      <td>0.067049</td>\n",
              "      <td>-0.046524</td>\n",
              "      <td>-0.019669</td>\n",
              "      <td>-0.010269</td>\n",
              "      <td>-0.036014</td>\n",
              "      <td>0.031687</td>\n",
              "      <td>-0.034516</td>\n",
              "      <td>-0.024096</td>\n",
              "      <td>-0.011135</td>\n",
              "      <td>-0.039117</td>\n",
              "      <td>-0.027378</td>\n",
              "      <td>0.022270</td>\n",
              "      <td>-0.057619</td>\n",
              "      <td>-0.009916</td>\n",
              "      <td>0.018645</td>\n",
              "      <td>0.010694</td>\n",
              "      <td>-0.059689</td>\n",
              "      <td>0.004906</td>\n",
              "      <td>-0.145721</td>\n",
              "      <td>1.000000</td>\n",
              "      <td>-0.028923</td>\n",
              "    </tr>\n",
              "    <tr>\n",
              "      <th>SalePrice</th>\n",
              "      <td>-0.084284</td>\n",
              "      <td>0.334901</td>\n",
              "      <td>0.263843</td>\n",
              "      <td>0.790982</td>\n",
              "      <td>-0.077856</td>\n",
              "      <td>0.522897</td>\n",
              "      <td>0.507101</td>\n",
              "      <td>0.475241</td>\n",
              "      <td>0.386420</td>\n",
              "      <td>-0.011378</td>\n",
              "      <td>0.214479</td>\n",
              "      <td>0.613581</td>\n",
              "      <td>0.605852</td>\n",
              "      <td>0.319334</td>\n",
              "      <td>-0.025606</td>\n",
              "      <td>0.708624</td>\n",
              "      <td>0.227122</td>\n",
              "      <td>-0.016844</td>\n",
              "      <td>0.560664</td>\n",
              "      <td>0.284108</td>\n",
              "      <td>0.168213</td>\n",
              "      <td>-0.135907</td>\n",
              "      <td>0.533723</td>\n",
              "      <td>0.466929</td>\n",
              "      <td>0.262700</td>\n",
              "      <td>0.640409</td>\n",
              "      <td>0.623431</td>\n",
              "      <td>0.324413</td>\n",
              "      <td>0.315856</td>\n",
              "      <td>-0.128578</td>\n",
              "      <td>0.044584</td>\n",
              "      <td>0.111447</td>\n",
              "      <td>0.092404</td>\n",
              "      <td>-0.021190</td>\n",
              "      <td>0.046432</td>\n",
              "      <td>-0.028923</td>\n",
              "      <td>1.000000</td>\n",
              "    </tr>\n",
              "  </tbody>\n",
              "</table>\n",
              "</div>"
            ],
            "text/plain": [
              "               MSSubClass  LotFrontage   LotArea  ...    MoSold    YrSold  SalePrice\n",
              "MSSubClass       1.000000    -0.357056 -0.139781  ... -0.013585 -0.021407  -0.084284\n",
              "LotFrontage     -0.357056     1.000000  0.306795  ...  0.010158  0.006768   0.334901\n",
              "LotArea         -0.139781     0.306795  1.000000  ...  0.001205 -0.014261   0.263843\n",
              "OverallQual      0.032628     0.234196  0.105806  ...  0.070815 -0.027347   0.790982\n",
              "OverallCond     -0.059316    -0.052820 -0.005636  ... -0.003511  0.043950  -0.077856\n",
              "YearBuilt        0.027850     0.117598  0.014228  ...  0.012398 -0.013618   0.522897\n",
              "YearRemodAdd     0.040581     0.082746  0.013788  ...  0.021490  0.035743   0.507101\n",
              "MasVnrArea       0.022895     0.179283  0.103960  ... -0.005940 -0.008184   0.475241\n",
              "BsmtFinSF1      -0.069836     0.215828  0.214103  ... -0.015727  0.014359   0.386420\n",
              "BsmtFinSF2      -0.065649     0.043340  0.111170  ... -0.015211  0.031706  -0.011378\n",
              "BsmtUnfSF       -0.140759     0.122156 -0.002618  ...  0.034888 -0.041258   0.214479\n",
              "TotalBsmtSF     -0.238518     0.363358  0.260833  ...  0.013196 -0.014969   0.613581\n",
              "1stFlrSF        -0.251758     0.414266  0.299475  ...  0.031372 -0.013604   0.605852\n",
              "2ndFlrSF         0.307886     0.072483  0.050986  ...  0.035164 -0.028700   0.319334\n",
              "LowQualFinSF     0.046474     0.036849  0.004779  ... -0.022174 -0.028921  -0.025606\n",
              "GrLivArea        0.074853     0.368392  0.263116  ...  0.050240 -0.036526   0.708624\n",
              "BsmtFullBath     0.003491     0.091481  0.158155  ... -0.025361  0.067049   0.227122\n",
              "BsmtHalfBath    -0.002333    -0.006419  0.048046  ...  0.032873 -0.046524  -0.016844\n",
              "FullBath         0.131608     0.180424  0.126031  ...  0.055872 -0.019669   0.560664\n",
              "HalfBath         0.177354     0.048258  0.014259  ... -0.009050 -0.010269   0.284108\n",
              "BedroomAbvGr    -0.023438     0.237023  0.119690  ...  0.046544 -0.036014   0.168213\n",
              "KitchenAbvGr     0.281721    -0.005805 -0.017784  ...  0.026589  0.031687  -0.135907\n",
              "TotRmsAbvGrd     0.040380     0.320146  0.190015  ...  0.036907 -0.034516   0.533723\n",
              "Fireplaces      -0.045569     0.235755  0.271364  ...  0.046357 -0.024096   0.466929\n",
              "GarageYrBlt     -0.080750     0.100432  0.072515  ...  0.019163 -0.011135   0.262700\n",
              "GarageCars      -0.040110     0.269729  0.154871  ...  0.040522 -0.039117   0.640409\n",
              "GarageArea      -0.098672     0.323663  0.180403  ...  0.027974 -0.027378   0.623431\n",
              "WoodDeckSF      -0.012579     0.077106  0.171698  ...  0.021011  0.022270   0.324413\n",
              "OpenPorchSF     -0.006100     0.137454  0.084774  ...  0.071255 -0.057619   0.315856\n",
              "EnclosedPorch   -0.012037     0.009790 -0.018340  ... -0.028887 -0.009916  -0.128578\n",
              "3SsnPorch       -0.043825     0.062335  0.020423  ...  0.029474  0.018645   0.044584\n",
              "ScreenPorch     -0.026030     0.037684  0.043160  ...  0.023217  0.010694   0.111447\n",
              "PoolArea         0.008283     0.180868  0.077672  ... -0.033737 -0.059689   0.092404\n",
              "MiscVal         -0.007683     0.001168  0.038068  ... -0.006495  0.004906  -0.021190\n",
              "MoSold          -0.013585     0.010158  0.001205  ...  1.000000 -0.145721   0.046432\n",
              "YrSold          -0.021407     0.006768 -0.014261  ... -0.145721  1.000000  -0.028923\n",
              "SalePrice       -0.084284     0.334901  0.263843  ...  0.046432 -0.028923   1.000000\n",
              "\n",
              "[37 rows x 37 columns]"
            ]
          },
          "metadata": {
            "tags": []
          },
          "execution_count": 105
        }
      ]
    },
    {
      "cell_type": "markdown",
      "metadata": {
        "id": "IGGjkqo2iO7Y"
      },
      "source": [
        "Por defecto muestra la correlación de Pearson entre las columnas.  Se puede observar cómo la diagonal es 1, ya que cada columna está (obviamente) completamente correlacionada consigo misma."
      ]
    },
    {
      "cell_type": "markdown",
      "metadata": {
        "id": "CLo1pmkhp-TP"
      },
      "source": [
        "#### Histograma de frecuencias"
      ]
    },
    {
      "cell_type": "code",
      "metadata": {
        "colab": {
          "base_uri": "https://localhost:8080/",
          "height": 1000
        },
        "id": "aqQ4U4QDiDy_",
        "outputId": "880eeb2f-4d2c-4e60-ba01-473f25349750"
      },
      "source": [
        "df_train.hist(bins = 30, figsize=(20,20), color = 'r')\n",
        "plt.show()"
      ],
      "execution_count": null,
      "outputs": [
        {
          "output_type": "display_data",
          "data": {
            "image/png": "[encoded data removed]",
            "text/plain": [
              "<Figure size 1440x1440 with 42 Axes>"
            ]
          },
          "metadata": {
            "tags": [],
            "needs_background": "light"
          }
        }
      ]
    },
    {
      "cell_type": "code",
      "metadata": {
        "id": "5h849STvlSzd"
      },
      "source": [
        "df_train_regresion = df_train.copy()"
      ],
      "execution_count": null,
      "outputs": []
    },
    {
      "cell_type": "markdown",
      "metadata": {
        "id": "i1jkVXMdF3WP"
      },
      "source": [
        "#### Conversión de las variables categóricas a dummies (variables ficticias)"
      ]
    },
    {
      "cell_type": "code",
      "metadata": {
        "id": "uBqv_a7uFa0Q"
      },
      "source": [
        "var_num = df_train_regresion._get_numeric_data().columns.values.tolist()\n",
        "data_vars = df_train_regresion.columns.values.tolist()\n",
        "categories  = [v for v in data_vars if v not in var_num]"
      ],
      "execution_count": null,
      "outputs": []
    },
    {
      "cell_type": "code",
      "metadata": {
        "id": "WQUFNFqiGW8Y"
      },
      "source": [
        "for category in categories:\n",
        "    cat_dummies = pd.get_dummies(df_train_regresion[category], drop_first=True, prefix=category)\n",
        "    data_new = df_train_regresion.join(cat_dummies)\n",
        "    df_train_regresion = data_new "
      ],
      "execution_count": null,
      "outputs": []
    },
    {
      "cell_type": "code",
      "metadata": {
        "colab": {
          "base_uri": "https://localhost:8080/",
          "height": 253
        },
        "id": "MYtS2olUGj7g",
        "outputId": "330a8f86-f7d0-4d7c-ddf4-48f6defd8ccd"
      },
      "source": [
        "df_train_regresion.head(5)"
      ],
      "execution_count": null,
      "outputs": [
        {
          "output_type": "execute_result",
          "data": {
            "text/html": [
              "<div>\n",
              "<style scoped>\n",
              "    .dataframe tbody tr th:only-of-type {\n",
              "        vertical-align: middle;\n",
              "    }\n",
              "\n",
              "    .dataframe tbody tr th {\n",
              "        vertical-align: top;\n",
              "    }\n",
              "\n",
              "    .dataframe thead th {\n",
              "        text-align: right;\n",
              "    }\n",
              "</style>\n",
              "<table border=\"1\" class=\"dataframe\">\n",
              "  <thead>\n",
              "    <tr style=\"text-align: right;\">\n",
              "      <th></th>\n",
              "      <th>MSSubClass</th>\n",
              "      <th>MSZoning</th>\n",
              "      <th>LotFrontage</th>\n",
              "      <th>LotArea</th>\n",
              "      <th>Street</th>\n",
              "      <th>LotShape</th>\n",
              "      <th>LandContour</th>\n",
              "      <th>Utilities</th>\n",
              "      <th>LotConfig</th>\n",
              "      <th>LandSlope</th>\n",
              "      <th>Neighborhood</th>\n",
              "      <th>Condition1</th>\n",
              "      <th>Condition2</th>\n",
              "      <th>BldgType</th>\n",
              "      <th>HouseStyle</th>\n",
              "      <th>OverallQual</th>\n",
              "      <th>OverallCond</th>\n",
              "      <th>YearBuilt</th>\n",
              "      <th>YearRemodAdd</th>\n",
              "      <th>RoofStyle</th>\n",
              "      <th>RoofMatl</th>\n",
              "      <th>Exterior1st</th>\n",
              "      <th>Exterior2nd</th>\n",
              "      <th>MasVnrType</th>\n",
              "      <th>MasVnrArea</th>\n",
              "      <th>ExterQual</th>\n",
              "      <th>ExterCond</th>\n",
              "      <th>Foundation</th>\n",
              "      <th>BsmtQual</th>\n",
              "      <th>BsmtCond</th>\n",
              "      <th>BsmtExposure</th>\n",
              "      <th>BsmtFinType1</th>\n",
              "      <th>BsmtFinSF1</th>\n",
              "      <th>BsmtFinType2</th>\n",
              "      <th>BsmtFinSF2</th>\n",
              "      <th>BsmtUnfSF</th>\n",
              "      <th>TotalBsmtSF</th>\n",
              "      <th>Heating</th>\n",
              "      <th>HeatingQC</th>\n",
              "      <th>CentralAir</th>\n",
              "      <th>...</th>\n",
              "      <th>Functional_Min1</th>\n",
              "      <th>Functional_Min2</th>\n",
              "      <th>Functional_Mod</th>\n",
              "      <th>Functional_Sev</th>\n",
              "      <th>Functional_Typ</th>\n",
              "      <th>FireplaceQu_Fa</th>\n",
              "      <th>FireplaceQu_Gd</th>\n",
              "      <th>FireplaceQu_Po</th>\n",
              "      <th>FireplaceQu_TA</th>\n",
              "      <th>GarageType_Attchd</th>\n",
              "      <th>GarageType_Basment</th>\n",
              "      <th>GarageType_BuiltIn</th>\n",
              "      <th>GarageType_CarPort</th>\n",
              "      <th>GarageType_Detchd</th>\n",
              "      <th>GarageType_Gd</th>\n",
              "      <th>GarageFinish_RFn</th>\n",
              "      <th>GarageFinish_Unf</th>\n",
              "      <th>GarageQual_Fa</th>\n",
              "      <th>GarageQual_Gd</th>\n",
              "      <th>GarageQual_Po</th>\n",
              "      <th>GarageQual_TA</th>\n",
              "      <th>GarageCond_Fa</th>\n",
              "      <th>GarageCond_Gd</th>\n",
              "      <th>GarageCond_Po</th>\n",
              "      <th>GarageCond_TA</th>\n",
              "      <th>PavedDrive_P</th>\n",
              "      <th>PavedDrive_Y</th>\n",
              "      <th>SaleType_CWD</th>\n",
              "      <th>SaleType_Con</th>\n",
              "      <th>SaleType_ConLD</th>\n",
              "      <th>SaleType_ConLI</th>\n",
              "      <th>SaleType_ConLw</th>\n",
              "      <th>SaleType_New</th>\n",
              "      <th>SaleType_Oth</th>\n",
              "      <th>SaleType_WD</th>\n",
              "      <th>SaleCondition_AdjLand</th>\n",
              "      <th>SaleCondition_Alloca</th>\n",
              "      <th>SaleCondition_Family</th>\n",
              "      <th>SaleCondition_Normal</th>\n",
              "      <th>SaleCondition_Partial</th>\n",
              "    </tr>\n",
              "  </thead>\n",
              "  <tbody>\n",
              "    <tr>\n",
              "      <th>0</th>\n",
              "      <td>60</td>\n",
              "      <td>RL</td>\n",
              "      <td>65.0</td>\n",
              "      <td>8450</td>\n",
              "      <td>Pave</td>\n",
              "      <td>Reg</td>\n",
              "      <td>Lvl</td>\n",
              "      <td>AllPub</td>\n",
              "      <td>Inside</td>\n",
              "      <td>Gtl</td>\n",
              "      <td>CollgCr</td>\n",
              "      <td>Norm</td>\n",
              "      <td>Norm</td>\n",
              "      <td>1Fam</td>\n",
              "      <td>2Story</td>\n",
              "      <td>7</td>\n",
              "      <td>5</td>\n",
              "      <td>2003</td>\n",
              "      <td>2003</td>\n",
              "      <td>Gable</td>\n",
              "      <td>CompShg</td>\n",
              "      <td>VinylSd</td>\n",
              "      <td>VinylSd</td>\n",
              "      <td>BrkFace</td>\n",
              "      <td>196.0</td>\n",
              "      <td>Gd</td>\n",
              "      <td>TA</td>\n",
              "      <td>PConc</td>\n",
              "      <td>Gd</td>\n",
              "      <td>TA</td>\n",
              "      <td>No</td>\n",
              "      <td>GLQ</td>\n",
              "      <td>706</td>\n",
              "      <td>Unf</td>\n",
              "      <td>0</td>\n",
              "      <td>150</td>\n",
              "      <td>856</td>\n",
              "      <td>GasA</td>\n",
              "      <td>Ex</td>\n",
              "      <td>Y</td>\n",
              "      <td>...</td>\n",
              "      <td>0</td>\n",
              "      <td>0</td>\n",
              "      <td>0</td>\n",
              "      <td>0</td>\n",
              "      <td>1</td>\n",
              "      <td>0</td>\n",
              "      <td>1</td>\n",
              "      <td>0</td>\n",
              "      <td>0</td>\n",
              "      <td>1</td>\n",
              "      <td>0</td>\n",
              "      <td>0</td>\n",
              "      <td>0</td>\n",
              "      <td>0</td>\n",
              "      <td>0</td>\n",
              "      <td>1</td>\n",
              "      <td>0</td>\n",
              "      <td>0</td>\n",
              "      <td>0</td>\n",
              "      <td>0</td>\n",
              "      <td>1</td>\n",
              "      <td>0</td>\n",
              "      <td>0</td>\n",
              "      <td>0</td>\n",
              "      <td>1</td>\n",
              "      <td>0</td>\n",
              "      <td>1</td>\n",
              "      <td>0</td>\n",
              "      <td>0</td>\n",
              "      <td>0</td>\n",
              "      <td>0</td>\n",
              "      <td>0</td>\n",
              "      <td>0</td>\n",
              "      <td>0</td>\n",
              "      <td>1</td>\n",
              "      <td>0</td>\n",
              "      <td>0</td>\n",
              "      <td>0</td>\n",
              "      <td>1</td>\n",
              "      <td>0</td>\n",
              "    </tr>\n",
              "    <tr>\n",
              "      <th>1</th>\n",
              "      <td>20</td>\n",
              "      <td>RL</td>\n",
              "      <td>80.0</td>\n",
              "      <td>9600</td>\n",
              "      <td>Pave</td>\n",
              "      <td>Reg</td>\n",
              "      <td>Lvl</td>\n",
              "      <td>AllPub</td>\n",
              "      <td>FR2</td>\n",
              "      <td>Gtl</td>\n",
              "      <td>Veenker</td>\n",
              "      <td>Feedr</td>\n",
              "      <td>Norm</td>\n",
              "      <td>1Fam</td>\n",
              "      <td>1Story</td>\n",
              "      <td>6</td>\n",
              "      <td>8</td>\n",
              "      <td>1976</td>\n",
              "      <td>1976</td>\n",
              "      <td>Gable</td>\n",
              "      <td>CompShg</td>\n",
              "      <td>MetalSd</td>\n",
              "      <td>MetalSd</td>\n",
              "      <td>None</td>\n",
              "      <td>0.0</td>\n",
              "      <td>TA</td>\n",
              "      <td>TA</td>\n",
              "      <td>CBlock</td>\n",
              "      <td>Gd</td>\n",
              "      <td>TA</td>\n",
              "      <td>Gd</td>\n",
              "      <td>ALQ</td>\n",
              "      <td>978</td>\n",
              "      <td>Unf</td>\n",
              "      <td>0</td>\n",
              "      <td>284</td>\n",
              "      <td>1262</td>\n",
              "      <td>GasA</td>\n",
              "      <td>Ex</td>\n",
              "      <td>Y</td>\n",
              "      <td>...</td>\n",
              "      <td>0</td>\n",
              "      <td>0</td>\n",
              "      <td>0</td>\n",
              "      <td>0</td>\n",
              "      <td>1</td>\n",
              "      <td>0</td>\n",
              "      <td>0</td>\n",
              "      <td>0</td>\n",
              "      <td>1</td>\n",
              "      <td>1</td>\n",
              "      <td>0</td>\n",
              "      <td>0</td>\n",
              "      <td>0</td>\n",
              "      <td>0</td>\n",
              "      <td>0</td>\n",
              "      <td>1</td>\n",
              "      <td>0</td>\n",
              "      <td>0</td>\n",
              "      <td>0</td>\n",
              "      <td>0</td>\n",
              "      <td>1</td>\n",
              "      <td>0</td>\n",
              "      <td>0</td>\n",
              "      <td>0</td>\n",
              "      <td>1</td>\n",
              "      <td>0</td>\n",
              "      <td>1</td>\n",
              "      <td>0</td>\n",
              "      <td>0</td>\n",
              "      <td>0</td>\n",
              "      <td>0</td>\n",
              "      <td>0</td>\n",
              "      <td>0</td>\n",
              "      <td>0</td>\n",
              "      <td>1</td>\n",
              "      <td>0</td>\n",
              "      <td>0</td>\n",
              "      <td>0</td>\n",
              "      <td>1</td>\n",
              "      <td>0</td>\n",
              "    </tr>\n",
              "    <tr>\n",
              "      <th>2</th>\n",
              "      <td>60</td>\n",
              "      <td>RL</td>\n",
              "      <td>68.0</td>\n",
              "      <td>11250</td>\n",
              "      <td>Pave</td>\n",
              "      <td>IR1</td>\n",
              "      <td>Lvl</td>\n",
              "      <td>AllPub</td>\n",
              "      <td>Inside</td>\n",
              "      <td>Gtl</td>\n",
              "      <td>CollgCr</td>\n",
              "      <td>Norm</td>\n",
              "      <td>Norm</td>\n",
              "      <td>1Fam</td>\n",
              "      <td>2Story</td>\n",
              "      <td>7</td>\n",
              "      <td>5</td>\n",
              "      <td>2001</td>\n",
              "      <td>2002</td>\n",
              "      <td>Gable</td>\n",
              "      <td>CompShg</td>\n",
              "      <td>VinylSd</td>\n",
              "      <td>VinylSd</td>\n",
              "      <td>BrkFace</td>\n",
              "      <td>162.0</td>\n",
              "      <td>Gd</td>\n",
              "      <td>TA</td>\n",
              "      <td>PConc</td>\n",
              "      <td>Gd</td>\n",
              "      <td>TA</td>\n",
              "      <td>Mn</td>\n",
              "      <td>GLQ</td>\n",
              "      <td>486</td>\n",
              "      <td>Unf</td>\n",
              "      <td>0</td>\n",
              "      <td>434</td>\n",
              "      <td>920</td>\n",
              "      <td>GasA</td>\n",
              "      <td>Ex</td>\n",
              "      <td>Y</td>\n",
              "      <td>...</td>\n",
              "      <td>0</td>\n",
              "      <td>0</td>\n",
              "      <td>0</td>\n",
              "      <td>0</td>\n",
              "      <td>1</td>\n",
              "      <td>0</td>\n",
              "      <td>0</td>\n",
              "      <td>0</td>\n",
              "      <td>1</td>\n",
              "      <td>1</td>\n",
              "      <td>0</td>\n",
              "      <td>0</td>\n",
              "      <td>0</td>\n",
              "      <td>0</td>\n",
              "      <td>0</td>\n",
              "      <td>1</td>\n",
              "      <td>0</td>\n",
              "      <td>0</td>\n",
              "      <td>0</td>\n",
              "      <td>0</td>\n",
              "      <td>1</td>\n",
              "      <td>0</td>\n",
              "      <td>0</td>\n",
              "      <td>0</td>\n",
              "      <td>1</td>\n",
              "      <td>0</td>\n",
              "      <td>1</td>\n",
              "      <td>0</td>\n",
              "      <td>0</td>\n",
              "      <td>0</td>\n",
              "      <td>0</td>\n",
              "      <td>0</td>\n",
              "      <td>0</td>\n",
              "      <td>0</td>\n",
              "      <td>1</td>\n",
              "      <td>0</td>\n",
              "      <td>0</td>\n",
              "      <td>0</td>\n",
              "      <td>1</td>\n",
              "      <td>0</td>\n",
              "    </tr>\n",
              "    <tr>\n",
              "      <th>3</th>\n",
              "      <td>70</td>\n",
              "      <td>RL</td>\n",
              "      <td>60.0</td>\n",
              "      <td>9550</td>\n",
              "      <td>Pave</td>\n",
              "      <td>IR1</td>\n",
              "      <td>Lvl</td>\n",
              "      <td>AllPub</td>\n",
              "      <td>Corner</td>\n",
              "      <td>Gtl</td>\n",
              "      <td>Crawfor</td>\n",
              "      <td>Norm</td>\n",
              "      <td>Norm</td>\n",
              "      <td>1Fam</td>\n",
              "      <td>2Story</td>\n",
              "      <td>7</td>\n",
              "      <td>5</td>\n",
              "      <td>1915</td>\n",
              "      <td>1970</td>\n",
              "      <td>Gable</td>\n",
              "      <td>CompShg</td>\n",
              "      <td>Wd Sdng</td>\n",
              "      <td>Wd Shng</td>\n",
              "      <td>None</td>\n",
              "      <td>0.0</td>\n",
              "      <td>TA</td>\n",
              "      <td>TA</td>\n",
              "      <td>BrkTil</td>\n",
              "      <td>TA</td>\n",
              "      <td>Gd</td>\n",
              "      <td>No</td>\n",
              "      <td>ALQ</td>\n",
              "      <td>216</td>\n",
              "      <td>Unf</td>\n",
              "      <td>0</td>\n",
              "      <td>540</td>\n",
              "      <td>756</td>\n",
              "      <td>GasA</td>\n",
              "      <td>Gd</td>\n",
              "      <td>Y</td>\n",
              "      <td>...</td>\n",
              "      <td>0</td>\n",
              "      <td>0</td>\n",
              "      <td>0</td>\n",
              "      <td>0</td>\n",
              "      <td>1</td>\n",
              "      <td>0</td>\n",
              "      <td>1</td>\n",
              "      <td>0</td>\n",
              "      <td>0</td>\n",
              "      <td>0</td>\n",
              "      <td>0</td>\n",
              "      <td>0</td>\n",
              "      <td>0</td>\n",
              "      <td>1</td>\n",
              "      <td>0</td>\n",
              "      <td>0</td>\n",
              "      <td>1</td>\n",
              "      <td>0</td>\n",
              "      <td>0</td>\n",
              "      <td>0</td>\n",
              "      <td>1</td>\n",
              "      <td>0</td>\n",
              "      <td>0</td>\n",
              "      <td>0</td>\n",
              "      <td>1</td>\n",
              "      <td>0</td>\n",
              "      <td>1</td>\n",
              "      <td>0</td>\n",
              "      <td>0</td>\n",
              "      <td>0</td>\n",
              "      <td>0</td>\n",
              "      <td>0</td>\n",
              "      <td>0</td>\n",
              "      <td>0</td>\n",
              "      <td>1</td>\n",
              "      <td>0</td>\n",
              "      <td>0</td>\n",
              "      <td>0</td>\n",
              "      <td>0</td>\n",
              "      <td>0</td>\n",
              "    </tr>\n",
              "    <tr>\n",
              "      <th>4</th>\n",
              "      <td>60</td>\n",
              "      <td>RL</td>\n",
              "      <td>84.0</td>\n",
              "      <td>14260</td>\n",
              "      <td>Pave</td>\n",
              "      <td>IR1</td>\n",
              "      <td>Lvl</td>\n",
              "      <td>AllPub</td>\n",
              "      <td>FR2</td>\n",
              "      <td>Gtl</td>\n",
              "      <td>NoRidge</td>\n",
              "      <td>Norm</td>\n",
              "      <td>Norm</td>\n",
              "      <td>1Fam</td>\n",
              "      <td>2Story</td>\n",
              "      <td>8</td>\n",
              "      <td>5</td>\n",
              "      <td>2000</td>\n",
              "      <td>2000</td>\n",
              "      <td>Gable</td>\n",
              "      <td>CompShg</td>\n",
              "      <td>VinylSd</td>\n",
              "      <td>VinylSd</td>\n",
              "      <td>BrkFace</td>\n",
              "      <td>350.0</td>\n",
              "      <td>Gd</td>\n",
              "      <td>TA</td>\n",
              "      <td>PConc</td>\n",
              "      <td>Gd</td>\n",
              "      <td>TA</td>\n",
              "      <td>Av</td>\n",
              "      <td>GLQ</td>\n",
              "      <td>655</td>\n",
              "      <td>Unf</td>\n",
              "      <td>0</td>\n",
              "      <td>490</td>\n",
              "      <td>1145</td>\n",
              "      <td>GasA</td>\n",
              "      <td>Ex</td>\n",
              "      <td>Y</td>\n",
              "      <td>...</td>\n",
              "      <td>0</td>\n",
              "      <td>0</td>\n",
              "      <td>0</td>\n",
              "      <td>0</td>\n",
              "      <td>1</td>\n",
              "      <td>0</td>\n",
              "      <td>0</td>\n",
              "      <td>0</td>\n",
              "      <td>1</td>\n",
              "      <td>1</td>\n",
              "      <td>0</td>\n",
              "      <td>0</td>\n",
              "      <td>0</td>\n",
              "      <td>0</td>\n",
              "      <td>0</td>\n",
              "      <td>1</td>\n",
              "      <td>0</td>\n",
              "      <td>0</td>\n",
              "      <td>0</td>\n",
              "      <td>0</td>\n",
              "      <td>1</td>\n",
              "      <td>0</td>\n",
              "      <td>0</td>\n",
              "      <td>0</td>\n",
              "      <td>1</td>\n",
              "      <td>0</td>\n",
              "      <td>1</td>\n",
              "      <td>0</td>\n",
              "      <td>0</td>\n",
              "      <td>0</td>\n",
              "      <td>0</td>\n",
              "      <td>0</td>\n",
              "      <td>0</td>\n",
              "      <td>0</td>\n",
              "      <td>1</td>\n",
              "      <td>0</td>\n",
              "      <td>0</td>\n",
              "      <td>0</td>\n",
              "      <td>1</td>\n",
              "      <td>0</td>\n",
              "    </tr>\n",
              "  </tbody>\n",
              "</table>\n",
              "<p>5 rows × 277 columns</p>\n",
              "</div>"
            ],
            "text/plain": [
              "   MSSubClass MSZoning  ...  SaleCondition_Normal  SaleCondition_Partial\n",
              "0          60       RL  ...                     1                      0\n",
              "1          20       RL  ...                     1                      0\n",
              "2          60       RL  ...                     1                      0\n",
              "3          70       RL  ...                     0                      0\n",
              "4          60       RL  ...                     1                      0\n",
              "\n",
              "[5 rows x 277 columns]"
            ]
          },
          "metadata": {
            "tags": []
          },
          "execution_count": 12
        }
      ]
    },
    {
      "cell_type": "markdown",
      "metadata": {
        "id": "kXkuCIRwGzba"
      },
      "source": [
        "#### Se eliminan las columnas de las variables categóricas, elaboramos el modelo con las columnas dummies creadas"
      ]
    },
    {
      "cell_type": "code",
      "metadata": {
        "id": "X24fva0WGn2L"
      },
      "source": [
        "data_vars = df_train_regresion.columns.values.tolist()  \n",
        "new_categories  = [v for v in data_vars if v not in categories]\n",
        "df_train_regresion = df_train_regresion[new_categories]"
      ],
      "execution_count": null,
      "outputs": []
    },
    {
      "cell_type": "code",
      "metadata": {
        "colab": {
          "base_uri": "https://localhost:8080/",
          "height": 253
        },
        "id": "s4aMK9KWHEho",
        "outputId": "db2c1e8d-cb1e-4477-b566-94acfda95a2d"
      },
      "source": [
        "df_train_regresion.head(5)"
      ],
      "execution_count": null,
      "outputs": [
        {
          "output_type": "execute_result",
          "data": {
            "text/html": [
              "<div>\n",
              "<style scoped>\n",
              "    .dataframe tbody tr th:only-of-type {\n",
              "        vertical-align: middle;\n",
              "    }\n",
              "\n",
              "    .dataframe tbody tr th {\n",
              "        vertical-align: top;\n",
              "    }\n",
              "\n",
              "    .dataframe thead th {\n",
              "        text-align: right;\n",
              "    }\n",
              "</style>\n",
              "<table border=\"1\" class=\"dataframe\">\n",
              "  <thead>\n",
              "    <tr style=\"text-align: right;\">\n",
              "      <th></th>\n",
              "      <th>MSSubClass</th>\n",
              "      <th>LotFrontage</th>\n",
              "      <th>LotArea</th>\n",
              "      <th>OverallQual</th>\n",
              "      <th>OverallCond</th>\n",
              "      <th>YearBuilt</th>\n",
              "      <th>YearRemodAdd</th>\n",
              "      <th>MasVnrArea</th>\n",
              "      <th>BsmtFinSF1</th>\n",
              "      <th>BsmtFinSF2</th>\n",
              "      <th>BsmtUnfSF</th>\n",
              "      <th>TotalBsmtSF</th>\n",
              "      <th>1stFlrSF</th>\n",
              "      <th>2ndFlrSF</th>\n",
              "      <th>LowQualFinSF</th>\n",
              "      <th>GrLivArea</th>\n",
              "      <th>BsmtFullBath</th>\n",
              "      <th>BsmtHalfBath</th>\n",
              "      <th>FullBath</th>\n",
              "      <th>HalfBath</th>\n",
              "      <th>BedroomAbvGr</th>\n",
              "      <th>KitchenAbvGr</th>\n",
              "      <th>TotRmsAbvGrd</th>\n",
              "      <th>Fireplaces</th>\n",
              "      <th>GarageYrBlt</th>\n",
              "      <th>GarageCars</th>\n",
              "      <th>GarageArea</th>\n",
              "      <th>WoodDeckSF</th>\n",
              "      <th>OpenPorchSF</th>\n",
              "      <th>EnclosedPorch</th>\n",
              "      <th>3SsnPorch</th>\n",
              "      <th>ScreenPorch</th>\n",
              "      <th>PoolArea</th>\n",
              "      <th>MiscVal</th>\n",
              "      <th>MoSold</th>\n",
              "      <th>YrSold</th>\n",
              "      <th>SalePrice</th>\n",
              "      <th>MSZoning_FV</th>\n",
              "      <th>MSZoning_RH</th>\n",
              "      <th>MSZoning_RL</th>\n",
              "      <th>...</th>\n",
              "      <th>Functional_Min1</th>\n",
              "      <th>Functional_Min2</th>\n",
              "      <th>Functional_Mod</th>\n",
              "      <th>Functional_Sev</th>\n",
              "      <th>Functional_Typ</th>\n",
              "      <th>FireplaceQu_Fa</th>\n",
              "      <th>FireplaceQu_Gd</th>\n",
              "      <th>FireplaceQu_Po</th>\n",
              "      <th>FireplaceQu_TA</th>\n",
              "      <th>GarageType_Attchd</th>\n",
              "      <th>GarageType_Basment</th>\n",
              "      <th>GarageType_BuiltIn</th>\n",
              "      <th>GarageType_CarPort</th>\n",
              "      <th>GarageType_Detchd</th>\n",
              "      <th>GarageType_Gd</th>\n",
              "      <th>GarageFinish_RFn</th>\n",
              "      <th>GarageFinish_Unf</th>\n",
              "      <th>GarageQual_Fa</th>\n",
              "      <th>GarageQual_Gd</th>\n",
              "      <th>GarageQual_Po</th>\n",
              "      <th>GarageQual_TA</th>\n",
              "      <th>GarageCond_Fa</th>\n",
              "      <th>GarageCond_Gd</th>\n",
              "      <th>GarageCond_Po</th>\n",
              "      <th>GarageCond_TA</th>\n",
              "      <th>PavedDrive_P</th>\n",
              "      <th>PavedDrive_Y</th>\n",
              "      <th>SaleType_CWD</th>\n",
              "      <th>SaleType_Con</th>\n",
              "      <th>SaleType_ConLD</th>\n",
              "      <th>SaleType_ConLI</th>\n",
              "      <th>SaleType_ConLw</th>\n",
              "      <th>SaleType_New</th>\n",
              "      <th>SaleType_Oth</th>\n",
              "      <th>SaleType_WD</th>\n",
              "      <th>SaleCondition_AdjLand</th>\n",
              "      <th>SaleCondition_Alloca</th>\n",
              "      <th>SaleCondition_Family</th>\n",
              "      <th>SaleCondition_Normal</th>\n",
              "      <th>SaleCondition_Partial</th>\n",
              "    </tr>\n",
              "  </thead>\n",
              "  <tbody>\n",
              "    <tr>\n",
              "      <th>0</th>\n",
              "      <td>60</td>\n",
              "      <td>65.0</td>\n",
              "      <td>8450</td>\n",
              "      <td>7</td>\n",
              "      <td>5</td>\n",
              "      <td>2003</td>\n",
              "      <td>2003</td>\n",
              "      <td>196.0</td>\n",
              "      <td>706</td>\n",
              "      <td>0</td>\n",
              "      <td>150</td>\n",
              "      <td>856</td>\n",
              "      <td>856</td>\n",
              "      <td>854</td>\n",
              "      <td>0</td>\n",
              "      <td>1710</td>\n",
              "      <td>1</td>\n",
              "      <td>0</td>\n",
              "      <td>2</td>\n",
              "      <td>1</td>\n",
              "      <td>3</td>\n",
              "      <td>1</td>\n",
              "      <td>8</td>\n",
              "      <td>0</td>\n",
              "      <td>2003.0</td>\n",
              "      <td>2</td>\n",
              "      <td>548</td>\n",
              "      <td>0</td>\n",
              "      <td>61</td>\n",
              "      <td>0</td>\n",
              "      <td>0</td>\n",
              "      <td>0</td>\n",
              "      <td>0</td>\n",
              "      <td>0</td>\n",
              "      <td>2</td>\n",
              "      <td>2008</td>\n",
              "      <td>208500</td>\n",
              "      <td>0</td>\n",
              "      <td>0</td>\n",
              "      <td>1</td>\n",
              "      <td>...</td>\n",
              "      <td>0</td>\n",
              "      <td>0</td>\n",
              "      <td>0</td>\n",
              "      <td>0</td>\n",
              "      <td>1</td>\n",
              "      <td>0</td>\n",
              "      <td>1</td>\n",
              "      <td>0</td>\n",
              "      <td>0</td>\n",
              "      <td>1</td>\n",
              "      <td>0</td>\n",
              "      <td>0</td>\n",
              "      <td>0</td>\n",
              "      <td>0</td>\n",
              "      <td>0</td>\n",
              "      <td>1</td>\n",
              "      <td>0</td>\n",
              "      <td>0</td>\n",
              "      <td>0</td>\n",
              "      <td>0</td>\n",
              "      <td>1</td>\n",
              "      <td>0</td>\n",
              "      <td>0</td>\n",
              "      <td>0</td>\n",
              "      <td>1</td>\n",
              "      <td>0</td>\n",
              "      <td>1</td>\n",
              "      <td>0</td>\n",
              "      <td>0</td>\n",
              "      <td>0</td>\n",
              "      <td>0</td>\n",
              "      <td>0</td>\n",
              "      <td>0</td>\n",
              "      <td>0</td>\n",
              "      <td>1</td>\n",
              "      <td>0</td>\n",
              "      <td>0</td>\n",
              "      <td>0</td>\n",
              "      <td>1</td>\n",
              "      <td>0</td>\n",
              "    </tr>\n",
              "    <tr>\n",
              "      <th>1</th>\n",
              "      <td>20</td>\n",
              "      <td>80.0</td>\n",
              "      <td>9600</td>\n",
              "      <td>6</td>\n",
              "      <td>8</td>\n",
              "      <td>1976</td>\n",
              "      <td>1976</td>\n",
              "      <td>0.0</td>\n",
              "      <td>978</td>\n",
              "      <td>0</td>\n",
              "      <td>284</td>\n",
              "      <td>1262</td>\n",
              "      <td>1262</td>\n",
              "      <td>0</td>\n",
              "      <td>0</td>\n",
              "      <td>1262</td>\n",
              "      <td>0</td>\n",
              "      <td>1</td>\n",
              "      <td>2</td>\n",
              "      <td>0</td>\n",
              "      <td>3</td>\n",
              "      <td>1</td>\n",
              "      <td>6</td>\n",
              "      <td>1</td>\n",
              "      <td>1976.0</td>\n",
              "      <td>2</td>\n",
              "      <td>460</td>\n",
              "      <td>298</td>\n",
              "      <td>0</td>\n",
              "      <td>0</td>\n",
              "      <td>0</td>\n",
              "      <td>0</td>\n",
              "      <td>0</td>\n",
              "      <td>0</td>\n",
              "      <td>5</td>\n",
              "      <td>2007</td>\n",
              "      <td>181500</td>\n",
              "      <td>0</td>\n",
              "      <td>0</td>\n",
              "      <td>1</td>\n",
              "      <td>...</td>\n",
              "      <td>0</td>\n",
              "      <td>0</td>\n",
              "      <td>0</td>\n",
              "      <td>0</td>\n",
              "      <td>1</td>\n",
              "      <td>0</td>\n",
              "      <td>0</td>\n",
              "      <td>0</td>\n",
              "      <td>1</td>\n",
              "      <td>1</td>\n",
              "      <td>0</td>\n",
              "      <td>0</td>\n",
              "      <td>0</td>\n",
              "      <td>0</td>\n",
              "      <td>0</td>\n",
              "      <td>1</td>\n",
              "      <td>0</td>\n",
              "      <td>0</td>\n",
              "      <td>0</td>\n",
              "      <td>0</td>\n",
              "      <td>1</td>\n",
              "      <td>0</td>\n",
              "      <td>0</td>\n",
              "      <td>0</td>\n",
              "      <td>1</td>\n",
              "      <td>0</td>\n",
              "      <td>1</td>\n",
              "      <td>0</td>\n",
              "      <td>0</td>\n",
              "      <td>0</td>\n",
              "      <td>0</td>\n",
              "      <td>0</td>\n",
              "      <td>0</td>\n",
              "      <td>0</td>\n",
              "      <td>1</td>\n",
              "      <td>0</td>\n",
              "      <td>0</td>\n",
              "      <td>0</td>\n",
              "      <td>1</td>\n",
              "      <td>0</td>\n",
              "    </tr>\n",
              "    <tr>\n",
              "      <th>2</th>\n",
              "      <td>60</td>\n",
              "      <td>68.0</td>\n",
              "      <td>11250</td>\n",
              "      <td>7</td>\n",
              "      <td>5</td>\n",
              "      <td>2001</td>\n",
              "      <td>2002</td>\n",
              "      <td>162.0</td>\n",
              "      <td>486</td>\n",
              "      <td>0</td>\n",
              "      <td>434</td>\n",
              "      <td>920</td>\n",
              "      <td>920</td>\n",
              "      <td>866</td>\n",
              "      <td>0</td>\n",
              "      <td>1786</td>\n",
              "      <td>1</td>\n",
              "      <td>0</td>\n",
              "      <td>2</td>\n",
              "      <td>1</td>\n",
              "      <td>3</td>\n",
              "      <td>1</td>\n",
              "      <td>6</td>\n",
              "      <td>1</td>\n",
              "      <td>2001.0</td>\n",
              "      <td>2</td>\n",
              "      <td>608</td>\n",
              "      <td>0</td>\n",
              "      <td>42</td>\n",
              "      <td>0</td>\n",
              "      <td>0</td>\n",
              "      <td>0</td>\n",
              "      <td>0</td>\n",
              "      <td>0</td>\n",
              "      <td>9</td>\n",
              "      <td>2008</td>\n",
              "      <td>223500</td>\n",
              "      <td>0</td>\n",
              "      <td>0</td>\n",
              "      <td>1</td>\n",
              "      <td>...</td>\n",
              "      <td>0</td>\n",
              "      <td>0</td>\n",
              "      <td>0</td>\n",
              "      <td>0</td>\n",
              "      <td>1</td>\n",
              "      <td>0</td>\n",
              "      <td>0</td>\n",
              "      <td>0</td>\n",
              "      <td>1</td>\n",
              "      <td>1</td>\n",
              "      <td>0</td>\n",
              "      <td>0</td>\n",
              "      <td>0</td>\n",
              "      <td>0</td>\n",
              "      <td>0</td>\n",
              "      <td>1</td>\n",
              "      <td>0</td>\n",
              "      <td>0</td>\n",
              "      <td>0</td>\n",
              "      <td>0</td>\n",
              "      <td>1</td>\n",
              "      <td>0</td>\n",
              "      <td>0</td>\n",
              "      <td>0</td>\n",
              "      <td>1</td>\n",
              "      <td>0</td>\n",
              "      <td>1</td>\n",
              "      <td>0</td>\n",
              "      <td>0</td>\n",
              "      <td>0</td>\n",
              "      <td>0</td>\n",
              "      <td>0</td>\n",
              "      <td>0</td>\n",
              "      <td>0</td>\n",
              "      <td>1</td>\n",
              "      <td>0</td>\n",
              "      <td>0</td>\n",
              "      <td>0</td>\n",
              "      <td>1</td>\n",
              "      <td>0</td>\n",
              "    </tr>\n",
              "    <tr>\n",
              "      <th>3</th>\n",
              "      <td>70</td>\n",
              "      <td>60.0</td>\n",
              "      <td>9550</td>\n",
              "      <td>7</td>\n",
              "      <td>5</td>\n",
              "      <td>1915</td>\n",
              "      <td>1970</td>\n",
              "      <td>0.0</td>\n",
              "      <td>216</td>\n",
              "      <td>0</td>\n",
              "      <td>540</td>\n",
              "      <td>756</td>\n",
              "      <td>961</td>\n",
              "      <td>756</td>\n",
              "      <td>0</td>\n",
              "      <td>1717</td>\n",
              "      <td>1</td>\n",
              "      <td>0</td>\n",
              "      <td>1</td>\n",
              "      <td>0</td>\n",
              "      <td>3</td>\n",
              "      <td>1</td>\n",
              "      <td>7</td>\n",
              "      <td>1</td>\n",
              "      <td>1998.0</td>\n",
              "      <td>3</td>\n",
              "      <td>642</td>\n",
              "      <td>0</td>\n",
              "      <td>35</td>\n",
              "      <td>272</td>\n",
              "      <td>0</td>\n",
              "      <td>0</td>\n",
              "      <td>0</td>\n",
              "      <td>0</td>\n",
              "      <td>2</td>\n",
              "      <td>2006</td>\n",
              "      <td>140000</td>\n",
              "      <td>0</td>\n",
              "      <td>0</td>\n",
              "      <td>1</td>\n",
              "      <td>...</td>\n",
              "      <td>0</td>\n",
              "      <td>0</td>\n",
              "      <td>0</td>\n",
              "      <td>0</td>\n",
              "      <td>1</td>\n",
              "      <td>0</td>\n",
              "      <td>1</td>\n",
              "      <td>0</td>\n",
              "      <td>0</td>\n",
              "      <td>0</td>\n",
              "      <td>0</td>\n",
              "      <td>0</td>\n",
              "      <td>0</td>\n",
              "      <td>1</td>\n",
              "      <td>0</td>\n",
              "      <td>0</td>\n",
              "      <td>1</td>\n",
              "      <td>0</td>\n",
              "      <td>0</td>\n",
              "      <td>0</td>\n",
              "      <td>1</td>\n",
              "      <td>0</td>\n",
              "      <td>0</td>\n",
              "      <td>0</td>\n",
              "      <td>1</td>\n",
              "      <td>0</td>\n",
              "      <td>1</td>\n",
              "      <td>0</td>\n",
              "      <td>0</td>\n",
              "      <td>0</td>\n",
              "      <td>0</td>\n",
              "      <td>0</td>\n",
              "      <td>0</td>\n",
              "      <td>0</td>\n",
              "      <td>1</td>\n",
              "      <td>0</td>\n",
              "      <td>0</td>\n",
              "      <td>0</td>\n",
              "      <td>0</td>\n",
              "      <td>0</td>\n",
              "    </tr>\n",
              "    <tr>\n",
              "      <th>4</th>\n",
              "      <td>60</td>\n",
              "      <td>84.0</td>\n",
              "      <td>14260</td>\n",
              "      <td>8</td>\n",
              "      <td>5</td>\n",
              "      <td>2000</td>\n",
              "      <td>2000</td>\n",
              "      <td>350.0</td>\n",
              "      <td>655</td>\n",
              "      <td>0</td>\n",
              "      <td>490</td>\n",
              "      <td>1145</td>\n",
              "      <td>1145</td>\n",
              "      <td>1053</td>\n",
              "      <td>0</td>\n",
              "      <td>2198</td>\n",
              "      <td>1</td>\n",
              "      <td>0</td>\n",
              "      <td>2</td>\n",
              "      <td>1</td>\n",
              "      <td>4</td>\n",
              "      <td>1</td>\n",
              "      <td>9</td>\n",
              "      <td>1</td>\n",
              "      <td>2000.0</td>\n",
              "      <td>3</td>\n",
              "      <td>836</td>\n",
              "      <td>192</td>\n",
              "      <td>84</td>\n",
              "      <td>0</td>\n",
              "      <td>0</td>\n",
              "      <td>0</td>\n",
              "      <td>0</td>\n",
              "      <td>0</td>\n",
              "      <td>12</td>\n",
              "      <td>2008</td>\n",
              "      <td>250000</td>\n",
              "      <td>0</td>\n",
              "      <td>0</td>\n",
              "      <td>1</td>\n",
              "      <td>...</td>\n",
              "      <td>0</td>\n",
              "      <td>0</td>\n",
              "      <td>0</td>\n",
              "      <td>0</td>\n",
              "      <td>1</td>\n",
              "      <td>0</td>\n",
              "      <td>0</td>\n",
              "      <td>0</td>\n",
              "      <td>1</td>\n",
              "      <td>1</td>\n",
              "      <td>0</td>\n",
              "      <td>0</td>\n",
              "      <td>0</td>\n",
              "      <td>0</td>\n",
              "      <td>0</td>\n",
              "      <td>1</td>\n",
              "      <td>0</td>\n",
              "      <td>0</td>\n",
              "      <td>0</td>\n",
              "      <td>0</td>\n",
              "      <td>1</td>\n",
              "      <td>0</td>\n",
              "      <td>0</td>\n",
              "      <td>0</td>\n",
              "      <td>1</td>\n",
              "      <td>0</td>\n",
              "      <td>1</td>\n",
              "      <td>0</td>\n",
              "      <td>0</td>\n",
              "      <td>0</td>\n",
              "      <td>0</td>\n",
              "      <td>0</td>\n",
              "      <td>0</td>\n",
              "      <td>0</td>\n",
              "      <td>1</td>\n",
              "      <td>0</td>\n",
              "      <td>0</td>\n",
              "      <td>0</td>\n",
              "      <td>1</td>\n",
              "      <td>0</td>\n",
              "    </tr>\n",
              "  </tbody>\n",
              "</table>\n",
              "<p>5 rows × 238 columns</p>\n",
              "</div>"
            ],
            "text/plain": [
              "   MSSubClass  LotFrontage  ...  SaleCondition_Normal  SaleCondition_Partial\n",
              "0          60         65.0  ...                     1                      0\n",
              "1          20         80.0  ...                     1                      0\n",
              "2          60         68.0  ...                     1                      0\n",
              "3          70         60.0  ...                     0                      0\n",
              "4          60         84.0  ...                     1                      0\n",
              "\n",
              "[5 rows x 238 columns]"
            ]
          },
          "metadata": {
            "tags": []
          },
          "execution_count": 14
        }
      ]
    },
    {
      "cell_type": "markdown",
      "metadata": {
        "id": "jUi0W-A0I1D8"
      },
      "source": [
        "#### Regresión lineal con statsmodel"
      ]
    },
    {
      "cell_type": "code",
      "metadata": {
        "id": "mKeKKnUhIgno"
      },
      "source": [
        "import statsmodels.formula.api as smf"
      ],
      "execution_count": null,
      "outputs": []
    },
    {
      "cell_type": "code",
      "metadata": {
        "id": "p0Jm2IeJIhND"
      },
      "source": [
        "lm = smf.ols(formula=\"SalePrice~LotArea\", data = df_train_regresion).fit()"
      ],
      "execution_count": null,
      "outputs": []
    },
    {
      "cell_type": "code",
      "metadata": {
        "colab": {
          "base_uri": "https://localhost:8080/",
          "height": 478
        },
        "id": "P2oG-wotIhWR",
        "outputId": "0383982d-e12f-428d-98b4-ab82a29cd50a"
      },
      "source": [
        "lm.summary()"
      ],
      "execution_count": null,
      "outputs": [
        {
          "output_type": "execute_result",
          "data": {
            "text/html": [
              "<table class=\"simpletable\">\n",
              "<caption>OLS Regression Results</caption>\n",
              "<tr>\n",
              "  <th>Dep. Variable:</th>        <td>SalePrice</td>    <th>  R-squared:         </th> <td>   0.070</td> \n",
              "</tr>\n",
              "<tr>\n",
              "  <th>Model:</th>                   <td>OLS</td>       <th>  Adj. R-squared:    </th> <td>   0.069</td> \n",
              "</tr>\n",
              "<tr>\n",
              "  <th>Method:</th>             <td>Least Squares</td>  <th>  F-statistic:       </th> <td>   109.1</td> \n",
              "</tr>\n",
              "<tr>\n",
              "  <th>Date:</th>             <td>Thu, 20 May 2021</td> <th>  Prob (F-statistic):</th> <td>1.12e-24</td> \n",
              "</tr>\n",
              "<tr>\n",
              "  <th>Time:</th>                 <td>19:01:20</td>     <th>  Log-Likelihood:    </th> <td> -18491.</td> \n",
              "</tr>\n",
              "<tr>\n",
              "  <th>No. Observations:</th>      <td>  1460</td>      <th>  AIC:               </th> <td>3.699e+04</td>\n",
              "</tr>\n",
              "<tr>\n",
              "  <th>Df Residuals:</th>          <td>  1458</td>      <th>  BIC:               </th> <td>3.700e+04</td>\n",
              "</tr>\n",
              "<tr>\n",
              "  <th>Df Model:</th>              <td>     1</td>      <th>                     </th>     <td> </td>    \n",
              "</tr>\n",
              "<tr>\n",
              "  <th>Covariance Type:</th>      <td>nonrobust</td>    <th>                     </th>     <td> </td>    \n",
              "</tr>\n",
              "</table>\n",
              "<table class=\"simpletable\">\n",
              "<tr>\n",
              "      <td></td>         <th>coef</th>     <th>std err</th>      <th>t</th>      <th>P>|t|</th>  <th>[0.025</th>    <th>0.975]</th>  \n",
              "</tr>\n",
              "<tr>\n",
              "  <th>Intercept</th> <td> 1.588e+05</td> <td> 2914.717</td> <td>   54.495</td> <td> 0.000</td> <td> 1.53e+05</td> <td> 1.65e+05</td>\n",
              "</tr>\n",
              "<tr>\n",
              "  <th>LotArea</th>   <td>    2.1000</td> <td>    0.201</td> <td>   10.445</td> <td> 0.000</td> <td>    1.706</td> <td>    2.494</td>\n",
              "</tr>\n",
              "</table>\n",
              "<table class=\"simpletable\">\n",
              "<tr>\n",
              "  <th>Omnibus:</th>       <td>587.660</td> <th>  Durbin-Watson:     </th> <td>   1.998</td>\n",
              "</tr>\n",
              "<tr>\n",
              "  <th>Prob(Omnibus):</th> <td> 0.000</td>  <th>  Jarque-Bera (JB):  </th> <td>3374.003</td>\n",
              "</tr>\n",
              "<tr>\n",
              "  <th>Skew:</th>          <td> 1.788</td>  <th>  Prob(JB):          </th> <td>    0.00</td>\n",
              "</tr>\n",
              "<tr>\n",
              "  <th>Kurtosis:</th>      <td> 9.532</td>  <th>  Cond. No.          </th> <td>2.11e+04</td>\n",
              "</tr>\n",
              "</table><br/><br/>Warnings:<br/>[1] Standard Errors assume that the covariance matrix of the errors is correctly specified.<br/>[2] The condition number is large, 2.11e+04. This might indicate that there are<br/>strong multicollinearity or other numerical problems."
            ],
            "text/plain": [
              "<class 'statsmodels.iolib.summary.Summary'>\n",
              "\"\"\"\n",
              "                            OLS Regression Results                            \n",
              "==============================================================================\n",
              "Dep. Variable:              SalePrice   R-squared:                       0.070\n",
              "Model:                            OLS   Adj. R-squared:                  0.069\n",
              "Method:                 Least Squares   F-statistic:                     109.1\n",
              "Date:                Thu, 20 May 2021   Prob (F-statistic):           1.12e-24\n",
              "Time:                        19:01:20   Log-Likelihood:                -18491.\n",
              "No. Observations:                1460   AIC:                         3.699e+04\n",
              "Df Residuals:                    1458   BIC:                         3.700e+04\n",
              "Df Model:                           1                                         \n",
              "Covariance Type:            nonrobust                                         \n",
              "==============================================================================\n",
              "                 coef    std err          t      P>|t|      [0.025      0.975]\n",
              "------------------------------------------------------------------------------\n",
              "Intercept   1.588e+05   2914.717     54.495      0.000    1.53e+05    1.65e+05\n",
              "LotArea        2.1000      0.201     10.445      0.000       1.706       2.494\n",
              "==============================================================================\n",
              "Omnibus:                      587.660   Durbin-Watson:                   1.998\n",
              "Prob(Omnibus):                  0.000   Jarque-Bera (JB):             3374.003\n",
              "Skew:                           1.788   Prob(JB):                         0.00\n",
              "Kurtosis:                       9.532   Cond. No.                     2.11e+04\n",
              "==============================================================================\n",
              "\n",
              "Warnings:\n",
              "[1] Standard Errors assume that the covariance matrix of the errors is correctly specified.\n",
              "[2] The condition number is large, 2.11e+04. This might indicate that there are\n",
              "strong multicollinearity or other numerical problems.\n",
              "\"\"\""
            ]
          },
          "metadata": {
            "tags": []
          },
          "execution_count": 18
        }
      ]
    },
    {
      "cell_type": "markdown",
      "metadata": {
        "id": "AVyoSFw3KxPG"
      },
      "source": [
        "El modelo lineal predictivo sería : **SalePrice = 158800 + 2.1 * LotArea**"
      ]
    },
    {
      "cell_type": "markdown",
      "metadata": {
        "id": "iSLHNtWhNIfL"
      },
      "source": [
        "<p align=\"justify\">\n",
        "Como se muestra en el resumen el p-valor tanto para la constante como para la variable independiente LotArea son significativos ya que son menores al 0.005 con lo cual rechazamos la hipótesis nula, y aceptamos la alternativa de que los parámetros son significativos para el modelo\n",
        "</p>"
      ]
    },
    {
      "cell_type": "code",
      "metadata": {
        "id": "nRpa96iXIhqf"
      },
      "source": [
        "sales_pred = lm.predict(pd.DataFrame(df_train_regresion[\"LotArea\"]))"
      ],
      "execution_count": null,
      "outputs": []
    },
    {
      "cell_type": "code",
      "metadata": {
        "colab": {
          "base_uri": "https://localhost:8080/",
          "height": 279
        },
        "id": "p5KsYGXvNuGZ",
        "outputId": "8abfcea4-738f-4076-9017-5502e77f3445"
      },
      "source": [
        "sns.regplot(x=df_train_regresion[\"SalePrice\"], y=sales_pred)\n",
        "plt.show()"
      ],
      "execution_count": null,
      "outputs": [
        {
          "output_type": "display_data",
          "data": {
            "image/png": "[encoded data removed]",
            "text/plain": [
              "<Figure size 432x288 with 1 Axes>"
            ]
          },
          "metadata": {
            "tags": [],
            "needs_background": "light"
          }
        }
      ]
    },
    {
      "cell_type": "markdown",
      "metadata": {
        "id": "5bXgU9RwOfcj"
      },
      "source": [
        "<p align=\"justify\">\n",
        "Podemos ver que tenemos un R cuadrado de 0.070 muy cercano a cero, lo que quiere decir que es un muy mal modelo para predecir \n",
        "</p>"
      ]
    },
    {
      "cell_type": "markdown",
      "metadata": {
        "id": "-PL6OiVGQMHN"
      },
      "source": [
        "#### Regresión lineal múltiple con statsmodel"
      ]
    },
    {
      "cell_type": "code",
      "metadata": {
        "id": "PwA01TrBPRtx"
      },
      "source": [
        "lm = smf.ols(formula=\"SalePrice~LotArea+OverallQual+OverallCond+YearBuilt\", data = df_train_regresion).fit()"
      ],
      "execution_count": null,
      "outputs": []
    },
    {
      "cell_type": "code",
      "metadata": {
        "colab": {
          "base_uri": "https://localhost:8080/",
          "height": 541
        },
        "id": "X7q0leRePR-2",
        "outputId": "d227f0a5-7233-4d45-9853-27f141b672e2"
      },
      "source": [
        "lm.summary()"
      ],
      "execution_count": null,
      "outputs": [
        {
          "output_type": "execute_result",
          "data": {
            "text/html": [
              "<table class=\"simpletable\">\n",
              "<caption>OLS Regression Results</caption>\n",
              "<tr>\n",
              "  <th>Dep. Variable:</th>        <td>SalePrice</td>    <th>  R-squared:         </th> <td>   0.669</td> \n",
              "</tr>\n",
              "<tr>\n",
              "  <th>Model:</th>                   <td>OLS</td>       <th>  Adj. R-squared:    </th> <td>   0.668</td> \n",
              "</tr>\n",
              "<tr>\n",
              "  <th>Method:</th>             <td>Least Squares</td>  <th>  F-statistic:       </th> <td>   735.0</td> \n",
              "</tr>\n",
              "<tr>\n",
              "  <th>Date:</th>             <td>Thu, 20 May 2021</td> <th>  Prob (F-statistic):</th>  <td>  0.00</td>  \n",
              "</tr>\n",
              "<tr>\n",
              "  <th>Time:</th>                 <td>19:32:35</td>     <th>  Log-Likelihood:    </th> <td> -17737.</td> \n",
              "</tr>\n",
              "<tr>\n",
              "  <th>No. Observations:</th>      <td>  1460</td>      <th>  AIC:               </th> <td>3.548e+04</td>\n",
              "</tr>\n",
              "<tr>\n",
              "  <th>Df Residuals:</th>          <td>  1455</td>      <th>  BIC:               </th> <td>3.551e+04</td>\n",
              "</tr>\n",
              "<tr>\n",
              "  <th>Df Model:</th>              <td>     4</td>      <th>                     </th>     <td> </td>    \n",
              "</tr>\n",
              "<tr>\n",
              "  <th>Covariance Type:</th>      <td>nonrobust</td>    <th>                     </th>     <td> </td>    \n",
              "</tr>\n",
              "</table>\n",
              "<table class=\"simpletable\">\n",
              "<tr>\n",
              "       <td></td>          <th>coef</th>     <th>std err</th>      <th>t</th>      <th>P>|t|</th>  <th>[0.025</th>    <th>0.975]</th>  \n",
              "</tr>\n",
              "<tr>\n",
              "  <th>Intercept</th>   <td>-7.984e+05</td> <td> 1.03e+05</td> <td>   -7.733</td> <td> 0.000</td> <td>   -1e+06</td> <td>-5.96e+05</td>\n",
              "</tr>\n",
              "<tr>\n",
              "  <th>LotArea</th>     <td>    1.4995</td> <td>    0.121</td> <td>   12.397</td> <td> 0.000</td> <td>    1.262</td> <td>    1.737</td>\n",
              "</tr>\n",
              "<tr>\n",
              "  <th>OverallQual</th> <td> 4.003e+04</td> <td> 1078.727</td> <td>   37.107</td> <td> 0.000</td> <td> 3.79e+04</td> <td> 4.21e+04</td>\n",
              "</tr>\n",
              "<tr>\n",
              "  <th>OverallCond</th> <td> 2736.3660</td> <td> 1177.978</td> <td>    2.323</td> <td> 0.020</td> <td>  425.649</td> <td> 5047.083</td>\n",
              "</tr>\n",
              "<tr>\n",
              "  <th>YearBuilt</th>   <td>  357.2131</td> <td>   52.788</td> <td>    6.767</td> <td> 0.000</td> <td>  253.665</td> <td>  460.761</td>\n",
              "</tr>\n",
              "</table>\n",
              "<table class=\"simpletable\">\n",
              "<tr>\n",
              "  <th>Omnibus:</th>       <td>654.236</td> <th>  Durbin-Watson:     </th> <td>   1.979</td>\n",
              "</tr>\n",
              "<tr>\n",
              "  <th>Prob(Omnibus):</th> <td> 0.000</td>  <th>  Jarque-Bera (JB):  </th> <td>9410.160</td>\n",
              "</tr>\n",
              "<tr>\n",
              "  <th>Skew:</th>          <td> 1.700</td>  <th>  Prob(JB):          </th> <td>    0.00</td>\n",
              "</tr>\n",
              "<tr>\n",
              "  <th>Kurtosis:</th>      <td>14.964</td>  <th>  Cond. No.          </th> <td>1.26e+06</td>\n",
              "</tr>\n",
              "</table><br/><br/>Warnings:<br/>[1] Standard Errors assume that the covariance matrix of the errors is correctly specified.<br/>[2] The condition number is large, 1.26e+06. This might indicate that there are<br/>strong multicollinearity or other numerical problems."
            ],
            "text/plain": [
              "<class 'statsmodels.iolib.summary.Summary'>\n",
              "\"\"\"\n",
              "                            OLS Regression Results                            \n",
              "==============================================================================\n",
              "Dep. Variable:              SalePrice   R-squared:                       0.669\n",
              "Model:                            OLS   Adj. R-squared:                  0.668\n",
              "Method:                 Least Squares   F-statistic:                     735.0\n",
              "Date:                Thu, 20 May 2021   Prob (F-statistic):               0.00\n",
              "Time:                        19:32:35   Log-Likelihood:                -17737.\n",
              "No. Observations:                1460   AIC:                         3.548e+04\n",
              "Df Residuals:                    1455   BIC:                         3.551e+04\n",
              "Df Model:                           4                                         \n",
              "Covariance Type:            nonrobust                                         \n",
              "===============================================================================\n",
              "                  coef    std err          t      P>|t|      [0.025      0.975]\n",
              "-------------------------------------------------------------------------------\n",
              "Intercept   -7.984e+05   1.03e+05     -7.733      0.000      -1e+06   -5.96e+05\n",
              "LotArea         1.4995      0.121     12.397      0.000       1.262       1.737\n",
              "OverallQual  4.003e+04   1078.727     37.107      0.000    3.79e+04    4.21e+04\n",
              "OverallCond  2736.3660   1177.978      2.323      0.020     425.649    5047.083\n",
              "YearBuilt     357.2131     52.788      6.767      0.000     253.665     460.761\n",
              "==============================================================================\n",
              "Omnibus:                      654.236   Durbin-Watson:                   1.979\n",
              "Prob(Omnibus):                  0.000   Jarque-Bera (JB):             9410.160\n",
              "Skew:                           1.700   Prob(JB):                         0.00\n",
              "Kurtosis:                      14.964   Cond. No.                     1.26e+06\n",
              "==============================================================================\n",
              "\n",
              "Warnings:\n",
              "[1] Standard Errors assume that the covariance matrix of the errors is correctly specified.\n",
              "[2] The condition number is large, 1.26e+06. This might indicate that there are\n",
              "strong multicollinearity or other numerical problems.\n",
              "\"\"\""
            ]
          },
          "metadata": {
            "tags": []
          },
          "execution_count": 36
        }
      ]
    },
    {
      "cell_type": "code",
      "metadata": {
        "id": "NGgETm06PSCg"
      },
      "source": [
        "sales_pred = lm.predict(df_train_regresion[[\"LotArea\", \"OverallQual\", \"OverallCond\", \"YearBuilt\"]])"
      ],
      "execution_count": null,
      "outputs": []
    },
    {
      "cell_type": "code",
      "metadata": {
        "colab": {
          "base_uri": "https://localhost:8080/",
          "height": 279
        },
        "id": "KZVfkPluPSGJ",
        "outputId": "6e3abdec-a977-44ec-c8e4-f8f0b4bd3037"
      },
      "source": [
        "sns.regplot(x=df_train_regresion[\"SalePrice\"], y=sales_pred)\n",
        "plt.show()"
      ],
      "execution_count": null,
      "outputs": [
        {
          "output_type": "display_data",
          "data": {
            "image/png": "[encoded data removed]",
            "text/plain": [
              "<Figure size 432x288 with 1 Axes>"
            ]
          },
          "metadata": {
            "tags": [],
            "needs_background": "light"
          }
        }
      ]
    },
    {
      "cell_type": "code",
      "metadata": {
        "colab": {
          "base_uri": "https://localhost:8080/"
        },
        "id": "TnL7mc3xPSKK",
        "outputId": "236a5604-6d70-4500-c05f-5c1c89a15c14"
      },
      "source": [
        "SSD = sum((df_train_regresion[\"SalePrice\"]-sales_pred)**2)\n",
        "SSD"
      ],
      "execution_count": null,
      "outputs": [
        {
          "output_type": "execute_result",
          "data": {
            "text/plain": [
              "3048473274872.8145"
            ]
          },
          "metadata": {
            "tags": []
          },
          "execution_count": 40
        }
      ]
    },
    {
      "cell_type": "code",
      "metadata": {
        "colab": {
          "base_uri": "https://localhost:8080/"
        },
        "id": "oIdDUCcSPSPp",
        "outputId": "fa475787-a647-4857-d4d3-8f554d7bc2da"
      },
      "source": [
        "RSE = np.sqrt(SSD/(len(df_train_regresion)-4-1))\n",
        "RSE"
      ],
      "execution_count": null,
      "outputs": [
        {
          "output_type": "execute_result",
          "data": {
            "text/plain": [
              "45773.033935401516"
            ]
          },
          "metadata": {
            "tags": []
          },
          "execution_count": 42
        }
      ]
    },
    {
      "cell_type": "code",
      "metadata": {
        "colab": {
          "base_uri": "https://localhost:8080/"
        },
        "id": "2doul0ZqPSUh",
        "outputId": "7cc379bf-2167-42b8-c6f5-19d2ea2f7ccb"
      },
      "source": [
        "error = RSE / np.mean(df_train_regresion[\"SalePrice\"])\n",
        "error"
      ],
      "execution_count": null,
      "outputs": [
        {
          "output_type": "execute_result",
          "data": {
            "text/plain": [
              "0.25299984178264845"
            ]
          },
          "metadata": {
            "tags": []
          },
          "execution_count": 45
        }
      ]
    },
    {
      "cell_type": "markdown",
      "metadata": {
        "id": "ryNSZjPvS7Ou"
      },
      "source": [
        "<p align=\"justify\">\n",
        "EL modelo mejora mucho al incluir nuevas variables, todos sus p valores son menores a 0.05, y vemos que todos sus parámetros son significativos, tenemos un R cuadrado de 0.66 y un error de 0.25(Lo cual significa que hay un 25 % de varianza del modelo que no queda explicada),\n",
        "</p>"
      ]
    },
    {
      "cell_type": "markdown",
      "metadata": {
        "id": "IP0py6QtHdNg"
      },
      "source": [
        "#### Predicción para los bosques aleatorios de regresión"
      ]
    },
    {
      "cell_type": "markdown",
      "metadata": {
        "id": "4QcOlZlDfuLd"
      },
      "source": [
        "#### Dividir el set de datos en entrenamiento y testing"
      ]
    },
    {
      "cell_type": "code",
      "metadata": {
        "id": "eqBldRCvHIc2"
      },
      "source": [
        "y = df_train_regresion['SalePrice']"
      ],
      "execution_count": null,
      "outputs": []
    },
    {
      "cell_type": "code",
      "metadata": {
        "id": "DkEIautEHoW_"
      },
      "source": [
        "x = df_train_regresion[[v for v in df_train_regresion.columns.values.tolist() if v not in [\"SalePrice\"]]]"
      ],
      "execution_count": null,
      "outputs": []
    },
    {
      "cell_type": "code",
      "metadata": {
        "id": "1Fm_Sl_EZZ1l"
      },
      "source": [
        "from sklearn.model_selection import train_test_split"
      ],
      "execution_count": null,
      "outputs": []
    },
    {
      "cell_type": "code",
      "metadata": {
        "id": "mZmp_OXjHxiL"
      },
      "source": [
        "x_train, x_test, y_train, y_test = train_test_split(x, y, test_size=0.20, random_state=1)"
      ],
      "execution_count": null,
      "outputs": []
    },
    {
      "cell_type": "code",
      "metadata": {
        "id": "YbycCPqlHupW"
      },
      "source": [
        "from sklearn.model_selection import KFold\n",
        "from sklearn.model_selection import cross_val_score\n",
        "from sklearn.ensemble import RandomForestRegressor\n",
        "import numpy as np"
      ],
      "execution_count": null,
      "outputs": []
    },
    {
      "cell_type": "code",
      "metadata": {
        "colab": {
          "base_uri": "https://localhost:8080/"
        },
        "id": "0htgFDQFIGU-",
        "outputId": "aa5c9231-258e-47f0-f112-ee454f898dbf"
      },
      "source": [
        "regforest = RandomForestRegressor(n_jobs=2, oob_score=True, n_estimators=10000)\n",
        "regforest.fit(x_train, y_train)"
      ],
      "execution_count": null,
      "outputs": [
        {
          "output_type": "execute_result",
          "data": {
            "text/plain": [
              "RandomForestRegressor(bootstrap=True, ccp_alpha=0.0, criterion='mse',\n",
              "                      max_depth=None, max_features='auto', max_leaf_nodes=None,\n",
              "                      max_samples=None, min_impurity_decrease=0.0,\n",
              "                      min_impurity_split=None, min_samples_leaf=1,\n",
              "                      min_samples_split=2, min_weight_fraction_leaf=0.0,\n",
              "                      n_estimators=10000, n_jobs=2, oob_score=True,\n",
              "                      random_state=None, verbose=0, warm_start=False)"
            ]
          },
          "metadata": {
            "tags": []
          },
          "execution_count": 24
        }
      ]
    },
    {
      "cell_type": "code",
      "metadata": {
        "id": "WQ0nfFl9IJpo"
      },
      "source": [
        "preds = regforest.predict(x_test)"
      ],
      "execution_count": null,
      "outputs": []
    },
    {
      "cell_type": "code",
      "metadata": {
        "id": "xQevjxZQJG7j"
      },
      "source": [
        "cv = KFold(n_splits = 10, shuffle=True, random_state=1)"
      ],
      "execution_count": null,
      "outputs": []
    },
    {
      "cell_type": "markdown",
      "metadata": {
        "id": "YCEBqmljKzZ8"
      },
      "source": [
        "**R cuadrado**"
      ]
    },
    {
      "cell_type": "code",
      "metadata": {
        "id": "4vEylDkgJKIP"
      },
      "source": [
        "scores = cross_val_score(regforest, x_test, y_test, scoring=\"r2\", cv = cv, n_jobs=1)"
      ],
      "execution_count": null,
      "outputs": []
    },
    {
      "cell_type": "code",
      "metadata": {
        "colab": {
          "base_uri": "https://localhost:8080/"
        },
        "id": "aaKKgydsJXHD",
        "outputId": "53c7a9b6-f81c-41fc-e49f-909fb5dabc83"
      },
      "source": [
        "score = np.mean(scores)\n",
        "print(score)"
      ],
      "execution_count": null,
      "outputs": [
        {
          "output_type": "stream",
          "text": [
            "0.8554680084636062\n"
          ],
          "name": "stdout"
        }
      ]
    },
    {
      "cell_type": "markdown",
      "metadata": {
        "id": "KZ132Ob0Lv1g"
      },
      "source": [
        "<p align=\"justify\">\n",
        "El coeficiente de determinación es la proporción de la varianza total de la variable explicada por la regresión. El coeficiente de determinación, también llamado R cuadrado, refleja la bondad del ajuste de un modelo a la variable que pretender explicar. Es importante saber que el resultado del coeficiente de determinación oscila entre 0 y 1. Cuanto más cerca de 1 se sitúe su valor, mayor será el ajuste del modelo a la variable que estamos intentando explicar. De forma inversa, cuanto más cerca de cero, menos ajustado estará el modelo y, por tanto, menos fiable será.\n",
        "</p>"
      ]
    },
    {
      "cell_type": "markdown",
      "metadata": {
        "id": "HIJr1rDvQkOQ"
      },
      "source": [
        "### 5. Representación de los resultados "
      ]
    },
    {
      "cell_type": "code",
      "metadata": {
        "colab": {
          "base_uri": "https://localhost:8080/",
          "height": 279
        },
        "id": "ATq1YNG4RDDN",
        "outputId": "45194cf9-8b63-4344-c500-3a3a8dd9e67f"
      },
      "source": [
        "sns.regplot(x=y_test, y=preds)\n",
        "plt.show()"
      ],
      "execution_count": null,
      "outputs": [
        {
          "output_type": "display_data",
          "data": {
            "image/png": "[encoded data removed]",
            "text/plain": [
              "<Figure size 432x288 with 1 Axes>"
            ]
          },
          "metadata": {
            "tags": [],
            "needs_background": "light"
          }
        }
      ]
    },
    {
      "cell_type": "markdown",
      "metadata": {
        "id": "jbZ0kIVtPuCV"
      },
      "source": [
        "**Conclusión**"
      ]
    },
    {
      "cell_type": "markdown",
      "metadata": {
        "id": "KtcYGYVcPhCk"
      },
      "source": [
        "<p align=\"justify\">\n",
        "Los bosques aleatorios hacen mejor trabajo al predecir ya que promedian los resultados del conjunto de árboles porque tienen en cuenta la decisión de la mayoría por voto, porque funcionan mejor?, es simple porque al ir tomando más y más modelos en consideración se maximiza la reducción de la varianza, donde la varianza queda dividida por raíz de n donde n es el número de árboles que se utilizan y por tanto al tomar una muestra aleatoria simple de valores y al ir creando árboles y arboles al final el hecho de que puedas crear un mal árbol queda compensado por la mejoría en el resto de árboles y el error va quedando dividido al ir metiendo más y más árboles en el bosque , también al tomar una muestra aleatoria simple de variables predictoras para crear el árbol hace que cada árbol sean independiente de los demás, random forest es un algoritmo donde todas las variables de un set de datos son utilizadas óptimamente, en la gran mayoría de algoritmos de machine learning buscamos las variables que sean más importantes para hacer una predicción sin embargo en el caso de un random forest como la selección es aleatoria en las variables al final resulta que las prediciones que lleva a cabo cada árbol se calculan en base a particiones locales, donde algunas de las variables no son importantes en forma global, pero se convierten en significantes en el árbol que se utilizan de modo que así en combinación cada variable saca a relucir todo su potencial, es una técnica donde todo el set de datos se optimiza en forma global y se acaba tomado en cuenta en la generación del bosque esto ayuda a reducir el sesgo que suele aparecer  cuando existe la dependencia de un par de las variables predictoras que acaban dominando por encima del resto como sucede en los árboles de decisión y de regresión.\n",
        "\n",
        "</p>"
      ]
    },
    {
      "cell_type": "markdown",
      "metadata": {
        "id": "XVbVwN1_cWUA"
      },
      "source": [
        "### 6. Resolución del problema. A partir de los resultados obtenidos, ¿cuáles son las conclusiones? ¿Los resultados permiten responder al problema?"
      ]
    },
    {
      "cell_type": "markdown",
      "metadata": {
        "id": "cMW70VNBsArT"
      },
      "source": [
        "<p align=\"justify\">\n",
        "El objetivo era construir un modelo que realice una buena predicción a los precios de venta, podemos ver que la predicción utilizando un algoritmo de bosques aleatorios de regresión aplicando la técnica de validación cruzado arrojo muy buenos resultados, Un R cuadrado de 0.85. La variabilidad total de los datos SST (sumatoria de las diferencias al cuadrado de la variable dependiente observada y su media) se pueden descomponer en Explicado SSR (sumatoria de las diferencias al cuadrado del valor predicho y su media) y no explicado SSE (sumatoria de las diferencias al cuadrado entre el valor observado y el pavor predicho), se puede destacar que a menor SSR será mejor será la regresión, en estadística la medida de uso amplio que describa cuan poderosa es una regresión se denomina R cuadrado y equivale a la variabilidad explicada por la regresión SSR dividida entre la variabilidad total SST, es una medida relativa y toma valores entre cero y uno, si un R cuadro es cero significa que la recta de regresión no explica la variabilidad de los datos, mientras q un R cuadrado de uno significaría que el modelo explica toda la variabilidad de los datos, las regresiones que explican toda la variabilidad son raras, lo q usualmente se ve son valores entre 0.2 y 0.9, entonces aquí surge una pregunta de cuanto es un buen r cuadrado, y la respuesta es que no hay una regla definitiva para eso, depende de la complejidad del problema y de cuantas variables están en juego. Para este caso tenemos un R cuadrado de 0.85 esto quiere decir que todas las variables del conjunto de datos explican en un 85% la variabilidad de los datos de la variable SalePrice con lo cual concluimos que es un buen modelo para predecir.\n",
        "</p>"
      ]
    }
  ]
}